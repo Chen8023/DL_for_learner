{
 "cells": [
  {
   "cell_type": "code",
   "execution_count": 1,
   "metadata": {},
   "outputs": [
    {
     "name": "stderr",
     "output_type": "stream",
     "text": [
      "/usr/local/lib/python3.5/dist-packages/h5py/__init__.py:36: FutureWarning: Conversion of the second argument of issubdtype from `float` to `np.floating` is deprecated. In future, it will be treated as `np.float64 == np.dtype(float).type`.\n",
      "  from ._conv import register_converters as _register_converters\n"
     ]
    }
   ],
   "source": [
    "import tensorflow as tf\n",
    "import numpy as np\n",
    "import math\n",
    "import os\n",
    "os.sys.path.append(os.path.dirname(os.path.abspath('..')))"
   ]
  },
  {
   "cell_type": "code",
   "execution_count": 2,
   "metadata": {},
   "outputs": [
    {
     "name": "stdout",
     "output_type": "stream",
     "text": [
      "\n",
      "WARNING: The TensorFlow contrib module will not be included in TensorFlow 2.0.\n",
      "For more information, please see:\n",
      "  * https://github.com/tensorflow/community/blob/master/rfcs/20180907-contrib-sunset.md\n",
      "  * https://github.com/tensorflow/addons\n",
      "If you depend on functionality not listed there, please file an issue.\n",
      "\n"
     ]
    }
   ],
   "source": [
    "def get_default_params():\n",
    "    return tf.contrib.training.HParams(\n",
    "        emb_size=64,\n",
    "        t_size=50,\n",
    "        lstm_size=[32, 32],\n",
    "        lstm_layers=2,\n",
    "        fc_size=32,\n",
    "        dropout_rate=0.2,\n",
    "        batch_size=64,\n",
    "        grad_thresh=1.0,    # 梯度阈值\n",
    "        lr=0.001,\n",
    "        cnt_thresh=10,    # 词的频率阈值\n",
    "    )\n",
    "\n",
    "\n",
    "params = get_default_params()\n",
    "\n",
    "# 分词后的文件\n",
    "seg_train_file = 'cnews.seg_train.txt'\n",
    "seg_val_file = 'cnews.seg_val.txt'\n",
    "seg_test_file = 'cnews.seg_test.txt'\n",
    "# 词表\n",
    "vocal_table = 'cnews.vocal.txt'\n",
    "# 类别表\n",
    "cat_file = 'cnews.cat.txt'\n",
    "# 输出路径\n",
    "out_path = './out'\n",
    "\n",
    "if not os.path.exists(out_path):\n",
    "    os.mkdir(out_path)"
   ]
  },
  {
   "cell_type": "markdown",
   "metadata": {},
   "source": [
    "## 数据封装\n",
    "对于非结构化数据，数据部分的处理才是最麻烦的。为了便于管理，定义数据类是很有必要的。这里分为两块，第一块是用于编码的数据类，第二块是用于神经网络的数据类，类似于之前的```CifarData```，主要API为```next_batch```。\n",
    "\n",
    "第一块数据类，用于对文本数据encoding和decoding，详见```../NLP/vocab.py```："
   ]
  },
  {
   "cell_type": "code",
   "execution_count": 3,
   "metadata": {},
   "outputs": [],
   "source": [
    "from NLP.vocab import Vocab\n",
    "\n",
    "# test\n",
    "# voc_cls = Vocab(vocal_table, params.cnt_thresh)\n",
    "# print(voc_cls.size)\n",
    "# print(voc_cls.word2id('的'))    # 该句应该返回2\n",
    "# print(voc_cls.s2id('的 在 了 是'))    # 该句应该返回[2,4,6,7]"
   ]
  },
  {
   "cell_type": "code",
   "execution_count": 4,
   "metadata": {},
   "outputs": [],
   "source": [
    "class CatDict:\n",
    "    '''\n",
    "    对类别做编码的数据类\n",
    "    '''\n",
    "    def __init__(self, cat_file):\n",
    "        '''\n",
    "        cat_file: 类别文件\n",
    "        '''\n",
    "        self._cat2id = dict()\n",
    "        self._load_table(cat_file)\n",
    "\n",
    "    def _load_table(self, filename):\n",
    "        with open(filename, 'r', encoding='utf-8') as fd:\n",
    "            data = fd.readlines()\n",
    "\n",
    "        for line in data:\n",
    "            idx, cat, _ = line.split('\\t')\n",
    "            self._cat2id[cat] = int(idx)\n",
    "\n",
    "    def cat2id(self, cat):\n",
    "        if cat not in self._cat2id:\n",
    "            raise Exception('{} is not in cat'.format(cat))\n",
    "        else:\n",
    "            return self._cat2id[cat]\n",
    "\n",
    "# test\n",
    "# cat_dict=CatDict(cat_file)\n",
    "# print(cat_dict.cat2id('时尚'))    # 此句应该输出1"
   ]
  },
  {
   "cell_type": "markdown",
   "metadata": {},
   "source": [
    "第二块数据类，用于产生格式化的batch数据："
   ]
  },
  {
   "cell_type": "code",
   "execution_count": 5,
   "metadata": {},
   "outputs": [
    {
     "name": "stdout",
     "output_type": "stream",
     "text": [
      "(50000, 50) (50000,)\n",
      "(5000, 50) (5000,)\n",
      "(10000, 50) (10000,)\n"
     ]
    }
   ],
   "source": [
    "class TextData:\n",
    "    def __init__(self, filename, vocal, cat_dict, t_size=30, batch_size=32, shuffle=True):\n",
    "        '''\n",
    "        filename: 导入的源文件，以该源文件生成格式化数据\n",
    "        vocal: 词典类\n",
    "        cat_dict: 类别类\n",
    "        t_size: \n",
    "        '''\n",
    "        self._data = list()\n",
    "        self._target = list()\n",
    "        self._n_samples = 0\n",
    "\n",
    "        self._idx = 0  # mini-batch的游标\n",
    "        self._batch_size = batch_size\n",
    "\n",
    "        self._vocal = vocal\n",
    "        self._cat_dict = cat_dict\n",
    "        self._t_size = t_size\n",
    "\n",
    "        self._load_data(filename)\n",
    "\n",
    "        if shuffle:\n",
    "            self._shuffle_data()\n",
    "\n",
    "        print(self._data.shape, self._target.shape)\n",
    "\n",
    "    def _load_data(self, filename):\n",
    "        with open(filename, 'r', encoding='utf-8') as fd:\n",
    "            text = fd.readlines()\n",
    "\n",
    "        for line in text:\n",
    "            label, content = line.strip().split('\\t')\n",
    "            y = self._cat_dict.cat2id(label)\n",
    "            x = self._vocal.s2id(content)\n",
    "\n",
    "            x = x[:self._t_size]\n",
    "            n_pad = self._t_size-len(x)    # 需要填充的位数\n",
    "            x = x+[self._vocal.unk for _ in range(n_pad)]\n",
    "\n",
    "            self._data.append(x)\n",
    "            self._target.append(y)\n",
    "\n",
    "        self._data = np.array(self._data)\n",
    "        self._target = np.array(self._target)\n",
    "        self._n_samples = self._data.shape[0]\n",
    "\n",
    "    def _shuffle_data(self):\n",
    "        '''\n",
    "        打乱数据\n",
    "        '''\n",
    "        idxs = np.random.permutation(self._n_samples)\n",
    "        self._data = self._data[idxs]\n",
    "        self._target = self._target[idxs]\n",
    "\n",
    "    def next_batch(self):\n",
    "        '''\n",
    "        生成mini-batch\n",
    "        '''\n",
    "        while self._idx + self._batch_size < self._n_samples:\n",
    "            yield self._data[self._idx: (self._idx + self._batch_size)], self._target[self._idx: (self._idx + self._batch_size)]\n",
    "            self._idx += self._batch_size\n",
    "\n",
    "        self._idx = 0\n",
    "        self._shuffle_data()\n",
    "\n",
    "\n",
    "# test\n",
    "voc_cls = Vocab(vocal_table, params.cnt_thresh)    # 词典类\n",
    "cat_dict = CatDict(cat_file)    # 类别类\n",
    "train_data = TextData(seg_train_file, voc_cls, cat_dict,\n",
    "                      params.t_size, batch_size=params.batch_size)\n",
    "val_data = TextData(seg_val_file, voc_cls, cat_dict,\n",
    "                    params.t_size, batch_size=params.batch_size)\n",
    "test_data = TextData(seg_test_file, voc_cls, cat_dict,\n",
    "                     params.t_size, batch_size=params.batch_size)"
   ]
  },
  {
   "cell_type": "markdown",
   "metadata": {},
   "source": [
    "# 网络搭建"
   ]
  },
  {
   "cell_type": "code",
   "execution_count": 6,
   "metadata": {},
   "outputs": [],
   "source": [
    "# voc_cls = Vocal(vocal_table, params.cnt_thresh)    # 词典类\n",
    "vocal_size = voc_cls.size\n",
    "\n",
    "unit_O = 10    # 输出单元数，类别数"
   ]
  },
  {
   "cell_type": "code",
   "execution_count": 7,
   "metadata": {
    "scrolled": true
   },
   "outputs": [
    {
     "name": "stdout",
     "output_type": "stream",
     "text": [
      "WARNING:tensorflow:From /usr/local/lib/python3.5/dist-packages/tensorflow/python/framework/op_def_library.py:263: colocate_with (from tensorflow.python.framework.ops) is deprecated and will be removed in a future version.\n",
      "Instructions for updating:\n",
      "Colocations handled automatically by placer.\n",
      "WARNING:tensorflow:From <ipython-input-7-af460050450d>:45: dense (from tensorflow.python.layers.core) is deprecated and will be removed in a future version.\n",
      "Instructions for updating:\n",
      "Use keras.layers.dense instead.\n",
      "WARNING:tensorflow:From <ipython-input-7-af460050450d>:46: dropout (from tensorflow.python.layers.core) is deprecated and will be removed in a future version.\n",
      "Instructions for updating:\n",
      "Use keras.layers.dropout instead.\n",
      "WARNING:tensorflow:From /usr/local/lib/python3.5/dist-packages/tensorflow/python/keras/layers/core.py:143: calling dropout (from tensorflow.python.ops.nn_ops) with keep_prob is deprecated and will be removed in a future version.\n",
      "Instructions for updating:\n",
      "Please use `rate` instead of `keep_prob`. Rate should be set to `rate = 1 - keep_prob`.\n",
      "WARNING:tensorflow:From /usr/local/lib/python3.5/dist-packages/tensorflow/python/ops/losses/losses_impl.py:209: to_float (from tensorflow.python.ops.math_ops) is deprecated and will be removed in a future version.\n",
      "Instructions for updating:\n",
      "Use tf.cast instead.\n",
      "WARNING:tensorflow:From /usr/local/lib/python3.5/dist-packages/tensorflow/python/ops/array_grad.py:425: to_int32 (from tensorflow.python.ops.math_ops) is deprecated and will be removed in a future version.\n",
      "Instructions for updating:\n",
      "Use tf.cast instead.\n"
     ]
    }
   ],
   "source": [
    "from RNN.LSTM import gen_lstm_layer\n",
    "X = tf.placeholder(tf.int32, [None, params.t_size])\n",
    "Y = tf.placeholder(tf.int64, [None])\n",
    "is_training = tf.placeholder(tf.bool)    # 训练标识位\n",
    "\n",
    "# 自动计数\n",
    "global_step = tf.Variable(tf.zeros([], tf.int32),\n",
    "                          name='global_step', trainable=False)\n",
    "\n",
    "with tf.variable_scope('emb', initializer=tf.random_uniform_initializer(-1.0, 1.0)):\n",
    "    emb_lookup = tf.get_variable('embedding', [vocal_size, params.emb_size],\n",
    "                                 dtype=tf.float32)\n",
    "    emb = tf.nn.embedding_lookup(emb_lookup, X)\n",
    "\n",
    "# 对embedding使用RNN网络\n",
    "xavier_scale = 1 / math.sqrt(params.emb_size + params.lstm_size[-1]) / 3\n",
    "initializer = tf.random_uniform_initializer(-xavier_scale, xavier_scale)\n",
    "\n",
    "#####################\n",
    "lstm_outputs = gen_lstm_layer(emb, unit_I=params.emb_size, unit_O=params.lstm_size[0],\n",
    "                              t_size=params.t_size, batch_size=params.batch_size, init=initializer)\n",
    "#####################\n",
    "\n",
    "# with tf.variable_scope('LSTM', initializer=initializer):\n",
    "#     lstm_layers = list()\n",
    "#     for i in range(params.lstm_layers):\n",
    "#         layer = tf.nn.rnn_cell.LSTMCell(params.lstm_size[i])\n",
    "\n",
    "#         # DropoutWrapper没有training参数，只能使用tf.cond来实现\n",
    "#         keep_prob = tf.cond(is_training,\n",
    "#                             lambda: 1-params.dropout_rate,\n",
    "#                             lambda: tf.constant(1.0))\n",
    "#         layer = tf.nn.rnn_cell.DropoutWrapper(layer,\n",
    "#                                               output_keep_prob=keep_prob)\n",
    "\n",
    "#         lstm_layers.append(layer)\n",
    "\n",
    "#     lstm_layers = tf.nn.rnn_cell.MultiRNNCell(lstm_layers)\n",
    "\n",
    "#     lstm_outputs, _ = tf.nn.dynamic_rnn(lstm_layers,\n",
    "#                                         inputs=emb, dtype=tf.float32)\n",
    "#     lstm_outputs = lstm_outputs[:, -1, :]\n",
    "\n",
    "with tf.name_scope('FC'):\n",
    "    fc = tf.layers.dense(lstm_outputs, params.fc_size, activation=tf.nn.relu)\n",
    "    fc = tf.layers.dropout(fc, rate=params.dropout_rate, training=is_training)\n",
    "\n",
    "logits = tf.layers.dense(fc, unit_O, activation=None)    # 输出层，无激活\n",
    "\n",
    "with tf.name_scope('Eval'):\n",
    "    loss = tf.losses.sparse_softmax_cross_entropy(labels=Y, logits=logits)\n",
    "    predict = tf.argmax(logits, 1)\n",
    "    accuracy = tf.reduce_mean(tf.cast(tf.equal(predict, Y), tf.float32))\n",
    "\n",
    "with tf.name_scope('train_op'):\n",
    "    lr = 1e-3\n",
    "    t_vars = tf.trainable_variables()    # 可训练变量\n",
    "    # 应用梯度截断\n",
    "    grads, _ = tf.clip_by_global_norm(tf.gradients(loss, t_vars),\n",
    "                                      params.grad_thresh)\n",
    "    optimizer = tf.train.AdamOptimizer(lr)\n",
    "    train_op = optimizer.apply_gradients(zip(grads, t_vars),\n",
    "                                         global_step=global_step)\n",
    "\n",
    "init = tf.global_variables_initializer()\n",
    "config = tf.ConfigProto()\n",
    "config.gpu_options.allow_growth = True    # 按需使用显存"
   ]
  },
  {
   "cell_type": "markdown",
   "metadata": {},
   "source": [
    "# 训练网络"
   ]
  },
  {
   "cell_type": "code",
   "execution_count": 8,
   "metadata": {
    "scrolled": false
   },
   "outputs": [
    {
     "name": "stdout",
     "output_type": "stream",
     "text": [
      "epoch: 1, batch_loss: 1.0771749019622803, batch_acc: 0.71875\n"
     ]
    },
    {
     "ename": "KeyboardInterrupt",
     "evalue": "",
     "output_type": "error",
     "traceback": [
      "\u001b[0;31m---------------------------------------------------------------------------\u001b[0m",
      "\u001b[0;31mKeyboardInterrupt\u001b[0m                         Traceback (most recent call last)",
      "\u001b[0;32m<ipython-input-8-e3060485a230>\u001b[0m in \u001b[0;36m<module>\u001b[0;34m\u001b[0m\n\u001b[1;32m     12\u001b[0m                                             feed_dict={X: batch_data,\n\u001b[1;32m     13\u001b[0m                                                        \u001b[0mY\u001b[0m\u001b[0;34m:\u001b[0m \u001b[0mbatch_labels\u001b[0m\u001b[0;34m,\u001b[0m\u001b[0;34m\u001b[0m\u001b[0m\n\u001b[0;32m---> 14\u001b[0;31m                                                        is_training: True})\n\u001b[0m\u001b[1;32m     15\u001b[0m \u001b[0;34m\u001b[0m\u001b[0m\n\u001b[1;32m     16\u001b[0m             \u001b[0;31m# 每1000batch输出一次信息\u001b[0m\u001b[0;34m\u001b[0m\u001b[0;34m\u001b[0m\u001b[0m\n",
      "\u001b[0;32m/usr/local/lib/python3.5/dist-packages/tensorflow/python/client/session.py\u001b[0m in \u001b[0;36mrun\u001b[0;34m(self, fetches, feed_dict, options, run_metadata)\u001b[0m\n\u001b[1;32m    927\u001b[0m     \u001b[0;32mtry\u001b[0m\u001b[0;34m:\u001b[0m\u001b[0;34m\u001b[0m\u001b[0m\n\u001b[1;32m    928\u001b[0m       result = self._run(None, fetches, feed_dict, options_ptr,\n\u001b[0;32m--> 929\u001b[0;31m                          run_metadata_ptr)\n\u001b[0m\u001b[1;32m    930\u001b[0m       \u001b[0;32mif\u001b[0m \u001b[0mrun_metadata\u001b[0m\u001b[0;34m:\u001b[0m\u001b[0;34m\u001b[0m\u001b[0m\n\u001b[1;32m    931\u001b[0m         \u001b[0mproto_data\u001b[0m \u001b[0;34m=\u001b[0m \u001b[0mtf_session\u001b[0m\u001b[0;34m.\u001b[0m\u001b[0mTF_GetBuffer\u001b[0m\u001b[0;34m(\u001b[0m\u001b[0mrun_metadata_ptr\u001b[0m\u001b[0;34m)\u001b[0m\u001b[0;34m\u001b[0m\u001b[0m\n",
      "\u001b[0;32m/usr/local/lib/python3.5/dist-packages/tensorflow/python/client/session.py\u001b[0m in \u001b[0;36m_run\u001b[0;34m(self, handle, fetches, feed_dict, options, run_metadata)\u001b[0m\n\u001b[1;32m   1150\u001b[0m     \u001b[0;32mif\u001b[0m \u001b[0mfinal_fetches\u001b[0m \u001b[0;32mor\u001b[0m \u001b[0mfinal_targets\u001b[0m \u001b[0;32mor\u001b[0m \u001b[0;34m(\u001b[0m\u001b[0mhandle\u001b[0m \u001b[0;32mand\u001b[0m \u001b[0mfeed_dict_tensor\u001b[0m\u001b[0;34m)\u001b[0m\u001b[0;34m:\u001b[0m\u001b[0;34m\u001b[0m\u001b[0m\n\u001b[1;32m   1151\u001b[0m       results = self._do_run(handle, final_targets, final_fetches,\n\u001b[0;32m-> 1152\u001b[0;31m                              feed_dict_tensor, options, run_metadata)\n\u001b[0m\u001b[1;32m   1153\u001b[0m     \u001b[0;32melse\u001b[0m\u001b[0;34m:\u001b[0m\u001b[0;34m\u001b[0m\u001b[0m\n\u001b[1;32m   1154\u001b[0m       \u001b[0mresults\u001b[0m \u001b[0;34m=\u001b[0m \u001b[0;34m[\u001b[0m\u001b[0;34m]\u001b[0m\u001b[0;34m\u001b[0m\u001b[0m\n",
      "\u001b[0;32m/usr/local/lib/python3.5/dist-packages/tensorflow/python/client/session.py\u001b[0m in \u001b[0;36m_do_run\u001b[0;34m(self, handle, target_list, fetch_list, feed_dict, options, run_metadata)\u001b[0m\n\u001b[1;32m   1326\u001b[0m     \u001b[0;32mif\u001b[0m \u001b[0mhandle\u001b[0m \u001b[0;32mis\u001b[0m \u001b[0;32mNone\u001b[0m\u001b[0;34m:\u001b[0m\u001b[0;34m\u001b[0m\u001b[0m\n\u001b[1;32m   1327\u001b[0m       return self._do_call(_run_fn, feeds, fetches, targets, options,\n\u001b[0;32m-> 1328\u001b[0;31m                            run_metadata)\n\u001b[0m\u001b[1;32m   1329\u001b[0m     \u001b[0;32melse\u001b[0m\u001b[0;34m:\u001b[0m\u001b[0;34m\u001b[0m\u001b[0m\n\u001b[1;32m   1330\u001b[0m       \u001b[0;32mreturn\u001b[0m \u001b[0mself\u001b[0m\u001b[0;34m.\u001b[0m\u001b[0m_do_call\u001b[0m\u001b[0;34m(\u001b[0m\u001b[0m_prun_fn\u001b[0m\u001b[0;34m,\u001b[0m \u001b[0mhandle\u001b[0m\u001b[0;34m,\u001b[0m \u001b[0mfeeds\u001b[0m\u001b[0;34m,\u001b[0m \u001b[0mfetches\u001b[0m\u001b[0;34m)\u001b[0m\u001b[0;34m\u001b[0m\u001b[0m\n",
      "\u001b[0;32m/usr/local/lib/python3.5/dist-packages/tensorflow/python/client/session.py\u001b[0m in \u001b[0;36m_do_call\u001b[0;34m(self, fn, *args)\u001b[0m\n\u001b[1;32m   1332\u001b[0m   \u001b[0;32mdef\u001b[0m \u001b[0m_do_call\u001b[0m\u001b[0;34m(\u001b[0m\u001b[0mself\u001b[0m\u001b[0;34m,\u001b[0m \u001b[0mfn\u001b[0m\u001b[0;34m,\u001b[0m \u001b[0;34m*\u001b[0m\u001b[0margs\u001b[0m\u001b[0;34m)\u001b[0m\u001b[0;34m:\u001b[0m\u001b[0;34m\u001b[0m\u001b[0m\n\u001b[1;32m   1333\u001b[0m     \u001b[0;32mtry\u001b[0m\u001b[0;34m:\u001b[0m\u001b[0;34m\u001b[0m\u001b[0m\n\u001b[0;32m-> 1334\u001b[0;31m       \u001b[0;32mreturn\u001b[0m \u001b[0mfn\u001b[0m\u001b[0;34m(\u001b[0m\u001b[0;34m*\u001b[0m\u001b[0margs\u001b[0m\u001b[0;34m)\u001b[0m\u001b[0;34m\u001b[0m\u001b[0m\n\u001b[0m\u001b[1;32m   1335\u001b[0m     \u001b[0;32mexcept\u001b[0m \u001b[0merrors\u001b[0m\u001b[0;34m.\u001b[0m\u001b[0mOpError\u001b[0m \u001b[0;32mas\u001b[0m \u001b[0me\u001b[0m\u001b[0;34m:\u001b[0m\u001b[0;34m\u001b[0m\u001b[0m\n\u001b[1;32m   1336\u001b[0m       \u001b[0mmessage\u001b[0m \u001b[0;34m=\u001b[0m \u001b[0mcompat\u001b[0m\u001b[0;34m.\u001b[0m\u001b[0mas_text\u001b[0m\u001b[0;34m(\u001b[0m\u001b[0me\u001b[0m\u001b[0;34m.\u001b[0m\u001b[0mmessage\u001b[0m\u001b[0;34m)\u001b[0m\u001b[0;34m\u001b[0m\u001b[0m\n",
      "\u001b[0;32m/usr/local/lib/python3.5/dist-packages/tensorflow/python/client/session.py\u001b[0m in \u001b[0;36m_run_fn\u001b[0;34m(feed_dict, fetch_list, target_list, options, run_metadata)\u001b[0m\n\u001b[1;32m   1317\u001b[0m       \u001b[0mself\u001b[0m\u001b[0;34m.\u001b[0m\u001b[0m_extend_graph\u001b[0m\u001b[0;34m(\u001b[0m\u001b[0;34m)\u001b[0m\u001b[0;34m\u001b[0m\u001b[0m\n\u001b[1;32m   1318\u001b[0m       return self._call_tf_sessionrun(\n\u001b[0;32m-> 1319\u001b[0;31m           options, feed_dict, fetch_list, target_list, run_metadata)\n\u001b[0m\u001b[1;32m   1320\u001b[0m \u001b[0;34m\u001b[0m\u001b[0m\n\u001b[1;32m   1321\u001b[0m     \u001b[0;32mdef\u001b[0m \u001b[0m_prun_fn\u001b[0m\u001b[0;34m(\u001b[0m\u001b[0mhandle\u001b[0m\u001b[0;34m,\u001b[0m \u001b[0mfeed_dict\u001b[0m\u001b[0;34m,\u001b[0m \u001b[0mfetch_list\u001b[0m\u001b[0;34m)\u001b[0m\u001b[0;34m:\u001b[0m\u001b[0;34m\u001b[0m\u001b[0m\n",
      "\u001b[0;32m/usr/local/lib/python3.5/dist-packages/tensorflow/python/client/session.py\u001b[0m in \u001b[0;36m_call_tf_sessionrun\u001b[0;34m(self, options, feed_dict, fetch_list, target_list, run_metadata)\u001b[0m\n\u001b[1;32m   1405\u001b[0m     return tf_session.TF_SessionRun_wrapper(\n\u001b[1;32m   1406\u001b[0m         \u001b[0mself\u001b[0m\u001b[0;34m.\u001b[0m\u001b[0m_session\u001b[0m\u001b[0;34m,\u001b[0m \u001b[0moptions\u001b[0m\u001b[0;34m,\u001b[0m \u001b[0mfeed_dict\u001b[0m\u001b[0;34m,\u001b[0m \u001b[0mfetch_list\u001b[0m\u001b[0;34m,\u001b[0m \u001b[0mtarget_list\u001b[0m\u001b[0;34m,\u001b[0m\u001b[0;34m\u001b[0m\u001b[0m\n\u001b[0;32m-> 1407\u001b[0;31m         run_metadata)\n\u001b[0m\u001b[1;32m   1408\u001b[0m \u001b[0;34m\u001b[0m\u001b[0m\n\u001b[1;32m   1409\u001b[0m   \u001b[0;32mdef\u001b[0m \u001b[0m_call_tf_sessionprun\u001b[0m\u001b[0;34m(\u001b[0m\u001b[0mself\u001b[0m\u001b[0;34m,\u001b[0m \u001b[0mhandle\u001b[0m\u001b[0;34m,\u001b[0m \u001b[0mfeed_dict\u001b[0m\u001b[0;34m,\u001b[0m \u001b[0mfetch_list\u001b[0m\u001b[0;34m)\u001b[0m\u001b[0;34m:\u001b[0m\u001b[0;34m\u001b[0m\u001b[0m\n",
      "\u001b[0;31mKeyboardInterrupt\u001b[0m: "
     ]
    }
   ],
   "source": [
    "import numpy as np\n",
    "\n",
    "with tf.Session(config=config) as sess:\n",
    "    sess.run(init)\n",
    "    epochs = 20\n",
    "\n",
    "    batch_cnt = 0\n",
    "    for epoch in range(epochs):\n",
    "        for batch_data, batch_labels in train_data.next_batch():\n",
    "            batch_cnt += 1\n",
    "            loss_val, acc_val, _ = sess.run([loss, accuracy, train_op],\n",
    "                                            feed_dict={X: batch_data,\n",
    "                                                       Y: batch_labels,\n",
    "                                                       is_training: True})\n",
    "\n",
    "            # 每1000batch输出一次信息\n",
    "            if (batch_cnt+1) % 1000 == 0:\n",
    "                print('epoch: {}, batch_loss: {}, batch_acc: {}'.format(\n",
    "                    epoch, loss_val, acc_val))\n",
    "\n",
    "            # 每5000batch做一次验证\n",
    "            if (batch_cnt+1) % 5000 == 0:\n",
    "                all_test_acc_val = list()\n",
    "                for test_batch_data, test_batch_labels in val_data.next_batch():\n",
    "                    test_acc_val = sess.run(accuracy,\n",
    "                                            feed_dict={X: test_batch_data,\n",
    "                                                       Y: test_batch_labels,\n",
    "                                                       is_training: False})\n",
    "                    all_test_acc_val.append(test_acc_val)\n",
    "                test_acc = np.mean(all_test_acc_val)\n",
    "                print('epoch: {}, test_acc: {}'.format(epoch, test_acc))"
   ]
  },
  {
   "cell_type": "code",
   "execution_count": null,
   "metadata": {},
   "outputs": [],
   "source": []
  }
 ],
 "metadata": {
  "kernelspec": {
   "display_name": "Python 3",
   "language": "python",
   "name": "python3"
  },
  "language_info": {
   "codemirror_mode": {
    "name": "ipython",
    "version": 3
   },
   "file_extension": ".py",
   "mimetype": "text/x-python",
   "name": "python",
   "nbconvert_exporter": "python",
   "pygments_lexer": "ipython3",
   "version": "3.5.2"
  }
 },
 "nbformat": 4,
 "nbformat_minor": 2
}
