{
 "cells": [
  {
   "cell_type": "code",
   "execution_count": 1,
   "metadata": {},
   "outputs": [],
   "source": [
    "import os"
   ]
  },
  {
   "cell_type": "code",
   "execution_count": 2,
   "metadata": {},
   "outputs": [],
   "source": [
    "caption_file='../dataset/flickr30k/results_20130124.token'\n",
    "output_file='../dataset/flickr30k/vocab.txt'"
   ]
  },
  {
   "cell_type": "code",
   "execution_count": 5,
   "metadata": {},
   "outputs": [],
   "source": [
    "def voc_cnt(path):\n",
    "    with open(path, 'r', encoding='utf-8') as fd:\n",
    "        text = fd.readlines()\n",
    "\n",
    "    max_len = 0\n",
    "    len_dict = dict()\n",
    "    voc_dict = dict()\n",
    "\n",
    "    for line in text:\n",
    "        img_id, cap = line.strip().split('\\t')\n",
    "        words = cap.strip().split()\n",
    "\n",
    "        len_dict.setdefault(len(words), 0)\n",
    "        len_dict[len(words)] += 1\n",
    "\n",
    "        for word in words:\n",
    "            voc_dict.setdefault(word, 0)\n",
    "            voc_dict[word] += 1\n",
    "\n",
    "    return len_dict, voc_dict"
   ]
  },
  {
   "cell_type": "code",
   "execution_count": 6,
   "metadata": {
    "scrolled": true
   },
   "outputs": [
    {
     "data": {
      "text/plain": [
       "{2: 14,\n",
       " 3: 52,\n",
       " 4: 297,\n",
       " 5: 1109,\n",
       " 6: 3593,\n",
       " 7: 7895,\n",
       " 8: 11070,\n",
       " 9: 13165,\n",
       " 10: 14821,\n",
       " 11: 15427,\n",
       " 12: 14481,\n",
       " 13: 12919,\n",
       " 14: 11394,\n",
       " 15: 9952,\n",
       " 16: 8121,\n",
       " 17: 6628,\n",
       " 18: 5352,\n",
       " 19: 4353,\n",
       " 20: 3510,\n",
       " 21: 2763,\n",
       " 22: 2363,\n",
       " 23: 1779,\n",
       " 24: 1388,\n",
       " 25: 1169,\n",
       " 26: 1004,\n",
       " 27: 778,\n",
       " 28: 647,\n",
       " 29: 496,\n",
       " 30: 397,\n",
       " 31: 362,\n",
       " 32: 271,\n",
       " 33: 228,\n",
       " 34: 165,\n",
       " 35: 165,\n",
       " 36: 132,\n",
       " 37: 93,\n",
       " 38: 102,\n",
       " 39: 61,\n",
       " 40: 61,\n",
       " 41: 54,\n",
       " 42: 39,\n",
       " 43: 40,\n",
       " 44: 26,\n",
       " 45: 23,\n",
       " 46: 21,\n",
       " 47: 12,\n",
       " 48: 8,\n",
       " 49: 17,\n",
       " 50: 7,\n",
       " 51: 18,\n",
       " 52: 13,\n",
       " 53: 8,\n",
       " 54: 4,\n",
       " 55: 9,\n",
       " 56: 6,\n",
       " 57: 5,\n",
       " 58: 2,\n",
       " 59: 5,\n",
       " 60: 2,\n",
       " 61: 1,\n",
       " 62: 1,\n",
       " 63: 1,\n",
       " 64: 2,\n",
       " 65: 1,\n",
       " 66: 1,\n",
       " 67: 2,\n",
       " 68: 1,\n",
       " 69: 2,\n",
       " 70: 1,\n",
       " 71: 1,\n",
       " 72: 1,\n",
       " 73: 1,\n",
       " 75: 1,\n",
       " 79: 1,\n",
       " 82: 1}"
      ]
     },
     "execution_count": 6,
     "metadata": {},
     "output_type": "execute_result"
    }
   ],
   "source": [
    "len_dict, voc_dict = voc_cnt(caption_file)\n",
    "len_dict"
   ]
  },
  {
   "cell_type": "code",
   "execution_count": 8,
   "metadata": {},
   "outputs": [],
   "source": [
    "voc=sorted(voc_dict.items(),key=lambda x:x[1],reverse=True)\n",
    "with open(output_file,'w',encoding='utf-8') as fd:\n",
    "    fd.write('<unk>\\t99999\\n')\n",
    "    for item in voc:\n",
    "        fd.write('{}\\t{}\\n'.format(item[0],item[1]))"
   ]
  },
  {
   "cell_type": "code",
   "execution_count": null,
   "metadata": {},
   "outputs": [],
   "source": []
  }
 ],
 "metadata": {
  "kernelspec": {
   "display_name": "Python 3",
   "language": "python",
   "name": "python3"
  },
  "language_info": {
   "codemirror_mode": {
    "name": "ipython",
    "version": 3
   },
   "file_extension": ".py",
   "mimetype": "text/x-python",
   "name": "python",
   "nbconvert_exporter": "python",
   "pygments_lexer": "ipython3",
   "version": "3.5.2"
  }
 },
 "nbformat": 4,
 "nbformat_minor": 2
}
