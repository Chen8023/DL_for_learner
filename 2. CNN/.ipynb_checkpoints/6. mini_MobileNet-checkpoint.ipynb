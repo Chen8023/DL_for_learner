{
 "cells": [
  {
   "cell_type": "code",
   "execution_count": 1,
   "metadata": {},
   "outputs": [
    {
     "name": "stderr",
     "output_type": "stream",
     "text": [
      "/usr/lib/python3.5/importlib/_bootstrap.py:222: RuntimeWarning: numpy.dtype size changed, may indicate binary incompatibility. Expected 96, got 88\n",
      "  return f(*args, **kwds)\n",
      "/usr/local/lib/python3.5/dist-packages/h5py/__init__.py:36: FutureWarning: Conversion of the second argument of issubdtype from `float` to `np.floating` is deprecated. In future, it will be treated as `np.float64 == np.dtype(float).type`.\n",
      "  from ._conv import register_converters as _register_converters\n"
     ]
    }
   ],
   "source": [
    "import tensorflow as tf\n",
    "import numpy as np\n",
    "import os"
   ]
  },
  {
   "cell_type": "markdown",
   "metadata": {},
   "source": [
    "# 数据准备"
   ]
  },
  {
   "cell_type": "code",
   "execution_count": 2,
   "metadata": {},
   "outputs": [
    {
     "name": "stderr",
     "output_type": "stream",
     "text": [
      "/usr/lib/python3.5/importlib/_bootstrap.py:222: RuntimeWarning: numpy.dtype size changed, may indicate binary incompatibility. Expected 96, got 88\n",
      "  return f(*args, **kwds)\n",
      "/usr/lib/python3.5/importlib/_bootstrap.py:222: RuntimeWarning: numpy.dtype size changed, may indicate binary incompatibility. Expected 96, got 88\n",
      "  return f(*args, **kwds)\n"
     ]
    }
   ],
   "source": [
    "from sklearn.preprocessing import StandardScaler\n",
    "\n",
    "\n",
    "def unpickle(file):\n",
    "    '''\n",
    "    CIFAR-10数据读取函数\n",
    "    '''\n",
    "    import pickle\n",
    "    with open(file, 'rb') as fd:\n",
    "        data = pickle.load(fd, encoding='bytes')\n",
    "    return data[b'data'], np.array(data[b'labels'])\n",
    "\n",
    "\n",
    "class CifarData:\n",
    "    def __init__(self, paths, batch_size=32, normalize=False, shuffle=False):\n",
    "        '''\n",
    "        paths: 文件路径\n",
    "        '''\n",
    "        self._data = list()\n",
    "        self._target = list()\n",
    "        self._n_samples = 0\n",
    "        self.n_features = 0\n",
    "\n",
    "        self._idx = 0    # mini-batch的游标\n",
    "        self._batch_size = batch_size\n",
    "\n",
    "        self._load(paths)\n",
    "\n",
    "        if shuffle:\n",
    "            self._shuffle_data()\n",
    "        if normalize:\n",
    "            self._normalize_data()\n",
    "\n",
    "        print(self._data.shape, self._target.shape)\n",
    "\n",
    "    def _load(self, paths):\n",
    "        '''\n",
    "        载入数据\n",
    "        '''\n",
    "        for path in paths:\n",
    "            data, labels = unpickle(path)\n",
    "            self._data.append(data)\n",
    "            self._target.append(labels)\n",
    "\n",
    "        # 将所有批次的数据拼接起来\n",
    "        self._data, self._target = np.vstack(\n",
    "            self._data), np.hstack(self._target)\n",
    "\n",
    "        self._n_samples, self.n_features = self._data.shape[0], self._data.shape[1]\n",
    "\n",
    "    def _shuffle_data(self):\n",
    "        '''\n",
    "        打乱数据\n",
    "        '''\n",
    "        idxs = np.random.permutation(self._n_samples)\n",
    "        self._data = self._data[idxs]\n",
    "        self._target = self._target[idxs]\n",
    "\n",
    "    def _normalize_data(self):\n",
    "        scaler = StandardScaler()\n",
    "        self._data = scaler.fit_transform(self._data)\n",
    "\n",
    "    def next_batch(self):\n",
    "        '''\n",
    "        生成mini-batch\n",
    "        '''\n",
    "        while self._idx < self._n_samples:\n",
    "            yield self._data[self._idx: (self._idx+self._batch_size)], self._target[self._idx: (self._idx+self._batch_size)]\n",
    "            self._idx += self._batch_size\n",
    "\n",
    "        self._idx = 0\n",
    "        self._shuffle_data()"
   ]
  },
  {
   "cell_type": "code",
   "execution_count": 3,
   "metadata": {},
   "outputs": [
    {
     "name": "stderr",
     "output_type": "stream",
     "text": [
      "/usr/local/lib/python3.5/dist-packages/sklearn/utils/validation.py:590: DataConversionWarning: Data with input dtype uint8 was converted to float64 by StandardScaler.\n",
      "  warnings.warn(msg, DataConversionWarning)\n",
      "/usr/local/lib/python3.5/dist-packages/sklearn/utils/validation.py:590: DataConversionWarning: Data with input dtype uint8 was converted to float64 by StandardScaler.\n",
      "  warnings.warn(msg, DataConversionWarning)\n"
     ]
    },
    {
     "name": "stdout",
     "output_type": "stream",
     "text": [
      "(50000, 3072) (50000,)\n"
     ]
    },
    {
     "name": "stderr",
     "output_type": "stream",
     "text": [
      "/usr/local/lib/python3.5/dist-packages/sklearn/utils/validation.py:590: DataConversionWarning: Data with input dtype uint8 was converted to float64 by StandardScaler.\n",
      "  warnings.warn(msg, DataConversionWarning)\n"
     ]
    },
    {
     "name": "stdout",
     "output_type": "stream",
     "text": [
      "(10000, 3072) (10000,)\n"
     ]
    },
    {
     "name": "stderr",
     "output_type": "stream",
     "text": [
      "/usr/local/lib/python3.5/dist-packages/sklearn/utils/validation.py:590: DataConversionWarning: Data with input dtype uint8 was converted to float64 by StandardScaler.\n",
      "  warnings.warn(msg, DataConversionWarning)\n"
     ]
    }
   ],
   "source": [
    "CIFAR_DIR = \"../dataset/cifar-10-batches-py/\"\n",
    "train_filenames = [os.path.join(\n",
    "    CIFAR_DIR, 'data_batch_{}'.format(i)) for i in range(1, 6)]\n",
    "test_filenames = [os.path.join(CIFAR_DIR, 'test_batch')]\n",
    "\n",
    "batch_size = 32\n",
    "train_data = CifarData(train_filenames, batch_size=batch_size,\n",
    "                       normalize=True, shuffle=True)\n",
    "test_data = CifarData(test_filenames, batch_size=batch_size,\n",
    "                      normalize=True, shuffle=False)"
   ]
  },
  {
   "cell_type": "markdown",
   "metadata": {},
   "source": [
    "# 网络结构设计\n",
    "mobilenet中DSC+PC的结构是隔层使用的，即conv+DSC+PC+conv这样的结构。这里实现的mini-mobilenet与Googlenet类似，只使用两次级联结构。"
   ]
  },
  {
   "cell_type": "code",
   "execution_count": 4,
   "metadata": {},
   "outputs": [],
   "source": [
    "unit_I = train_data.n_features    # 输入单元数，等于特征数\n",
    "\n",
    "# 三种卷积核\n",
    "conv_size1 = (1, 1)\n",
    "conv_size3 = (3, 3)\n",
    "\n",
    "filters_1 = 32\n",
    "filters_2 = 64\n",
    "filters_3 = 128\n",
    "\n",
    "# 两种步长\n",
    "strides_1 = (1, 1)\n",
    "strides_2 = (2, 2)\n",
    "\n",
    "fc_size = 128    # 全连接层单元数\n",
    "\n",
    "unit_O = 10"
   ]
  },
  {
   "cell_type": "markdown",
   "metadata": {},
   "source": [
    "定义创建```Conv dw```结构的函数："
   ]
  },
  {
   "cell_type": "code",
   "execution_count": 5,
   "metadata": {},
   "outputs": [],
   "source": [
    "def conv_dw(inputs, filters, strides, name=None):\n",
    "    '''\n",
    "    filters: 改变通道数，PC层使用的参数\n",
    "    strides: 改变尺寸，DSC层使用的参数\n",
    "    '''\n",
    "    in_channels = inputs.get_shape().as_list()[-1]    # 最后一维为深度\n",
    "    input_split = tf.split(inputs, in_channels, axis=3)    # 按深度进行分割\n",
    "    DSC_outputs = list()\n",
    "\n",
    "    with tf.name_scope(name):\n",
    "        for i in range(in_channels):    # 分别对每个深度做卷积\n",
    "            cur_conv = tf.layers.conv2d(input_split[i], filters=1,\n",
    "                                        kernel_size=conv_size3, strides=strides,\n",
    "                                        padding='same', activation=tf.nn.relu)\n",
    "            DSC_outputs.append(cur_conv)\n",
    "        DSC_outputs = tf.concat(DSC_outputs, axis=3)\n",
    "\n",
    "        PC_layer = tf.layers.conv2d(DSC_outputs, filters=filters,\n",
    "                                    kernel_size=conv_size3, strides=strides_1,\n",
    "                                    padding='same', activation=tf.nn.relu)\n",
    "        \n",
    "    return PC_layer"
   ]
  },
  {
   "cell_type": "markdown",
   "metadata": {},
   "source": [
    "# 搭建网络"
   ]
  },
  {
   "cell_type": "code",
   "execution_count": 6,
   "metadata": {},
   "outputs": [
    {
     "name": "stdout",
     "output_type": "stream",
     "text": [
      "WARNING:tensorflow:From <ipython-input-6-dfbac61327cb>:10: conv2d (from tensorflow.python.layers.convolutional) is deprecated and will be removed in a future version.\n",
      "Instructions for updating:\n",
      "Use keras.layers.conv2d instead.\n",
      "WARNING:tensorflow:From /usr/local/lib/python3.5/dist-packages/tensorflow/python/framework/op_def_library.py:263: colocate_with (from tensorflow.python.framework.ops) is deprecated and will be removed in a future version.\n",
      "Instructions for updating:\n",
      "Colocations handled automatically by placer.\n",
      "WARNING:tensorflow:From <ipython-input-6-dfbac61327cb>:27: average_pooling2d (from tensorflow.python.layers.pooling) is deprecated and will be removed in a future version.\n",
      "Instructions for updating:\n",
      "Use keras.layers.average_pooling2d instead.\n",
      "WARNING:tensorflow:From <ipython-input-6-dfbac61327cb>:29: flatten (from tensorflow.python.layers.core) is deprecated and will be removed in a future version.\n",
      "Instructions for updating:\n",
      "Use keras.layers.flatten instead.\n",
      "WARNING:tensorflow:From <ipython-input-6-dfbac61327cb>:30: dense (from tensorflow.python.layers.core) is deprecated and will be removed in a future version.\n",
      "Instructions for updating:\n",
      "Use keras.layers.dense instead.\n",
      "WARNING:tensorflow:From /usr/local/lib/python3.5/dist-packages/tensorflow/python/ops/losses/losses_impl.py:209: to_float (from tensorflow.python.ops.math_ops) is deprecated and will be removed in a future version.\n",
      "Instructions for updating:\n",
      "Use tf.cast instead.\n"
     ]
    }
   ],
   "source": [
    "X = tf.placeholder(tf.float32, [None, unit_I])  # 数据的样本数不指定，只指定特征数\n",
    "Y = tf.placeholder(tf.int64, [None])    # 目标值为列向量，int64为了兼容\n",
    "X_img = tf.transpose(tf.reshape(X, [-1, 3, 32, 32]),\n",
    "                     perm=[0, 2, 3, 1])    # 转为图片格式送入模型，(n_samples,width,height,depth)\n",
    "\n",
    "# 网络结构图\n",
    "with tf.name_scope('MobileNet'):\n",
    "    conv1 = tf.layers.conv2d(X_img, filters=filters_1,\n",
    "                             kernel_size=conv_size3, strides=strides_2,\n",
    "                             padding='same', activation=tf.nn.relu, name='conv1')\n",
    "    conv_dw_1 = conv_dw(conv1, filters=filters_1,\n",
    "                        strides=strides_1, name='conv_dw1')\n",
    "\n",
    "    conv2 = tf.layers.conv2d(X_img, filters=filters_2,\n",
    "                             kernel_size=conv_size1, strides=strides_1,\n",
    "                             padding='same', activation=tf.nn.relu, name='conv2')\n",
    "    conv_dw_2 = conv_dw(conv1, filters=filters_2,\n",
    "                        strides=strides_2, name='conv_dw2')\n",
    "\n",
    "    conv3 = tf.layers.conv2d(X_img, filters=filters_3,\n",
    "                             kernel_size=conv_size3, strides=strides_1,\n",
    "                             padding='same', activation=tf.nn.relu, name='conv3')\n",
    "    conv_dw_3 = conv_dw(conv1, filters=filters_3,\n",
    "                        strides=strides_1, name='conv_dw3')\n",
    "    \n",
    "    pooling=tf.layers.average_pooling2d(conv_dw_3, pool_size=conv_size3,\n",
    "                                           strides=strides_1, name='pooling')\n",
    "\n",
    "    fc = tf.layers.dense(tf.layers.flatten(pooling), fc_size,\n",
    "                         activation=tf.nn.relu, name='FC')\n",
    "\n",
    "    logits = tf.layers.dense(fc, unit_O, activation=None)\n",
    "\n",
    "# 评估图\n",
    "with tf.name_scope('Eval'):\n",
    "    # 计算一维向量与onehot向量之间的损失\n",
    "    loss = tf.losses.sparse_softmax_cross_entropy(labels=Y, logits=logits)\n",
    "    predict = tf.argmax(logits, 1)\n",
    "    accuracy = tf.reduce_mean(tf.cast(tf.equal(predict, Y), tf.float32))\n",
    "\n",
    "# 优化图\n",
    "with tf.name_scope('train_op'):\n",
    "    lr = 1e-3\n",
    "    train_op = tf.train.AdamOptimizer(lr).minimize(loss)\n",
    "\n",
    "init = tf.global_variables_initializer()\n",
    "config = tf.ConfigProto()\n",
    "config.gpu_options.allow_growth = True    # 按需使用显存"
   ]
  },
  {
   "cell_type": "markdown",
   "metadata": {},
   "source": [
    "# 训练网络"
   ]
  },
  {
   "cell_type": "code",
   "execution_count": 7,
   "metadata": {
    "scrolled": true
   },
   "outputs": [
    {
     "name": "stdout",
     "output_type": "stream",
     "text": [
      "epoch: 0, batch_loss: 1.1020231246948242, batch_acc: 0.625\n",
      "epoch: 1, batch_loss: 0.9442151784896851, batch_acc: 0.6875\n",
      "epoch: 1, batch_loss: 0.48784172534942627, batch_acc: 0.875\n",
      "epoch: 2, batch_loss: 0.5022556781768799, batch_acc: 0.78125\n",
      "epoch: 3, batch_loss: 0.7154605984687805, batch_acc: 0.78125\n",
      "epoch: 3, test_acc: 0.7221445441246033\n",
      "epoch: 3, batch_loss: 0.5692753195762634, batch_acc: 0.78125\n",
      "epoch: 4, batch_loss: 0.3449956178665161, batch_acc: 0.84375\n",
      "epoch: 5, batch_loss: 0.30386796593666077, batch_acc: 0.875\n",
      "epoch: 5, batch_loss: 0.4960312843322754, batch_acc: 0.71875\n",
      "epoch: 6, batch_loss: 0.2550877332687378, batch_acc: 0.90625\n",
      "epoch: 6, test_acc: 0.7420127987861633\n",
      "epoch: 7, batch_loss: 0.08763671666383743, batch_acc: 0.9375\n",
      "epoch: 7, batch_loss: 0.05528689920902252, batch_acc: 0.96875\n",
      "epoch: 8, batch_loss: 0.07687079906463623, batch_acc: 0.96875\n",
      "epoch: 8, batch_loss: 0.2145913690328598, batch_acc: 0.9375\n",
      "epoch: 9, batch_loss: 0.1558322012424469, batch_acc: 0.9375\n",
      "epoch: 9, test_acc: 0.7291333675384521\n",
      "epoch: 10, batch_loss: 0.015252240002155304, batch_acc: 1.0\n",
      "epoch: 10, batch_loss: 0.05506136640906334, batch_acc: 0.96875\n",
      "epoch: 11, batch_loss: 0.011746511794626713, batch_acc: 1.0\n",
      "epoch: 12, batch_loss: 0.007778018247336149, batch_acc: 1.0\n",
      "epoch: 12, batch_loss: 0.05489511415362358, batch_acc: 0.96875\n",
      "epoch: 12, test_acc: 0.7381190061569214\n",
      "epoch: 13, batch_loss: 0.0032457928173244, batch_acc: 1.0\n",
      "epoch: 14, batch_loss: 0.09037990123033524, batch_acc: 0.96875\n",
      "epoch: 14, batch_loss: 0.106760174036026, batch_acc: 0.96875\n",
      "epoch: 15, batch_loss: 0.004049696959555149, batch_acc: 1.0\n",
      "epoch: 15, batch_loss: 0.03086819127202034, batch_acc: 1.0\n",
      "epoch: 15, test_acc: 0.7288338541984558\n",
      "epoch: 16, batch_loss: 0.04549254849553108, batch_acc: 0.96875\n",
      "epoch: 17, batch_loss: 0.10810704529285431, batch_acc: 0.9375\n",
      "epoch: 17, batch_loss: 0.130902498960495, batch_acc: 0.96875\n",
      "epoch: 18, batch_loss: 0.18680448830127716, batch_acc: 0.9375\n",
      "epoch: 19, batch_loss: 0.0038811664562672377, batch_acc: 1.0\n",
      "epoch: 19, test_acc: 0.7268370389938354\n",
      "epoch: 19, batch_loss: 0.187631756067276, batch_acc: 0.96875\n"
     ]
    }
   ],
   "source": [
    "with tf.Session(config=config) as sess:\n",
    "    sess.run(init)\n",
    "    epochs = 20\n",
    "\n",
    "    batch_cnt = 0\n",
    "    for epoch in range(epochs):\n",
    "        for batch_data, batch_labels in train_data.next_batch():\n",
    "            batch_cnt += 1\n",
    "            loss_val, acc_val, _ = sess.run(\n",
    "                [loss, accuracy, train_op],\n",
    "                feed_dict={\n",
    "                    X: batch_data,\n",
    "                    Y: batch_labels})\n",
    "\n",
    "            # 每1000batch输出一次信息\n",
    "            if (batch_cnt+1) % 1000 == 0:\n",
    "                print('epoch: {}, batch_loss: {}, batch_acc: {}'.format(\n",
    "                    epoch, loss_val, acc_val))\n",
    "\n",
    "            # 每5000batch做一次验证\n",
    "            if (batch_cnt+1) % 5000 == 0:\n",
    "                all_test_acc_val = list()\n",
    "                for test_batch_data, test_batch_labels in test_data.next_batch():\n",
    "                    test_acc_val = sess.run(\n",
    "                        [accuracy],\n",
    "                        feed_dict={\n",
    "                            X: test_batch_data,\n",
    "                            Y: test_batch_labels\n",
    "                        })\n",
    "                    all_test_acc_val.append(test_acc_val)\n",
    "                test_acc = np.mean(all_test_acc_val)\n",
    "                print('epoch: {}, test_acc: {}'.format(epoch, test_acc))"
   ]
  }
 ],
 "metadata": {
  "kernelspec": {
   "display_name": "Python 3",
   "language": "python",
   "name": "python3"
  },
  "language_info": {
   "codemirror_mode": {
    "name": "ipython",
    "version": 3
   },
   "file_extension": ".py",
   "mimetype": "text/x-python",
   "name": "python",
   "nbconvert_exporter": "python",
   "pygments_lexer": "ipython3",
   "version": "3.5.2"
  }
 },
 "nbformat": 4,
 "nbformat_minor": 2
}
