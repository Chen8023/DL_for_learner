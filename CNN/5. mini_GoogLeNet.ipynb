{
 "cells": [
  {
   "cell_type": "code",
   "execution_count": 1,
   "metadata": {},
   "outputs": [
    {
     "name": "stderr",
     "output_type": "stream",
     "text": [
      "/usr/lib/python3.5/importlib/_bootstrap.py:222: RuntimeWarning: numpy.dtype size changed, may indicate binary incompatibility. Expected 96, got 88\n",
      "  return f(*args, **kwds)\n",
      "/usr/local/lib/python3.5/dist-packages/h5py/__init__.py:36: FutureWarning: Conversion of the second argument of issubdtype from `float` to `np.floating` is deprecated. In future, it will be treated as `np.float64 == np.dtype(float).type`.\n",
      "  from ._conv import register_converters as _register_converters\n"
     ]
    }
   ],
   "source": [
    "import tensorflow as tf\n",
    "import numpy as np\n",
    "import os"
   ]
  },
  {
   "cell_type": "markdown",
   "metadata": {},
   "source": [
    "# 数据准备"
   ]
  },
  {
   "cell_type": "code",
   "execution_count": 2,
   "metadata": {},
   "outputs": [
    {
     "name": "stderr",
     "output_type": "stream",
     "text": [
      "/usr/lib/python3.5/importlib/_bootstrap.py:222: RuntimeWarning: numpy.dtype size changed, may indicate binary incompatibility. Expected 96, got 88\n",
      "  return f(*args, **kwds)\n",
      "/usr/lib/python3.5/importlib/_bootstrap.py:222: RuntimeWarning: numpy.dtype size changed, may indicate binary incompatibility. Expected 96, got 88\n",
      "  return f(*args, **kwds)\n"
     ]
    }
   ],
   "source": [
    "from sklearn.preprocessing import StandardScaler\n",
    "\n",
    "\n",
    "def unpickle(file):\n",
    "    '''\n",
    "    CIFAR-10数据读取函数\n",
    "    '''\n",
    "    import pickle\n",
    "    with open(file, 'rb') as fd:\n",
    "        data = pickle.load(fd, encoding='bytes')\n",
    "    return data[b'data'], np.array(data[b'labels'])\n",
    "\n",
    "\n",
    "class CifarData:\n",
    "    def __init__(self, paths, batch_size=32, normalize=False, shuffle=False):\n",
    "        '''\n",
    "        paths: 文件路径\n",
    "        '''\n",
    "        self._data = list()\n",
    "        self._target = list()\n",
    "        self._n_samples = 0\n",
    "        self.n_features = 0\n",
    "\n",
    "        self._idx = 0    # mini-batch的游标\n",
    "        self._batch_size = batch_size\n",
    "\n",
    "        self._load(paths)\n",
    "\n",
    "        if shuffle:\n",
    "            self._shuffle_data()\n",
    "        if normalize:\n",
    "            self._normalize_data()\n",
    "\n",
    "        print(self._data.shape, self._target.shape)\n",
    "\n",
    "    def _load(self, paths):\n",
    "        '''\n",
    "        载入数据\n",
    "        '''\n",
    "        for path in paths:\n",
    "            data, labels = unpickle(path)\n",
    "            self._data.append(data)\n",
    "            self._target.append(labels)\n",
    "\n",
    "        # 将所有批次的数据拼接起来\n",
    "        self._data, self._target = np.vstack(\n",
    "            self._data), np.hstack(self._target)\n",
    "\n",
    "        self._n_samples, self.n_features = self._data.shape[0], self._data.shape[1]\n",
    "\n",
    "    def _shuffle_data(self):\n",
    "        '''\n",
    "        打乱数据\n",
    "        '''\n",
    "        idxs = np.random.permutation(self._n_samples)\n",
    "        self._data = self._data[idxs]\n",
    "        self._target = self._target[idxs]\n",
    "\n",
    "    def _normalize_data(self):\n",
    "        scaler = StandardScaler()\n",
    "        self._data = scaler.fit_transform(self._data)\n",
    "\n",
    "    def next_batch(self):\n",
    "        '''\n",
    "        生成mini-batch\n",
    "        '''\n",
    "        while self._idx < self._n_samples:\n",
    "            yield self._data[self._idx: (self._idx+self._batch_size)], self._target[self._idx: (self._idx+self._batch_size)]\n",
    "            self._idx += self._batch_size\n",
    "\n",
    "        self._idx = 0\n",
    "        self._shuffle_data()"
   ]
  },
  {
   "cell_type": "code",
   "execution_count": 3,
   "metadata": {},
   "outputs": [
    {
     "name": "stderr",
     "output_type": "stream",
     "text": [
      "/usr/local/lib/python3.5/dist-packages/sklearn/utils/validation.py:590: DataConversionWarning: Data with input dtype uint8 was converted to float64 by StandardScaler.\n",
      "  warnings.warn(msg, DataConversionWarning)\n",
      "/usr/local/lib/python3.5/dist-packages/sklearn/utils/validation.py:590: DataConversionWarning: Data with input dtype uint8 was converted to float64 by StandardScaler.\n",
      "  warnings.warn(msg, DataConversionWarning)\n"
     ]
    },
    {
     "name": "stdout",
     "output_type": "stream",
     "text": [
      "(50000, 3072) (50000,)\n"
     ]
    },
    {
     "name": "stderr",
     "output_type": "stream",
     "text": [
      "/usr/local/lib/python3.5/dist-packages/sklearn/utils/validation.py:590: DataConversionWarning: Data with input dtype uint8 was converted to float64 by StandardScaler.\n",
      "  warnings.warn(msg, DataConversionWarning)\n"
     ]
    },
    {
     "name": "stdout",
     "output_type": "stream",
     "text": [
      "(10000, 3072) (10000,)\n"
     ]
    },
    {
     "name": "stderr",
     "output_type": "stream",
     "text": [
      "/usr/local/lib/python3.5/dist-packages/sklearn/utils/validation.py:590: DataConversionWarning: Data with input dtype uint8 was converted to float64 by StandardScaler.\n",
      "  warnings.warn(msg, DataConversionWarning)\n"
     ]
    }
   ],
   "source": [
    "CIFAR_DIR = \"../dataset/cifar-10-batches-py/\"\n",
    "train_filenames = [os.path.join(\n",
    "    CIFAR_DIR, 'data_batch_{}'.format(i)) for i in range(1, 6)]\n",
    "test_filenames = [os.path.join(CIFAR_DIR, 'test_batch')]\n",
    "\n",
    "batch_size = 32\n",
    "train_data = CifarData(train_filenames, batch_size=batch_size,\n",
    "                       normalize=True, shuffle=True)\n",
    "test_data = CifarData(test_filenames, batch_size=batch_size,\n",
    "                      normalize=True, shuffle=False)"
   ]
  },
  {
   "cell_type": "markdown",
   "metadata": {},
   "source": [
    "# 网络结构设计\n",
    "GoogLeNet结构设计主要在于其独特的Interception结构：并行的三个卷积与最大池化操作。同样由于这里使用CIFAR10数据集的原因，这里实现的GoogLeNet是一个缩水版。首先将Interception之前的所有层替换成单层的conv+maxpooling。并且这里只设置4个Interception结构。"
   ]
  },
  {
   "cell_type": "code",
   "execution_count": 4,
   "metadata": {},
   "outputs": [],
   "source": [
    "unit_I = train_data.n_features    # 输入单元数，等于特征数\n",
    "\n",
    "# 三种卷积核\n",
    "conv_size1 = (1, 1)\n",
    "conv_size3 = (3, 3)\n",
    "conv_size5 = (5, 5)\n",
    "\n",
    "filters1 = 32\n",
    "filters_2 = [16, 64, 8]    # inception结构的通道列表\n",
    "filters_3 = [32, 128, 16]\n",
    "\n",
    "# 两种步长\n",
    "strides_1 = (1, 1)\n",
    "strides_2 = (2, 2)\n",
    "\n",
    "fc_size = 128    # 全连接层单元数\n",
    "\n",
    "unit_O = 10"
   ]
  },
  {
   "cell_type": "markdown",
   "metadata": {},
   "source": [
    "定义创建Interception结构的函数："
   ]
  },
  {
   "cell_type": "code",
   "execution_count": 5,
   "metadata": {},
   "outputs": [],
   "source": [
    "def inc_block(inputs, channels, mod_name=None):\n",
    "    '''\n",
    "    channels: 列表，包含三个卷积操作的输出深度\n",
    "    '''\n",
    "    in_channels = inputs.get_shape().as_list()[-1]    # 最后一维为深度\n",
    "\n",
    "    with tf.variable_scope(mod_name):\n",
    "        conv1 = tf.layers.conv2d(inputs, filters=channels[0],\n",
    "                                 kernel_size=conv_size1, strides=strides_1,\n",
    "                                 padding='same', activation=tf.nn.relu)\n",
    "\n",
    "        conv2_1 = tf.layers.conv2d(inputs, filters=in_channels//2,    # 瓶颈层将参数减半\n",
    "                                   kernel_size=conv_size1, strides=strides_1,\n",
    "                                   padding='same', activation=tf.nn.relu)\n",
    "        conv2_2 = tf.layers.conv2d(conv2_1, filters=channels[1],\n",
    "                                   kernel_size=conv_size3, strides=strides_1,\n",
    "                                   padding='same', activation=tf.nn.relu)\n",
    "\n",
    "        conv3_1 = tf.layers.conv2d(inputs, filters=in_channels//2,    # 瓶颈层将参数减半\n",
    "                                   kernel_size=conv_size1, strides=strides_1,\n",
    "                                   padding='same', activation=tf.nn.relu)\n",
    "        conv3_2 = tf.layers.conv2d(conv3_1, filters=channels[2],\n",
    "                                   kernel_size=conv_size5, strides=strides_1,\n",
    "                                   padding='same', activation=tf.nn.relu)\n",
    "\n",
    "        pool4_1 = tf.layers.max_pooling2d(inputs, pool_size=conv_size3, \n",
    "                                          strides=strides_1,padding='same')\n",
    "        conv4_2 = tf.layers.conv2d(pool4_1, filters=in_channels//2,\n",
    "                                   kernel_size=conv_size1, strides=strides_1,\n",
    "                                   padding='same', activation=tf.nn.relu)\n",
    "\n",
    "    return tf.concat([conv1, conv2_2, conv3_2, conv4_2], axis=3)"
   ]
  },
  {
   "cell_type": "markdown",
   "metadata": {},
   "source": [
    "# 搭建网络"
   ]
  },
  {
   "cell_type": "code",
   "execution_count": 6,
   "metadata": {
    "scrolled": true
   },
   "outputs": [
    {
     "name": "stdout",
     "output_type": "stream",
     "text": [
      "WARNING:tensorflow:From <ipython-input-6-d4014c283f75>:10: conv2d (from tensorflow.python.layers.convolutional) is deprecated and will be removed in a future version.\n",
      "Instructions for updating:\n",
      "Use keras.layers.conv2d instead.\n",
      "WARNING:tensorflow:From /usr/local/lib/python3.5/dist-packages/tensorflow/python/framework/op_def_library.py:263: colocate_with (from tensorflow.python.framework.ops) is deprecated and will be removed in a future version.\n",
      "Instructions for updating:\n",
      "Colocations handled automatically by placer.\n",
      "WARNING:tensorflow:From <ipython-input-6-d4014c283f75>:12: max_pooling2d (from tensorflow.python.layers.pooling) is deprecated and will be removed in a future version.\n",
      "Instructions for updating:\n",
      "Use keras.layers.max_pooling2d instead.\n",
      "WARNING:tensorflow:From <ipython-input-6-d4014c283f75>:24: average_pooling2d (from tensorflow.python.layers.pooling) is deprecated and will be removed in a future version.\n",
      "Instructions for updating:\n",
      "Use keras.layers.average_pooling2d instead.\n",
      "WARNING:tensorflow:From <ipython-input-6-d4014c283f75>:26: flatten (from tensorflow.python.layers.core) is deprecated and will be removed in a future version.\n",
      "Instructions for updating:\n",
      "Use keras.layers.flatten instead.\n",
      "WARNING:tensorflow:From <ipython-input-6-d4014c283f75>:27: dense (from tensorflow.python.layers.core) is deprecated and will be removed in a future version.\n",
      "Instructions for updating:\n",
      "Use keras.layers.dense instead.\n",
      "WARNING:tensorflow:From /usr/local/lib/python3.5/dist-packages/tensorflow/python/ops/losses/losses_impl.py:209: to_float (from tensorflow.python.ops.math_ops) is deprecated and will be removed in a future version.\n",
      "Instructions for updating:\n",
      "Use tf.cast instead.\n"
     ]
    }
   ],
   "source": [
    "X = tf.placeholder(tf.float32, [None, unit_I])  # 数据的样本数不指定，只指定特征数\n",
    "Y = tf.placeholder(tf.int64, [None])    # 目标值为列向量，int64为了兼容\n",
    "X_img = tf.transpose(tf.reshape(X, [-1, 3, 32, 32]),\n",
    "                     perm=[0, 2, 3, 1])    # 转为图片格式送入模型，(n_samples,width,height,depth)\n",
    "\n",
    "# 网络结构图\n",
    "with tf.name_scope('GoogLeNet'):\n",
    "    conv1 = tf.layers.conv2d(X_img, filters=32,\n",
    "                             kernel_size=conv_size5, padding='same',\n",
    "                             activation=tf.nn.relu, name='conv1')\n",
    "    pooling1 = tf.layers.max_pooling2d(conv1, pool_size=conv_size3,\n",
    "                                       strides=strides_2, name='pooling1')\n",
    "\n",
    "    inc_mod_2a = inc_block(pooling1, filters_2, 'inception_2a')\n",
    "    inc_mod_2b = inc_block(inc_mod_2a, filters_2, 'inception_2b')\n",
    "\n",
    "    pooling2 = tf.layers.max_pooling2d(inc_mod_2b, pool_size=conv_size3,\n",
    "                                       strides=strides_2, name='pooling2')\n",
    "\n",
    "    inc_mod_3a = inc_block(pooling2, filters_3, 'inception_3a')\n",
    "    inc_mod_3b = inc_block(inc_mod_3a, filters_3, 'inception_3b')\n",
    "\n",
    "    pooling3 = tf.layers.average_pooling2d(inc_mod_3b, pool_size=conv_size3,\n",
    "                                           strides=strides_2, name='pooling3')\n",
    "\n",
    "    fc = tf.layers.dense(tf.layers.flatten(pooling3), fc_size,\n",
    "                         activation=tf.nn.relu, name='FC')\n",
    "\n",
    "    logits = tf.layers.dense(fc, unit_O, activation=None)\n",
    "\n",
    "# 评估图\n",
    "with tf.name_scope('Eval'):\n",
    "    # 计算一维向量与onehot向量之间的损失\n",
    "    loss = tf.losses.sparse_softmax_cross_entropy(labels=Y, logits=logits)\n",
    "    predict = tf.argmax(logits, 1)\n",
    "    accuracy = tf.reduce_mean(tf.cast(tf.equal(predict, Y), tf.float32))\n",
    "\n",
    "# 优化图\n",
    "with tf.name_scope('train_op'):\n",
    "    lr = 1e-3\n",
    "    train_op = tf.train.AdamOptimizer(lr).minimize(loss)\n",
    "\n",
    "init = tf.global_variables_initializer()\n",
    "config = tf.ConfigProto()\n",
    "config.gpu_options.allow_growth = True    # 按需使用显存"
   ]
  },
  {
   "cell_type": "markdown",
   "metadata": {},
   "source": [
    "# 训练网络"
   ]
  },
  {
   "cell_type": "code",
   "execution_count": 7,
   "metadata": {
    "scrolled": true
   },
   "outputs": [
    {
     "name": "stdout",
     "output_type": "stream",
     "text": [
      "epoch: 0, batch_loss: 1.3469971418380737, batch_acc: 0.59375\n",
      "epoch: 1, batch_loss: 1.1970510482788086, batch_acc: 0.625\n",
      "epoch: 1, batch_loss: 0.7365506887435913, batch_acc: 0.8125\n",
      "epoch: 2, batch_loss: 0.5225967764854431, batch_acc: 0.84375\n",
      "epoch: 3, batch_loss: 0.8309845924377441, batch_acc: 0.75\n",
      "epoch: 3, test_acc: 0.7290335297584534\n",
      "epoch: 3, batch_loss: 0.9054447412490845, batch_acc: 0.6875\n",
      "epoch: 4, batch_loss: 0.4975298047065735, batch_acc: 0.8125\n",
      "epoch: 5, batch_loss: 0.24219228327274323, batch_acc: 0.9375\n",
      "epoch: 5, batch_loss: 0.6137686371803284, batch_acc: 0.8125\n",
      "epoch: 6, batch_loss: 0.47228461503982544, batch_acc: 0.78125\n",
      "epoch: 6, test_acc: 0.7696685194969177\n",
      "epoch: 7, batch_loss: 0.49589961767196655, batch_acc: 0.8125\n",
      "epoch: 7, batch_loss: 0.25727078318595886, batch_acc: 0.84375\n",
      "epoch: 8, batch_loss: 0.13629378378391266, batch_acc: 1.0\n",
      "epoch: 8, batch_loss: 0.43135687708854675, batch_acc: 0.90625\n",
      "epoch: 9, batch_loss: 0.44383591413497925, batch_acc: 0.78125\n",
      "epoch: 9, test_acc: 0.7626796960830688\n",
      "epoch: 10, batch_loss: 0.27173906564712524, batch_acc: 0.9375\n",
      "epoch: 10, batch_loss: 0.2361232042312622, batch_acc: 0.9375\n",
      "epoch: 11, batch_loss: 0.06947310268878937, batch_acc: 1.0\n",
      "epoch: 12, batch_loss: 0.16339828073978424, batch_acc: 0.96875\n",
      "epoch: 12, batch_loss: 0.2751738429069519, batch_acc: 0.90625\n",
      "epoch: 12, test_acc: 0.7789536714553833\n",
      "epoch: 13, batch_loss: 0.7789570093154907, batch_acc: 0.8125\n",
      "epoch: 14, batch_loss: 0.3379541039466858, batch_acc: 0.9375\n",
      "epoch: 14, batch_loss: 0.15664932131767273, batch_acc: 0.9375\n",
      "epoch: 15, batch_loss: 0.12864618003368378, batch_acc: 0.9375\n",
      "epoch: 15, batch_loss: 0.17113304138183594, batch_acc: 0.9375\n",
      "epoch: 15, test_acc: 0.7780551314353943\n",
      "epoch: 16, batch_loss: 0.20607633888721466, batch_acc: 0.9375\n",
      "epoch: 17, batch_loss: 0.12604685127735138, batch_acc: 0.9375\n",
      "epoch: 17, batch_loss: 0.2760642468929291, batch_acc: 0.875\n",
      "epoch: 18, batch_loss: 0.1731864959001541, batch_acc: 0.9375\n",
      "epoch: 19, batch_loss: 0.16025155782699585, batch_acc: 0.9375\n",
      "epoch: 19, test_acc: 0.7827476263046265\n",
      "epoch: 19, batch_loss: 0.05809737369418144, batch_acc: 0.96875\n"
     ]
    }
   ],
   "source": [
    "with tf.Session(config=config) as sess:\n",
    "    sess.run(init)\n",
    "    epochs = 20\n",
    "\n",
    "    batch_cnt = 0\n",
    "    for epoch in range(epochs):\n",
    "        for batch_data, batch_labels in train_data.next_batch():\n",
    "            batch_cnt += 1\n",
    "            loss_val, acc_val, _ = sess.run(\n",
    "                [loss, accuracy, train_op],\n",
    "                feed_dict={\n",
    "                    X: batch_data,\n",
    "                    Y: batch_labels})\n",
    "\n",
    "            # 每1000batch输出一次信息\n",
    "            if (batch_cnt+1) % 1000 == 0:\n",
    "                print('epoch: {}, batch_loss: {}, batch_acc: {}'.format(\n",
    "                    epoch, loss_val, acc_val))\n",
    "\n",
    "            # 每5000batch做一次验证\n",
    "            if (batch_cnt+1) % 5000 == 0:\n",
    "                all_test_acc_val = list()\n",
    "                for test_batch_data, test_batch_labels in test_data.next_batch():\n",
    "                    test_acc_val = sess.run(\n",
    "                        [accuracy],\n",
    "                        feed_dict={\n",
    "                            X: test_batch_data,\n",
    "                            Y: test_batch_labels\n",
    "                        })\n",
    "                    all_test_acc_val.append(test_acc_val)\n",
    "                test_acc = np.mean(all_test_acc_val)\n",
    "                print('epoch: {}, test_acc: {}'.format(epoch, test_acc))"
   ]
  },
  {
   "cell_type": "markdown",
   "metadata": {},
   "source": [
    "这里我们只构建了一个具有四个inception model的浅层GoogLeNet，可以看到其效果已经与之前的ResNet34相当。"
   ]
  }
 ],
 "metadata": {
  "kernelspec": {
   "display_name": "Python 3",
   "language": "python",
   "name": "python3"
  },
  "language_info": {
   "codemirror_mode": {
    "name": "ipython",
    "version": 3
   },
   "file_extension": ".py",
   "mimetype": "text/x-python",
   "name": "python",
   "nbconvert_exporter": "python",
   "pygments_lexer": "ipython3",
   "version": "3.5.2"
  }
 },
 "nbformat": 4,
 "nbformat_minor": 2
}
