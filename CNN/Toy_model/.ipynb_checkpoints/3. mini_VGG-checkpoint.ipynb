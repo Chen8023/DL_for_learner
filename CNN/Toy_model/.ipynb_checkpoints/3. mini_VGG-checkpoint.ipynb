{
 "cells": [
  {
   "cell_type": "code",
   "execution_count": 1,
   "metadata": {},
   "outputs": [],
   "source": [
    "import os\n",
    "os.sys.path.append(os.path.dirname(os.path.abspath('..')))"
   ]
  },
  {
   "cell_type": "markdown",
   "metadata": {},
   "source": [
    "# 数据准备"
   ]
  },
  {
   "cell_type": "code",
   "execution_count": 2,
   "metadata": {},
   "outputs": [
    {
     "name": "stderr",
     "output_type": "stream",
     "text": [
      "/usr/local/lib/python3.5/dist-packages/sklearn/utils/validation.py:595: DataConversionWarning: Data with input dtype uint8 was converted to float64 by MinMaxScaler.\n",
      "  warnings.warn(msg, DataConversionWarning)\n"
     ]
    },
    {
     "name": "stdout",
     "output_type": "stream",
     "text": [
      "(50000, 3072) (50000,)\n"
     ]
    },
    {
     "name": "stderr",
     "output_type": "stream",
     "text": [
      "/usr/local/lib/python3.5/dist-packages/sklearn/utils/validation.py:595: DataConversionWarning: Data with input dtype uint8 was converted to float64 by MinMaxScaler.\n",
      "  warnings.warn(msg, DataConversionWarning)\n"
     ]
    },
    {
     "name": "stdout",
     "output_type": "stream",
     "text": [
      "(10000, 3072) (10000,)\n"
     ]
    }
   ],
   "source": [
    "from dataset.dataset import load_cifar10\n",
    "\n",
    "train_data, test_data = load_cifar10(batch_size=64)"
   ]
  },
  {
   "cell_type": "markdown",
   "metadata": {},
   "source": [
    "# 网络结构设计\n",
    "\n",
    "VGG只使用两种核：\n",
    "- 卷积核的参数为：$(3\\times{3})$，```stride=1```，```padding=1```，```channel=64*n```；\n",
    "- 池化核参数为：$(2\\times{2})$，```stride=2```。\n",
    "\n",
    "这里我们设计一个应用于CIFAR-10的mini型VGG网络，这里我们只使用```conv1-1```->```conv1-2```>```maxpool1```->```conv2-1```->```conv2-2```->```conv2-3```->```maxpool2```->```FC```->```FC```的结构；同时缩小通道数，以$32$为准而不是$64$。"
   ]
  },
  {
   "cell_type": "code",
   "execution_count": 3,
   "metadata": {},
   "outputs": [
    {
     "name": "stderr",
     "output_type": "stream",
     "text": [
      "/usr/local/lib/python3.5/dist-packages/h5py/__init__.py:36: FutureWarning: Conversion of the second argument of issubdtype from `float` to `np.floating` is deprecated. In future, it will be treated as `np.float64 == np.dtype(float).type`.\n",
      "  from ._conv import register_converters as _register_converters\n"
     ]
    }
   ],
   "source": [
    "import tensorflow as tf\n",
    "\n",
    "unit_I = train_data.n_features    # 输入单元数，等于特征数\n",
    "\n",
    "filters_1 = 32    # 卷积核的数量\n",
    "filters_2 = 64\n",
    "conv_size = (3, 3)    # 卷积核尺寸\n",
    "\n",
    "pool_size = (2, 2)    # 池化核尺寸\n",
    "strides = (2, 2)    # 核移动的步长\n",
    "\n",
    "fc_size = 128    # 全连接层单元数\n",
    "\n",
    "unit_O = 10    # 输出单元数，类别数"
   ]
  },
  {
   "cell_type": "markdown",
   "metadata": {},
   "source": [
    "# 搭建网络"
   ]
  },
  {
   "cell_type": "code",
   "execution_count": 4,
   "metadata": {
    "scrolled": true
   },
   "outputs": [
    {
     "name": "stdout",
     "output_type": "stream",
     "text": [
      "WARNING:tensorflow:From <ipython-input-4-86ba7206ebea>:9: conv2d (from tensorflow.python.layers.convolutional) is deprecated and will be removed in a future version.\n",
      "Instructions for updating:\n",
      "Use keras.layers.conv2d instead.\n",
      "WARNING:tensorflow:From /usr/local/lib/python3.5/dist-packages/tensorflow/python/framework/op_def_library.py:263: colocate_with (from tensorflow.python.framework.ops) is deprecated and will be removed in a future version.\n",
      "Instructions for updating:\n",
      "Colocations handled automatically by placer.\n",
      "WARNING:tensorflow:From <ipython-input-4-86ba7206ebea>:14: max_pooling2d (from tensorflow.python.layers.pooling) is deprecated and will be removed in a future version.\n",
      "Instructions for updating:\n",
      "Use keras.layers.max_pooling2d instead.\n",
      "WARNING:tensorflow:From <ipython-input-4-86ba7206ebea>:28: flatten (from tensorflow.python.layers.core) is deprecated and will be removed in a future version.\n",
      "Instructions for updating:\n",
      "Use keras.layers.flatten instead.\n",
      "WARNING:tensorflow:From <ipython-input-4-86ba7206ebea>:29: dense (from tensorflow.python.layers.core) is deprecated and will be removed in a future version.\n",
      "Instructions for updating:\n",
      "Use keras.layers.dense instead.\n",
      "WARNING:tensorflow:From /usr/local/lib/python3.5/dist-packages/tensorflow/python/ops/losses/losses_impl.py:209: to_float (from tensorflow.python.ops.math_ops) is deprecated and will be removed in a future version.\n",
      "Instructions for updating:\n",
      "Use tf.cast instead.\n"
     ]
    }
   ],
   "source": [
    "X = tf.placeholder(tf.float32, [None, unit_I])  # 数据的样本数不指定，只指定特征数\n",
    "Y = tf.placeholder(tf.int64, [None])    # 目标值为列向量，int64为了兼容\n",
    "X_img = tf.transpose(tf.reshape(X, [-1, 3, 32, 32]),\n",
    "                     perm=[0, 2, 3, 1])    # 转为图片格式送入模型，(n_samples,width,height,depth)\n",
    "\n",
    "with tf.name_scope('VGG'):\n",
    "    conv1_1 = tf.layers.conv2d(X_img, filters=filters_1,\n",
    "                               kernel_size=conv_size, padding='same',\n",
    "                               activation=tf.nn.relu, name='conv1-1')\n",
    "    conv1_2 = tf.layers.conv2d(conv1_1, filters=filters_1,\n",
    "                               kernel_size=conv_size, padding='same',\n",
    "                               activation=tf.nn.relu, name='conv1-2')\n",
    "    maxpool1 = tf.layers.max_pooling2d(conv1_2, pool_size=pool_size,\n",
    "                                       strides=strides, name='pooling1')\n",
    "\n",
    "    conv2_1 = tf.layers.conv2d(maxpool1, filters=filters_2,\n",
    "                               kernel_size=conv_size, padding='same',\n",
    "                               activation=tf.nn.relu, name='conv2-1')\n",
    "    conv2_2 = tf.layers.conv2d(conv2_1, filters=filters_2,\n",
    "                               kernel_size=conv_size, padding='same',\n",
    "                               activation=tf.nn.relu, name='conv2-2')\n",
    "    conv2_3 = tf.layers.conv2d(conv2_2, filters=filters_2,\n",
    "                               kernel_size=conv_size, padding='same',\n",
    "                               activation=tf.nn.relu, name='conv2-3')\n",
    "    maxpool2 = tf.layers.max_pooling2d(conv2_3, pool_size=pool_size,\n",
    "                                       strides=strides, name='pooling2')\n",
    "\n",
    "    fc = tf.layers.dense(tf.layers.flatten(maxpool2),\n",
    "                         fc_size, activation=tf.nn.relu)\n",
    "\n",
    "    # 最后一层直接输出logits，无激活函数\n",
    "    logits = tf.layers.dense(fc, unit_O, activation=None)    # (None,unit_O)\n",
    "\n",
    "# 评估图\n",
    "with tf.name_scope('Eval'):\n",
    "    # 计算一维向量与onehot向量之间的损失\n",
    "    loss = tf.losses.sparse_softmax_cross_entropy(labels=Y, logits=logits)\n",
    "    predict = tf.argmax(logits, 1)\n",
    "    accuracy = tf.reduce_mean(tf.cast(tf.equal(predict, Y), tf.float32))\n",
    "\n",
    "# 优化图\n",
    "with tf.name_scope('train_op'):\n",
    "    lr = 1e-3\n",
    "    train_op = tf.train.AdamOptimizer(lr).minimize(loss)\n",
    "\n",
    "init = tf.global_variables_initializer()\n",
    "config = tf.ConfigProto()\n",
    "config.gpu_options.allow_growth = True    # 按需使用显存"
   ]
  },
  {
   "cell_type": "markdown",
   "metadata": {},
   "source": [
    "# 训练网络"
   ]
  },
  {
   "cell_type": "code",
   "execution_count": 5,
   "metadata": {
    "scrolled": false
   },
   "outputs": [
    {
     "name": "stdout",
     "output_type": "stream",
     "text": [
      "epoch: 1, batch_loss: 0.7684589624404907, batch_acc: 0.6875\n",
      "epoch: 2, batch_loss: 0.7731062173843384, batch_acc: 0.734375\n",
      "epoch: 3, batch_loss: 0.8782830238342285, batch_acc: 0.734375\n",
      "epoch: 5, batch_loss: 0.5038878917694092, batch_acc: 0.8125\n",
      "epoch: 6, batch_loss: 0.29270845651626587, batch_acc: 0.9375\n",
      "epoch: 6, test_acc: 0.7410857081413269\n",
      "epoch: 7, batch_loss: 0.5014832019805908, batch_acc: 0.828125\n",
      "epoch: 8, batch_loss: 0.19478091597557068, batch_acc: 0.90625\n",
      "epoch: 10, batch_loss: 0.11188936978578568, batch_acc: 0.96875\n",
      "epoch: 11, batch_loss: 0.12892422080039978, batch_acc: 0.953125\n",
      "epoch: 12, batch_loss: 0.13451510667800903, batch_acc: 0.953125\n",
      "epoch: 12, test_acc: 0.7376803159713745\n",
      "epoch: 14, batch_loss: 0.14260753989219666, batch_acc: 0.90625\n",
      "epoch: 15, batch_loss: 0.060490645468235016, batch_acc: 0.96875\n",
      "epoch: 16, batch_loss: 0.07656018435955048, batch_acc: 0.953125\n",
      "epoch: 17, batch_loss: 0.10582084953784943, batch_acc: 0.984375\n",
      "epoch: 19, batch_loss: 0.03536594286561012, batch_acc: 0.984375\n",
      "epoch: 19, test_acc: 0.7225561141967773\n"
     ]
    }
   ],
   "source": [
    "import numpy as np\n",
    "\n",
    "with tf.Session(config=config) as sess:\n",
    "    sess.run(init)\n",
    "    epochs = 20\n",
    "\n",
    "    batch_cnt = 0\n",
    "    for epoch in range(epochs):\n",
    "        for batch_data, batch_labels in train_data.next_batch():\n",
    "            batch_cnt += 1\n",
    "            loss_val, acc_val, _ = sess.run([loss, accuracy, train_op],\n",
    "                                            feed_dict={X: batch_data,\n",
    "                                                       Y: batch_labels})\n",
    "\n",
    "            # 每1000batch输出一次信息\n",
    "            if (batch_cnt+1) % 1000 == 0:\n",
    "                print('epoch: {}, batch_loss: {}, batch_acc: {}'.format(\n",
    "                    epoch, loss_val, acc_val))\n",
    "\n",
    "            # 每5000batch做一次验证\n",
    "            if (batch_cnt+1) % 5000 == 0:\n",
    "                all_test_acc_val = list()\n",
    "                for test_batch_data, test_batch_labels in test_data.next_batch():\n",
    "                    test_acc_val = sess.run([accuracy],\n",
    "                                            feed_dict={X: test_batch_data,\n",
    "                                                       Y: test_batch_labels})\n",
    "                    all_test_acc_val.append(test_acc_val)\n",
    "                test_acc = np.mean(all_test_acc_val)\n",
    "                print('epoch: {}, test_acc: {}'.format(epoch, test_acc))"
   ]
  },
  {
   "cell_type": "markdown",
   "metadata": {},
   "source": [
    "可以明显看到这里实现的mini-VGG在CIFAR-10数据集上的效果要优于之前的mini-CNN，不过训练时间也有明显的增加，同时发现了过拟合现象。"
   ]
  }
 ],
 "metadata": {
  "kernelspec": {
   "display_name": "Python 3",
   "language": "python",
   "name": "python3"
  },
  "language_info": {
   "codemirror_mode": {
    "name": "ipython",
    "version": 3
   },
   "file_extension": ".py",
   "mimetype": "text/x-python",
   "name": "python",
   "nbconvert_exporter": "python",
   "pygments_lexer": "ipython3",
   "version": "3.5.2"
  }
 },
 "nbformat": 4,
 "nbformat_minor": 2
}
