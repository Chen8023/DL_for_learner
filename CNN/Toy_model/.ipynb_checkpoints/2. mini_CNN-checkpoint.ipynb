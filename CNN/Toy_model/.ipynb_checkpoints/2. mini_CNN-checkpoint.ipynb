{
 "cells": [
  {
   "cell_type": "code",
   "execution_count": 1,
   "metadata": {},
   "outputs": [],
   "source": [
    "import os\n",
    "os.sys.path.append(os.path.dirname(os.path.abspath('..')))"
   ]
  },
  {
   "cell_type": "markdown",
   "metadata": {},
   "source": [
    "# 数据准备"
   ]
  },
  {
   "cell_type": "code",
   "execution_count": 2,
   "metadata": {},
   "outputs": [
    {
     "name": "stderr",
     "output_type": "stream",
     "text": [
      "/usr/local/lib/python3.5/dist-packages/sklearn/utils/validation.py:595: DataConversionWarning: Data with input dtype uint8 was converted to float64 by MinMaxScaler.\n",
      "  warnings.warn(msg, DataConversionWarning)\n"
     ]
    },
    {
     "name": "stdout",
     "output_type": "stream",
     "text": [
      "(50000, 3072) (50000,)\n"
     ]
    },
    {
     "name": "stderr",
     "output_type": "stream",
     "text": [
      "/usr/local/lib/python3.5/dist-packages/sklearn/utils/validation.py:595: DataConversionWarning: Data with input dtype uint8 was converted to float64 by MinMaxScaler.\n",
      "  warnings.warn(msg, DataConversionWarning)\n"
     ]
    },
    {
     "name": "stdout",
     "output_type": "stream",
     "text": [
      "(10000, 3072) (10000,)\n"
     ]
    }
   ],
   "source": [
    "from dataset.dataset import load_cifar10\n",
    "\n",
    "train_data,test_data=load_cifar10(batch_size=64)"
   ]
  },
  {
   "cell_type": "markdown",
   "metadata": {},
   "source": [
    "# 网络结构设计"
   ]
  },
  {
   "cell_type": "code",
   "execution_count": 3,
   "metadata": {},
   "outputs": [
    {
     "name": "stderr",
     "output_type": "stream",
     "text": [
      "/usr/local/lib/python3.5/dist-packages/h5py/__init__.py:36: FutureWarning: Conversion of the second argument of issubdtype from `float` to `np.floating` is deprecated. In future, it will be treated as `np.float64 == np.dtype(float).type`.\n",
      "  from ._conv import register_converters as _register_converters\n"
     ]
    }
   ],
   "source": [
    "import tensorflow as tf\n",
    "\n",
    "unit_I = train_data.n_features    # 输入单元数，等于特征数\n",
    "\n",
    "filters = 32    # 卷积核的数量\n",
    "conv_size = (3, 3)    # 卷积核尺寸\n",
    "\n",
    "pool_size = (2, 2)    # 池化核尺寸\n",
    "strides = (2, 2)    # 核移动的步长\n",
    "\n",
    "fc_size = 128\n",
    "\n",
    "unit_O = 10    # 输出单元数，类别数"
   ]
  },
  {
   "cell_type": "markdown",
   "metadata": {},
   "source": [
    "# 搭建网络\n",
    "TensorFlow自身提供了增加层数的方法。"
   ]
  },
  {
   "cell_type": "code",
   "execution_count": 4,
   "metadata": {
    "scrolled": true
   },
   "outputs": [
    {
     "name": "stdout",
     "output_type": "stream",
     "text": [
      "WARNING:tensorflow:From <ipython-input-4-153b77e4e85e>:11: conv2d (from tensorflow.python.layers.convolutional) is deprecated and will be removed in a future version.\n",
      "Instructions for updating:\n",
      "Use keras.layers.conv2d instead.\n",
      "WARNING:tensorflow:From /usr/local/lib/python3.5/dist-packages/tensorflow/python/framework/op_def_library.py:263: colocate_with (from tensorflow.python.framework.ops) is deprecated and will be removed in a future version.\n",
      "Instructions for updating:\n",
      "Colocations handled automatically by placer.\n",
      "WARNING:tensorflow:From <ipython-input-4-153b77e4e85e>:13: max_pooling2d (from tensorflow.python.layers.pooling) is deprecated and will be removed in a future version.\n",
      "Instructions for updating:\n",
      "Use keras.layers.max_pooling2d instead.\n",
      "WARNING:tensorflow:From <ipython-input-4-153b77e4e85e>:24: flatten (from tensorflow.python.layers.core) is deprecated and will be removed in a future version.\n",
      "Instructions for updating:\n",
      "Use keras.layers.flatten instead.\n",
      "WARNING:tensorflow:From <ipython-input-4-153b77e4e85e>:25: dense (from tensorflow.python.layers.core) is deprecated and will be removed in a future version.\n",
      "Instructions for updating:\n",
      "Use keras.layers.dense instead.\n",
      "WARNING:tensorflow:From /usr/local/lib/python3.5/dist-packages/tensorflow/python/ops/losses/losses_impl.py:209: to_float (from tensorflow.python.ops.math_ops) is deprecated and will be removed in a future version.\n",
      "Instructions for updating:\n",
      "Use tf.cast instead.\n"
     ]
    }
   ],
   "source": [
    "# 输入必须是可由用户指定的，所以设为placeholder\n",
    "X = tf.placeholder(tf.float32, [None, unit_I])  # 数据的样本数不指定，只指定特征数\n",
    "Y = tf.placeholder(tf.int64, [None])    # 目标值为列向量，int64为了兼容\n",
    "X_img = tf.transpose(tf.reshape(X, [-1, 3, 32, 32]),\n",
    "                     perm=[0, 2, 3, 1])    # 转为图片格式送入模型，(n_samples,width,height,depth)\n",
    "\n",
    "# 网络结构图\n",
    "with tf.name_scope('CNN'):\n",
    "    conv1 = tf.layers.conv2d(X_img, filters=filters,\n",
    "                             kernel_size=conv_size, padding='same',\n",
    "                             activation=tf.nn.relu, name='conv1')\n",
    "    pooling1 = tf.layers.max_pooling2d(conv1, pool_size=pool_size,\n",
    "                                       strides=strides, name='pooling1')\n",
    "    conv2 = tf.layers.conv2d(pooling1, filters=filters,\n",
    "                             kernel_size=conv_size, padding='same',\n",
    "                             activation=tf.nn.relu, name='conv2')\n",
    "    pooling2 = tf.layers.max_pooling2d(conv2, pool_size=pool_size,\n",
    "                                       strides=strides, name='pooling2')\n",
    "    conv3 = tf.layers.conv2d(pooling2, filters=filters,\n",
    "                             kernel_size=conv_size, padding='same',\n",
    "                             activation=tf.nn.relu, name='conv3')\n",
    "    pooling3 = tf.layers.max_pooling2d(conv3, pool_size=pool_size,\n",
    "                                       strides=strides, name='pooling3')\n",
    "    fc = tf.layers.dense(tf.layers.flatten(pooling3),\n",
    "                         fc_size, activation=tf.nn.relu)\n",
    "    logits = tf.layers.dense(fc, unit_O, activation=None)\n",
    "\n",
    "# 评估图\n",
    "with tf.name_scope('Eval'):\n",
    "    # 计算一维向量与onehot向量之间的损失\n",
    "    loss = tf.losses.sparse_softmax_cross_entropy(labels=Y, logits=logits)\n",
    "    predict = tf.argmax(logits, 1)\n",
    "    accuracy = tf.reduce_mean(tf.cast(tf.equal(predict, Y), tf.float32))\n",
    "\n",
    "# 优化图\n",
    "with tf.name_scope('train_op'):\n",
    "    lr = 1e-3\n",
    "    train_op = tf.train.AdamOptimizer(lr).minimize(loss)\n",
    "\n",
    "init = tf.global_variables_initializer()\n",
    "config = tf.ConfigProto()\n",
    "config.gpu_options.allow_growth = True    # 按需使用显存"
   ]
  },
  {
   "cell_type": "markdown",
   "metadata": {},
   "source": [
    "# 训练网络"
   ]
  },
  {
   "cell_type": "code",
   "execution_count": 5,
   "metadata": {
    "scrolled": false
   },
   "outputs": [
    {
     "name": "stdout",
     "output_type": "stream",
     "text": [
      "epoch: 1, batch_loss: 1.1121983528137207, batch_acc: 0.65625\n",
      "epoch: 2, batch_loss: 1.0409471988677979, batch_acc: 0.546875\n",
      "epoch: 3, batch_loss: 0.9590150117874146, batch_acc: 0.625\n",
      "epoch: 5, batch_loss: 0.5987226963043213, batch_acc: 0.828125\n",
      "epoch: 6, batch_loss: 0.739209771156311, batch_acc: 0.734375\n",
      "epoch: 6, test_acc: 0.6999198794364929\n",
      "epoch: 7, batch_loss: 0.82710862159729, batch_acc: 0.703125\n",
      "epoch: 8, batch_loss: 0.7348452806472778, batch_acc: 0.75\n",
      "epoch: 10, batch_loss: 0.43963366746902466, batch_acc: 0.828125\n",
      "epoch: 11, batch_loss: 0.7753157615661621, batch_acc: 0.734375\n",
      "epoch: 12, batch_loss: 0.6161017417907715, batch_acc: 0.796875\n",
      "epoch: 12, test_acc: 0.7143429517745972\n",
      "epoch: 14, batch_loss: 0.4765985310077667, batch_acc: 0.75\n",
      "epoch: 15, batch_loss: 0.4126424789428711, batch_acc: 0.8125\n",
      "epoch: 16, batch_loss: 0.7285220623016357, batch_acc: 0.78125\n",
      "epoch: 17, batch_loss: 0.5084350109100342, batch_acc: 0.796875\n",
      "epoch: 19, batch_loss: 0.39072269201278687, batch_acc: 0.828125\n",
      "epoch: 19, test_acc: 0.711838960647583\n"
     ]
    }
   ],
   "source": [
    "import numpy as np\n",
    "\n",
    "with tf.Session(config=config) as sess:\n",
    "    sess.run(init)\n",
    "    epochs = 20\n",
    "\n",
    "    batch_cnt = 0\n",
    "    for epoch in range(epochs):\n",
    "        for batch_data, batch_labels in train_data.next_batch():\n",
    "            batch_cnt += 1\n",
    "            loss_val, acc_val, _ = sess.run(\n",
    "                [loss, accuracy, train_op], feed_dict={\n",
    "                    X: batch_data,\n",
    "                    Y: batch_labels})\n",
    "\n",
    "            # 每1000batch输出一次信息\n",
    "            if (batch_cnt+1) % 1000 == 0:\n",
    "                print('epoch: {}, batch_loss: {}, batch_acc: {}'.format(\n",
    "                    epoch, loss_val, acc_val))\n",
    "\n",
    "            # 每5000batch做一次验证\n",
    "            if (batch_cnt+1) % 5000 == 0:\n",
    "                all_test_acc_val = list()\n",
    "                for test_batch_data, test_batch_labels in test_data.next_batch():\n",
    "                    test_acc_val = sess.run(\n",
    "                        [accuracy],\n",
    "                        feed_dict={\n",
    "                            X: test_batch_data,\n",
    "                            Y: test_batch_labels\n",
    "                        })\n",
    "                    all_test_acc_val.append(test_acc_val)\n",
    "                test_acc = np.mean(all_test_acc_val)\n",
    "                print('epoch: {}, test_acc: {}'.format(epoch, test_acc))"
   ]
  },
  {
   "cell_type": "code",
   "execution_count": null,
   "metadata": {},
   "outputs": [],
   "source": []
  }
 ],
 "metadata": {
  "kernelspec": {
   "display_name": "Python 3",
   "language": "python",
   "name": "python3"
  },
  "language_info": {
   "codemirror_mode": {
    "name": "ipython",
    "version": 3
   },
   "file_extension": ".py",
   "mimetype": "text/x-python",
   "name": "python",
   "nbconvert_exporter": "python",
   "pygments_lexer": "ipython3",
   "version": "3.5.2"
  }
 },
 "nbformat": 4,
 "nbformat_minor": 2
}
