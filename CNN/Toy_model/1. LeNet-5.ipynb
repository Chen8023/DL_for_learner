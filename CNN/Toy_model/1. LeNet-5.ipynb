{
 "cells": [
  {
   "cell_type": "code",
   "execution_count": 1,
   "metadata": {},
   "outputs": [],
   "source": [
    "import os\n",
    "os.sys.path.append(os.path.dirname(os.path.abspath('.')))"
   ]
  },
  {
   "cell_type": "markdown",
   "metadata": {},
   "source": [
    "# 数据准备"
   ]
  },
  {
   "cell_type": "code",
   "execution_count": 2,
   "metadata": {},
   "outputs": [
    {
     "name": "stderr",
     "output_type": "stream",
     "text": [
      "/usr/lib/python3.5/importlib/_bootstrap.py:222: RuntimeWarning: numpy.dtype size changed, may indicate binary incompatibility. Expected 96, got 88\n",
      "  return f(*args, **kwds)\n",
      "/usr/lib/python3.5/importlib/_bootstrap.py:222: RuntimeWarning: numpy.dtype size changed, may indicate binary incompatibility. Expected 96, got 88\n",
      "  return f(*args, **kwds)\n",
      "/usr/local/lib/python3.5/dist-packages/sklearn/utils/validation.py:590: DataConversionWarning: Data with input dtype uint8 was converted to float64 by StandardScaler.\n",
      "  warnings.warn(msg, DataConversionWarning)\n",
      "/usr/local/lib/python3.5/dist-packages/sklearn/utils/validation.py:590: DataConversionWarning: Data with input dtype uint8 was converted to float64 by StandardScaler.\n",
      "  warnings.warn(msg, DataConversionWarning)\n",
      "/usr/local/lib/python3.5/dist-packages/sklearn/utils/validation.py:590: DataConversionWarning: Data with input dtype uint8 was converted to float64 by StandardScaler.\n",
      "  warnings.warn(msg, DataConversionWarning)\n"
     ]
    },
    {
     "name": "stdout",
     "output_type": "stream",
     "text": [
      "(60000, 784) (60000,)\n",
      "(10000, 784) (10000,)\n"
     ]
    },
    {
     "name": "stderr",
     "output_type": "stream",
     "text": [
      "/usr/local/lib/python3.5/dist-packages/sklearn/utils/validation.py:590: DataConversionWarning: Data with input dtype uint8 was converted to float64 by StandardScaler.\n",
      "  warnings.warn(msg, DataConversionWarning)\n"
     ]
    }
   ],
   "source": [
    "from dataset.dataset import load_mnist\n",
    "\n",
    "train_data,test_data=load_mnist(batch_size=64)"
   ]
  },
  {
   "cell_type": "markdown",
   "metadata": {},
   "source": [
    "# 网络结构设计\n",
    "LeNet-5的网络结构如下表所示：\n",
    "\n",
    "|kernel|n_kernel|padding|stride|\n",
    "|-|:-:|:-:|:-:|\n",
    "|Conv 5*5|5|2|1|\n",
    "|MaxPool 2*2|-|0|2|\n",
    "|Conv 5*5|16|0|1|\n",
    "|MaxPool 2*2|-|0|2|\n",
    "|Conv 1*1|120|0|1|\n",
    "|FC 84|-|-|-|\n",
    "|Output 10|-|-|-|"
   ]
  },
  {
   "cell_type": "code",
   "execution_count": 3,
   "metadata": {},
   "outputs": [
    {
     "name": "stderr",
     "output_type": "stream",
     "text": [
      "/usr/lib/python3.5/importlib/_bootstrap.py:222: RuntimeWarning: numpy.dtype size changed, may indicate binary incompatibility. Expected 96, got 88\n",
      "  return f(*args, **kwds)\n",
      "/usr/local/lib/python3.5/dist-packages/h5py/__init__.py:36: FutureWarning: Conversion of the second argument of issubdtype from `float` to `np.floating` is deprecated. In future, it will be treated as `np.float64 == np.dtype(float).type`.\n",
      "  from ._conv import register_converters as _register_converters\n"
     ]
    }
   ],
   "source": [
    "import tensorflow as tf\n",
    "\n",
    "unit_I = train_data.n_features    # 输入单元数，等于特征数\n",
    "\n",
    "n_filters = [5, 16, 120]    # 卷积核数量\n",
    "conv_sizes = [(5, 5), (5, 5), (1, 1)]    # 卷积核尺寸\n",
    "\n",
    "pool_size = (2, 2)    # 池化核尺寸\n",
    "strides = (2, 2)    # 核移动的步长\n",
    "\n",
    "FC_size = 84    # 全连接层单元数\n",
    "\n",
    "unit_O = 10    # 输出单元数，类别数"
   ]
  },
  {
   "cell_type": "markdown",
   "metadata": {},
   "source": [
    "# 搭建网络"
   ]
  },
  {
   "cell_type": "code",
   "execution_count": 4,
   "metadata": {},
   "outputs": [
    {
     "name": "stdout",
     "output_type": "stream",
     "text": [
      "WARNING:tensorflow:From <ipython-input-4-ce709a6630eb>:12: conv2d (from tensorflow.python.layers.convolutional) is deprecated and will be removed in a future version.\n",
      "Instructions for updating:\n",
      "Use keras.layers.conv2d instead.\n",
      "WARNING:tensorflow:From /usr/local/lib/python3.5/dist-packages/tensorflow/python/framework/op_def_library.py:263: colocate_with (from tensorflow.python.framework.ops) is deprecated and will be removed in a future version.\n",
      "Instructions for updating:\n",
      "Colocations handled automatically by placer.\n",
      "WARNING:tensorflow:From <ipython-input-4-ce709a6630eb>:14: max_pooling2d (from tensorflow.python.layers.pooling) is deprecated and will be removed in a future version.\n",
      "Instructions for updating:\n",
      "Use keras.layers.max_pooling2d instead.\n",
      "WARNING:tensorflow:From <ipython-input-4-ce709a6630eb>:24: flatten (from tensorflow.python.layers.core) is deprecated and will be removed in a future version.\n",
      "Instructions for updating:\n",
      "Use keras.layers.flatten instead.\n",
      "WARNING:tensorflow:From <ipython-input-4-ce709a6630eb>:24: dense (from tensorflow.python.layers.core) is deprecated and will be removed in a future version.\n",
      "Instructions for updating:\n",
      "Use keras.layers.dense instead.\n",
      "WARNING:tensorflow:From /usr/local/lib/python3.5/dist-packages/tensorflow/python/ops/losses/losses_impl.py:209: to_float (from tensorflow.python.ops.math_ops) is deprecated and will be removed in a future version.\n",
      "Instructions for updating:\n",
      "Use tf.cast instead.\n"
     ]
    }
   ],
   "source": [
    "# 输入必须是可由用户指定的，所以设为placeholder\n",
    "X = tf.placeholder(tf.float32, [None, unit_I])  # 数据的样本数不指定，只指定特征数\n",
    "Y = tf.placeholder(tf.int64, [None])    # 目标值为列向量，int64为了兼容\n",
    "# 转为图片格式送入模型，(n_samples,width,height,depth)\n",
    "X_img = tf.reshape(X, [-1, 28, 28, 1])\n",
    "training = tf.placeholder_with_default(False, shape=[], name='training')\n",
    "\n",
    "# 网络结构图\n",
    "with tf.name_scope('LeNet-5'):\n",
    "    C1 = tf.layers.conv2d(X_img, filters=n_filters[0],\n",
    "                          kernel_size=conv_sizes[0], padding='same',\n",
    "                          activation=tf.nn.tanh, name='C1')\n",
    "    S2 = tf.layers.max_pooling2d(C1, pool_size=pool_size,\n",
    "                                 strides=strides, name='S2')\n",
    "    C3 = tf.layers.conv2d(S2, filters=n_filters[1],\n",
    "                          kernel_size=conv_sizes[1],\n",
    "                          activation=tf.nn.tanh, name='C3')\n",
    "    S4 = tf.layers.max_pooling2d(C3, pool_size=pool_size,\n",
    "                                 strides=strides, name='S4')\n",
    "    C5 = tf.layers.conv2d(S4, filters=n_filters[2],\n",
    "                          kernel_size=conv_sizes[2],\n",
    "                          activation=tf.nn.tanh, name='C5')\n",
    "    FC6 = tf.layers.dense(tf.layers.flatten(\n",
    "        C5), FC_size, activation=tf.nn.tanh)\n",
    "    # 最后一层直接输出logits，无激活函数\n",
    "    logits = tf.layers.dense(FC6, unit_O, activation=None)\n",
    "\n",
    "# 评估图\n",
    "with tf.name_scope('Eval'):\n",
    "    # 计算一维向量与onehot向量之间的损失\n",
    "    loss = tf.losses.sparse_softmax_cross_entropy(labels=Y, logits=logits)\n",
    "    predict = tf.argmax(logits, 1)\n",
    "    accuracy = tf.reduce_mean(tf.cast(tf.equal(predict, Y), tf.float32))\n",
    "\n",
    "# 优化图\n",
    "with tf.name_scope('train_op'):\n",
    "    lr = 1e-3\n",
    "    train_op = tf.train.AdamOptimizer(lr).minimize(loss)\n",
    "\n",
    "init = tf.global_variables_initializer()\n",
    "config = tf.ConfigProto()\n",
    "config.gpu_options.allow_growth = True    # 按需使用显存"
   ]
  },
  {
   "cell_type": "markdown",
   "metadata": {},
   "source": [
    "# 训练网络"
   ]
  },
  {
   "cell_type": "code",
   "execution_count": 5,
   "metadata": {
    "scrolled": true
   },
   "outputs": [
    {
     "name": "stdout",
     "output_type": "stream",
     "text": [
      "epoch: 2, batch_loss: 0.05612795799970627, batch_acc: 1.0\n",
      "epoch: 3, batch_loss: 0.02545132488012314, batch_acc: 1.0\n",
      "epoch: 4, batch_loss: 0.0660727322101593, batch_acc: 0.984375\n",
      "epoch: 5, batch_loss: 0.025016916915774345, batch_acc: 1.0\n",
      "epoch: 6, batch_loss: 0.011777980253100395, batch_acc: 1.0\n",
      "epoch: 6, test_acc: 0.9857683181762695\n",
      "epoch: 7, batch_loss: 0.003964349161833525, batch_acc: 1.0\n",
      "epoch: 8, batch_loss: 0.0014940914697945118, batch_acc: 1.0\n",
      "epoch: 9, batch_loss: 0.0018690538126975298, batch_acc: 1.0\n",
      "epoch: 10, batch_loss: 0.007561715319752693, batch_acc: 1.0\n",
      "epoch: 11, batch_loss: 0.003070209175348282, batch_acc: 1.0\n",
      "epoch: 11, test_acc: 0.984175980091095\n",
      "epoch: 12, batch_loss: 0.0034181769005954266, batch_acc: 1.0\n",
      "epoch: 13, batch_loss: 0.03388844430446625, batch_acc: 0.984375\n",
      "epoch: 14, batch_loss: 0.003671220736578107, batch_acc: 1.0\n",
      "epoch: 15, batch_loss: 0.007189885713160038, batch_acc: 1.0\n",
      "epoch: 16, batch_loss: 0.009200932458043098, batch_acc: 1.0\n",
      "epoch: 16, test_acc: 0.9839769005775452\n",
      "epoch: 18, batch_loss: 0.00037828664062544703, batch_acc: 1.0\n",
      "epoch: 19, batch_loss: 0.0050733075477182865, batch_acc: 1.0\n",
      "epoch: 20, batch_loss: 0.007896454073488712, batch_acc: 1.0\n"
     ]
    }
   ],
   "source": [
    "import numpy as np\n",
    "\n",
    "with tf.Session(config=config) as sess:\n",
    "    sess.run(init)\n",
    "    epochs = 20\n",
    "\n",
    "    batch_cnt = 0\n",
    "    for epoch in range(epochs):\n",
    "        for batch_data, batch_labels in train_data.next_batch():\n",
    "            batch_cnt += 1\n",
    "            loss_val, acc_val, _ = sess.run(\n",
    "                [loss, accuracy, train_op],\n",
    "                feed_dict={\n",
    "                    X: batch_data,\n",
    "                    Y: batch_labels,\n",
    "                    training: True})\n",
    "\n",
    "            # 每1000batch输出一次信息\n",
    "            if (batch_cnt+1) % 1000 == 0:\n",
    "                print('epoch: {}, batch_loss: {}, batch_acc: {}'.format(\n",
    "                    epoch+1, loss_val, acc_val))\n",
    "\n",
    "            # 每5000batch做一次验证\n",
    "            if (batch_cnt+1) % 5000 == 0:\n",
    "                all_test_acc_val = list()\n",
    "                for test_batch_data, test_batch_labels in test_data.next_batch():\n",
    "                    test_acc_val = sess.run(\n",
    "                        [accuracy],\n",
    "                        feed_dict={\n",
    "                            X: test_batch_data,\n",
    "                            Y: test_batch_labels\n",
    "                        })\n",
    "                    all_test_acc_val.append(test_acc_val)\n",
    "                test_acc = np.mean(all_test_acc_val)\n",
    "                print('epoch: {}, test_acc: {}'.format(epoch+1, test_acc))"
   ]
  },
  {
   "cell_type": "code",
   "execution_count": null,
   "metadata": {},
   "outputs": [],
   "source": []
  }
 ],
 "metadata": {
  "kernelspec": {
   "display_name": "Python 3",
   "language": "python",
   "name": "python3"
  },
  "language_info": {
   "codemirror_mode": {
    "name": "ipython",
    "version": 3
   },
   "file_extension": ".py",
   "mimetype": "text/x-python",
   "name": "python",
   "nbconvert_exporter": "python",
   "pygments_lexer": "ipython3",
   "version": "3.5.2"
  }
 },
 "nbformat": 4,
 "nbformat_minor": 2
}
