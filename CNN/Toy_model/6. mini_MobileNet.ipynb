{
 "cells": [
  {
   "cell_type": "code",
   "execution_count": 1,
   "metadata": {},
   "outputs": [],
   "source": [
    "import os\n",
    "os.sys.path.append(os.path.dirname(os.path.abspath('..')))"
   ]
  },
  {
   "cell_type": "markdown",
   "metadata": {},
   "source": [
    "# 数据准备"
   ]
  },
  {
   "cell_type": "code",
   "execution_count": 2,
   "metadata": {},
   "outputs": [
    {
     "name": "stderr",
     "output_type": "stream",
     "text": [
      "/usr/local/lib/python3.5/dist-packages/sklearn/utils/validation.py:595: DataConversionWarning: Data with input dtype uint8 was converted to float64 by MinMaxScaler.\n",
      "  warnings.warn(msg, DataConversionWarning)\n"
     ]
    },
    {
     "name": "stdout",
     "output_type": "stream",
     "text": [
      "(50000, 3072) (50000,)\n"
     ]
    },
    {
     "name": "stderr",
     "output_type": "stream",
     "text": [
      "/usr/local/lib/python3.5/dist-packages/sklearn/utils/validation.py:595: DataConversionWarning: Data with input dtype uint8 was converted to float64 by MinMaxScaler.\n",
      "  warnings.warn(msg, DataConversionWarning)\n"
     ]
    },
    {
     "name": "stdout",
     "output_type": "stream",
     "text": [
      "(10000, 3072) (10000,)\n"
     ]
    }
   ],
   "source": [
    "from dataset.dataset import load_cifar10\n",
    "\n",
    "train_data,test_data=load_cifar10(batch_size=64)"
   ]
  },
  {
   "cell_type": "markdown",
   "metadata": {},
   "source": [
    "# 网络结构设计\n",
    "mobilenet中DSC+PC的结构是隔层使用的，即conv+DSC+PC+conv这样的结构。这里实现的mini-mobilenet与Googlenet类似，只使用两次级联结构。"
   ]
  },
  {
   "cell_type": "code",
   "execution_count": 3,
   "metadata": {},
   "outputs": [
    {
     "name": "stderr",
     "output_type": "stream",
     "text": [
      "/usr/local/lib/python3.5/dist-packages/h5py/__init__.py:36: FutureWarning: Conversion of the second argument of issubdtype from `float` to `np.floating` is deprecated. In future, it will be treated as `np.float64 == np.dtype(float).type`.\n",
      "  from ._conv import register_converters as _register_converters\n"
     ]
    }
   ],
   "source": [
    "import tensorflow as tf\n",
    "\n",
    "unit_I = train_data.n_features    # 输入单元数，等于特征数\n",
    "\n",
    "# 三种卷积核\n",
    "conv_size1 = (1, 1)\n",
    "conv_size3 = (3, 3)\n",
    "\n",
    "filters_1 = 32\n",
    "filters_2 = 64\n",
    "filters_3 = 128\n",
    "\n",
    "# 两种步长\n",
    "strides_1 = (1, 1)\n",
    "strides_2 = (2, 2)\n",
    "\n",
    "fc_size = 128    # 全连接层单元数\n",
    "\n",
    "unit_O = 10"
   ]
  },
  {
   "cell_type": "markdown",
   "metadata": {},
   "source": [
    "定义创建```Conv dw```结构的函数："
   ]
  },
  {
   "cell_type": "code",
   "execution_count": 4,
   "metadata": {},
   "outputs": [],
   "source": [
    "def conv_dw(inputs, filters, strides, name=None):\n",
    "    '''\n",
    "    filters: 改变通道数，PC层使用的参数\n",
    "    strides: 改变尺寸，DSC层使用的参数\n",
    "    '''\n",
    "    in_channels = inputs.get_shape().as_list()[-1]    # 最后一维为深度\n",
    "    input_split = tf.split(inputs, in_channels, axis=3)    # 按深度进行分割\n",
    "    DSC_outputs = list()\n",
    "\n",
    "    with tf.name_scope(name):\n",
    "        for i in range(in_channels):    # 分别对每个深度做卷积\n",
    "            cur_conv = tf.layers.conv2d(input_split[i], filters=1,\n",
    "                                        kernel_size=conv_size3, strides=strides,\n",
    "                                        padding='same', activation=tf.nn.relu)\n",
    "            DSC_outputs.append(cur_conv)\n",
    "        DSC_outputs = tf.concat(DSC_outputs, axis=3)\n",
    "\n",
    "        PC_layer = tf.layers.conv2d(DSC_outputs, filters=filters,\n",
    "                                    kernel_size=conv_size3, strides=strides_1,\n",
    "                                    padding='same', activation=tf.nn.relu)\n",
    "        \n",
    "    return PC_layer"
   ]
  },
  {
   "cell_type": "markdown",
   "metadata": {},
   "source": [
    "# 搭建网络"
   ]
  },
  {
   "cell_type": "code",
   "execution_count": 5,
   "metadata": {
    "scrolled": true
   },
   "outputs": [
    {
     "name": "stdout",
     "output_type": "stream",
     "text": [
      "WARNING:tensorflow:From <ipython-input-5-46bbbdf2a0ad>:10: conv2d (from tensorflow.python.layers.convolutional) is deprecated and will be removed in a future version.\n",
      "Instructions for updating:\n",
      "Use keras.layers.conv2d instead.\n",
      "WARNING:tensorflow:From /usr/local/lib/python3.5/dist-packages/tensorflow/python/framework/op_def_library.py:263: colocate_with (from tensorflow.python.framework.ops) is deprecated and will be removed in a future version.\n",
      "Instructions for updating:\n",
      "Colocations handled automatically by placer.\n",
      "WARNING:tensorflow:From <ipython-input-5-46bbbdf2a0ad>:27: average_pooling2d (from tensorflow.python.layers.pooling) is deprecated and will be removed in a future version.\n",
      "Instructions for updating:\n",
      "Use keras.layers.average_pooling2d instead.\n",
      "WARNING:tensorflow:From <ipython-input-5-46bbbdf2a0ad>:29: flatten (from tensorflow.python.layers.core) is deprecated and will be removed in a future version.\n",
      "Instructions for updating:\n",
      "Use keras.layers.flatten instead.\n",
      "WARNING:tensorflow:From <ipython-input-5-46bbbdf2a0ad>:30: dense (from tensorflow.python.layers.core) is deprecated and will be removed in a future version.\n",
      "Instructions for updating:\n",
      "Use keras.layers.dense instead.\n",
      "WARNING:tensorflow:From /usr/local/lib/python3.5/dist-packages/tensorflow/python/ops/losses/losses_impl.py:209: to_float (from tensorflow.python.ops.math_ops) is deprecated and will be removed in a future version.\n",
      "Instructions for updating:\n",
      "Use tf.cast instead.\n"
     ]
    }
   ],
   "source": [
    "X = tf.placeholder(tf.float32, [None, unit_I])  # 数据的样本数不指定，只指定特征数\n",
    "Y = tf.placeholder(tf.int64, [None])    # 目标值为列向量，int64为了兼容\n",
    "X_img = tf.transpose(tf.reshape(X, [-1, 3, 32, 32]),\n",
    "                     perm=[0, 2, 3, 1])    # 转为图片格式送入模型，(n_samples,width,height,depth)\n",
    "\n",
    "# 网络结构图\n",
    "with tf.name_scope('MobileNet'):\n",
    "    conv1 = tf.layers.conv2d(X_img, filters=filters_1,\n",
    "                             kernel_size=conv_size3, strides=strides_2,\n",
    "                             padding='same', activation=tf.nn.relu, name='conv1')\n",
    "    conv_dw_1 = conv_dw(conv1, filters=filters_1,\n",
    "                        strides=strides_1, name='conv_dw1')\n",
    "\n",
    "    conv2 = tf.layers.conv2d(X_img, filters=filters_2,\n",
    "                             kernel_size=conv_size1, strides=strides_1,\n",
    "                             padding='same', activation=tf.nn.relu, name='conv2')\n",
    "    conv_dw_2 = conv_dw(conv1, filters=filters_2,\n",
    "                        strides=strides_2, name='conv_dw2')\n",
    "\n",
    "    conv3 = tf.layers.conv2d(X_img, filters=filters_3,\n",
    "                             kernel_size=conv_size3, strides=strides_1,\n",
    "                             padding='same', activation=tf.nn.relu, name='conv3')\n",
    "    conv_dw_3 = conv_dw(conv1, filters=filters_3,\n",
    "                        strides=strides_1, name='conv_dw3')\n",
    "    \n",
    "    pooling=tf.layers.average_pooling2d(conv_dw_3, pool_size=conv_size3,\n",
    "                                           strides=strides_1, name='pooling')\n",
    "\n",
    "    fc = tf.layers.dense(tf.layers.flatten(pooling), fc_size,\n",
    "                         activation=tf.nn.relu, name='FC')\n",
    "\n",
    "    logits = tf.layers.dense(fc, unit_O, activation=None)\n",
    "\n",
    "# 评估图\n",
    "with tf.name_scope('Eval'):\n",
    "    # 计算一维向量与onehot向量之间的损失\n",
    "    loss = tf.losses.sparse_softmax_cross_entropy(labels=Y, logits=logits)\n",
    "    predict = tf.argmax(logits, 1)\n",
    "    accuracy = tf.reduce_mean(tf.cast(tf.equal(predict, Y), tf.float32))\n",
    "\n",
    "# 优化图\n",
    "with tf.name_scope('train_op'):\n",
    "    lr = 1e-3\n",
    "    train_op = tf.train.AdamOptimizer(lr).minimize(loss)\n",
    "\n",
    "init = tf.global_variables_initializer()\n",
    "config = tf.ConfigProto()\n",
    "config.gpu_options.allow_growth = True    # 按需使用显存"
   ]
  },
  {
   "cell_type": "markdown",
   "metadata": {},
   "source": [
    "# 训练网络"
   ]
  },
  {
   "cell_type": "code",
   "execution_count": 6,
   "metadata": {
    "scrolled": false
   },
   "outputs": [
    {
     "name": "stdout",
     "output_type": "stream",
     "text": [
      "epoch: 1, batch_loss: 0.8887923955917358, batch_acc: 0.65625\n",
      "epoch: 2, batch_loss: 0.8980585336685181, batch_acc: 0.65625\n",
      "epoch: 3, batch_loss: 0.6783936023712158, batch_acc: 0.75\n",
      "epoch: 5, batch_loss: 0.5539352297782898, batch_acc: 0.859375\n",
      "epoch: 6, batch_loss: 0.46830227971076965, batch_acc: 0.796875\n",
      "epoch: 6, test_acc: 0.733473539352417\n",
      "epoch: 7, batch_loss: 0.5143811702728271, batch_acc: 0.84375\n",
      "epoch: 8, batch_loss: 0.18421509861946106, batch_acc: 0.953125\n",
      "epoch: 10, batch_loss: 0.28145772218704224, batch_acc: 0.90625\n",
      "epoch: 11, batch_loss: 0.12987932562828064, batch_acc: 0.953125\n",
      "epoch: 12, batch_loss: 0.11782132089138031, batch_acc: 0.953125\n",
      "epoch: 12, test_acc: 0.7272636294364929\n",
      "epoch: 14, batch_loss: 0.04714268073439598, batch_acc: 1.0\n",
      "epoch: 15, batch_loss: 0.10158750414848328, batch_acc: 0.96875\n",
      "epoch: 16, batch_loss: 0.17938190698623657, batch_acc: 0.921875\n",
      "epoch: 17, batch_loss: 0.11327043920755386, batch_acc: 0.9375\n",
      "epoch: 19, batch_loss: 0.1213018149137497, batch_acc: 0.953125\n",
      "epoch: 19, test_acc: 0.7286658883094788\n"
     ]
    }
   ],
   "source": [
    "import numpy as np\n",
    "\n",
    "with tf.Session(config=config) as sess:\n",
    "    sess.run(init)\n",
    "    epochs = 20\n",
    "\n",
    "    batch_cnt = 0\n",
    "    for epoch in range(epochs):\n",
    "        for batch_data, batch_labels in train_data.next_batch():\n",
    "            batch_cnt += 1\n",
    "            loss_val, acc_val, _ = sess.run([loss, accuracy, train_op],\n",
    "                feed_dict={X: batch_data,\n",
    "                    Y: batch_labels})\n",
    "\n",
    "            # 每1000batch输出一次信息\n",
    "            if (batch_cnt+1) % 1000 == 0:\n",
    "                print('epoch: {}, batch_loss: {}, batch_acc: {}'.format(\n",
    "                    epoch, loss_val, acc_val))\n",
    "\n",
    "            # 每5000batch做一次验证\n",
    "            if (batch_cnt+1) % 5000 == 0:\n",
    "                all_test_acc_val = list()\n",
    "                for test_batch_data, test_batch_labels in test_data.next_batch():\n",
    "                    test_acc_val = sess.run([accuracy],\n",
    "                        feed_dict={X: test_batch_data,\n",
    "                            Y: test_batch_labels})\n",
    "                    all_test_acc_val.append(test_acc_val)\n",
    "                test_acc = np.mean(all_test_acc_val)\n",
    "                print('epoch: {}, test_acc: {}'.format(epoch, test_acc))"
   ]
  }
 ],
 "metadata": {
  "kernelspec": {
   "display_name": "Python 3",
   "language": "python",
   "name": "python3"
  },
  "language_info": {
   "codemirror_mode": {
    "name": "ipython",
    "version": 3
   },
   "file_extension": ".py",
   "mimetype": "text/x-python",
   "name": "python",
   "nbconvert_exporter": "python",
   "pygments_lexer": "ipython3",
   "version": "3.5.2"
  }
 },
 "nbformat": 4,
 "nbformat_minor": 2
}
