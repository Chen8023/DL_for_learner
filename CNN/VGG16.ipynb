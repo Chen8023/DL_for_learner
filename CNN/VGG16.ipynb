{
 "cells": [
  {
   "cell_type": "code",
   "execution_count": 1,
   "metadata": {},
   "outputs": [],
   "source": [
    "import os\n",
    "os.sys.path.append(os.path.dirname(os.path.abspath('.')))"
   ]
  },
  {
   "cell_type": "code",
   "execution_count": 2,
   "metadata": {},
   "outputs": [
    {
     "name": "stderr",
     "output_type": "stream",
     "text": [
      "/usr/local/lib/python3.5/dist-packages/h5py/__init__.py:36: FutureWarning: Conversion of the second argument of issubdtype from `float` to `np.floating` is deprecated. In future, it will be treated as `np.float64 == np.dtype(float).type`.\n",
      "  from ._conv import register_converters as _register_converters\n"
     ]
    },
    {
     "data": {
      "text/plain": [
       "<Figure size 640x480 with 1 Axes>"
      ]
     },
     "metadata": {},
     "output_type": "display_data"
    },
    {
     "name": "stdout",
     "output_type": "stream",
     "text": [
      "7\n"
     ]
    }
   ],
   "source": [
    "import matplotlib.pyplot as plt\n",
    "from CNN.VGG16 import VGG16\n",
    "import tensorflow as tf\n",
    "\n",
    "# 数据准备\n",
    "raw_img = tf.gfile.GFile('../dataset/img/cock.jpg', 'rb').read()\n",
    "img = tf.image.convert_image_dtype(tf.image.decode_jpeg(raw_img),\n",
    "                                   dtype=tf.float32)\n",
    "img = tf.reshape(tf.image.resize_images(img, (224, 224), method=0), [-1, 224, 224, 3])\n",
    "img = tf.image.convert_image_dtype(img, dtype=tf.uint8)\n",
    "\n",
    "# 搭建网络\n",
    "X = tf.placeholder(tf.float32, [None, 224, 224, 3])\n",
    "vgg16 = VGG16()\n",
    "vgg16.build(X)\n",
    "\n",
    "config = tf.ConfigProto()\n",
    "config.gpu_options.allow_growth = True  # 按需使用显存\n",
    "\n",
    "# 测试网络\n",
    "with tf.Session(config=config) as sess:\n",
    "    img_input = img.eval()\n",
    "\n",
    "    plt.clf()\n",
    "    plt.imshow(img_input[0])\n",
    "    plt.show()\n",
    "\n",
    "    pred = sess.run(vgg16.logits, feed_dict={X: img_input})\n",
    "\n",
    "print(pred.argmax())  # 这里应该输出7"
   ]
  }
 ],
 "metadata": {
  "kernelspec": {
   "display_name": "Python 3",
   "language": "python",
   "name": "python3"
  },
  "language_info": {
   "codemirror_mode": {
    "name": "ipython",
    "version": 3
   },
   "file_extension": ".py",
   "mimetype": "text/x-python",
   "name": "python",
   "nbconvert_exporter": "python",
   "pygments_lexer": "ipython3",
   "version": "3.5.2"
  }
 },
 "nbformat": 4,
 "nbformat_minor": 2
}
