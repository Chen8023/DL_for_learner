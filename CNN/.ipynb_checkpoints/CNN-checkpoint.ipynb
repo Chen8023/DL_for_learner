{
 "cells": [
  {
   "cell_type": "code",
   "execution_count": 1,
   "metadata": {},
   "outputs": [
    {
     "name": "stderr",
     "output_type": "stream",
     "text": [
      "/usr/local/lib/python3.5/dist-packages/h5py/__init__.py:36: FutureWarning: Conversion of the second argument of issubdtype from `float` to `np.floating` is deprecated. In future, it will be treated as `np.float64 == np.dtype(float).type`.\n",
      "  from ._conv import register_converters as _register_converters\n"
     ]
    }
   ],
   "source": [
    "import tensorflow as tf\n",
    "import numpy as np\n",
    "import os"
   ]
  },
  {
   "cell_type": "markdown",
   "metadata": {},
   "source": [
    "# 数据准备\n",
    "首先看一下CIFAR-10数据是怎么读取的，下面的函数是根据官网示例改编的函数，其直接返回ndarray形式的X与Y。"
   ]
  },
  {
   "cell_type": "code",
   "execution_count": 2,
   "metadata": {},
   "outputs": [
    {
     "data": {
      "text/plain": [
       "<Figure size 640x480 with 1 Axes>"
      ]
     },
     "metadata": {},
     "output_type": "display_data"
    }
   ],
   "source": [
    "import matplotlib.pyplot as plt\n",
    "\n",
    "\n",
    "def unpickle(file):\n",
    "    '''\n",
    "    CIFAR-10数据读取函数\n",
    "    '''\n",
    "    import pickle\n",
    "    with open(file, 'rb') as fd:\n",
    "        data = pickle.load(fd, encoding='bytes')\n",
    "    return data[b'data'], np.array(data[b'labels'])\n",
    "\n",
    "\n",
    "data, target = unpickle('../dataset/cifar-10-batches-py/data_batch_1')\n",
    "\n",
    "plt.clf()\n",
    "# 原数据的维度顺序为(n_samples,n_channels,width,height)，绘图时需要把channel转置到最后\n",
    "plt.imshow(data[0].reshape((3, 32, 32)).transpose((1, 2, 0)))\n",
    "plt.show()"
   ]
  },
  {
   "cell_type": "markdown",
   "metadata": {},
   "source": [
    "对于深度学习中的大型数据，mini-batch式学习是很有必要的，并且还会频繁对数据做一些其他的操作。所以定义一个专门的数据类用于管理数据："
   ]
  },
  {
   "cell_type": "code",
   "execution_count": 3,
   "metadata": {},
   "outputs": [],
   "source": [
    "from sklearn.preprocessing import StandardScaler\n",
    "\n",
    "\n",
    "class CifarData:\n",
    "    def __init__(self, paths, batch_size=32, normalize=False, shuffle=False):\n",
    "        '''\n",
    "        paths: 文件路径\n",
    "        '''\n",
    "        self._data = list()\n",
    "        self._target = list()\n",
    "        self._n_samples = 0\n",
    "        self.n_features = 0\n",
    "\n",
    "        self._idx = 0    # mini-batch的游标\n",
    "        self._batch_size = batch_size\n",
    "\n",
    "        self._load(paths)\n",
    "\n",
    "        if shuffle:\n",
    "            self._shuffle_data()\n",
    "        if normalize:\n",
    "            self._normalize_data()\n",
    "\n",
    "        print(self._data.shape, self._target.shape)\n",
    "\n",
    "    def _load(self, paths):\n",
    "        '''\n",
    "        载入数据\n",
    "        '''\n",
    "        for path in paths:\n",
    "            data, labels = unpickle(path)\n",
    "            self._data.append(data)\n",
    "            self._target.append(labels)\n",
    "\n",
    "        # 将所有批次的数据拼接起来\n",
    "        self._data, self._target = np.vstack(\n",
    "            self._data), np.hstack(self._target)\n",
    "\n",
    "        self._n_samples, self.n_features = self._data.shape[0], self._data.shape[1]\n",
    "\n",
    "    def _shuffle_data(self):\n",
    "        '''\n",
    "        打乱数据\n",
    "        '''\n",
    "        idxs = np.random.permutation(self._n_samples)\n",
    "        self._data = self._data[idxs]\n",
    "        self._target = self._target[idxs]\n",
    "\n",
    "    def _normalize_data(self):\n",
    "        scaler = StandardScaler()\n",
    "        self._data = scaler.fit_transform(self._data)\n",
    "\n",
    "    def next_batch(self):\n",
    "        '''\n",
    "        生成mini-batch\n",
    "        '''\n",
    "        while self._idx < self._n_samples:\n",
    "            yield self._data[self._idx: (self._idx+self._batch_size)], self._target[self._idx: (self._idx+self._batch_size)]\n",
    "            self._idx += self._batch_size\n",
    "\n",
    "        self._idx = 0\n",
    "        self._shuffle_data()"
   ]
  },
  {
   "cell_type": "code",
   "execution_count": 4,
   "metadata": {},
   "outputs": [
    {
     "name": "stderr",
     "output_type": "stream",
     "text": [
      "/usr/local/lib/python3.5/dist-packages/sklearn/utils/validation.py:590: DataConversionWarning: Data with input dtype uint8 was converted to float64 by StandardScaler.\n",
      "  warnings.warn(msg, DataConversionWarning)\n",
      "/usr/local/lib/python3.5/dist-packages/sklearn/utils/validation.py:590: DataConversionWarning: Data with input dtype uint8 was converted to float64 by StandardScaler.\n",
      "  warnings.warn(msg, DataConversionWarning)\n"
     ]
    },
    {
     "name": "stdout",
     "output_type": "stream",
     "text": [
      "(50000, 3072) (50000,)\n"
     ]
    },
    {
     "name": "stderr",
     "output_type": "stream",
     "text": [
      "/usr/local/lib/python3.5/dist-packages/sklearn/utils/validation.py:590: DataConversionWarning: Data with input dtype uint8 was converted to float64 by StandardScaler.\n",
      "  warnings.warn(msg, DataConversionWarning)\n"
     ]
    },
    {
     "name": "stdout",
     "output_type": "stream",
     "text": [
      "(10000, 3072) (10000,)\n"
     ]
    },
    {
     "name": "stderr",
     "output_type": "stream",
     "text": [
      "/usr/local/lib/python3.5/dist-packages/sklearn/utils/validation.py:590: DataConversionWarning: Data with input dtype uint8 was converted to float64 by StandardScaler.\n",
      "  warnings.warn(msg, DataConversionWarning)\n"
     ]
    }
   ],
   "source": [
    "CIFAR_DIR = \"../dataset/cifar-10-batches-py/\"\n",
    "train_filenames = [os.path.join(\n",
    "    CIFAR_DIR, 'data_batch_{}'.format(i)) for i in range(1, 6)]\n",
    "test_filenames = [os.path.join(CIFAR_DIR, 'test_batch')]\n",
    "\n",
    "batch_size = 32\n",
    "train_data = CifarData(train_filenames, batch_size=batch_size,\n",
    "                       normalize=True, shuffle=True)\n",
    "test_data = CifarData(test_filenames, batch_size=batch_size,\n",
    "                      normalize=True, shuffle=False)"
   ]
  },
  {
   "cell_type": "markdown",
   "metadata": {},
   "source": [
    "# 网络结构设计"
   ]
  },
  {
   "cell_type": "code",
   "execution_count": 5,
   "metadata": {},
   "outputs": [],
   "source": [
    "unit_I = train_data.n_features    # 输入单元数，等于特征数\n",
    "\n",
    "filters = 32    # 卷积核的数量\n",
    "conv_size = (3, 3)    # 卷积核尺寸\n",
    "\n",
    "pool_size = (2, 2)    # 池化核尺寸\n",
    "strides = (2, 2)    # 核移动的步长\n",
    "\n",
    "unit_O = 10    # 输出单元数，类别数"
   ]
  },
  {
   "cell_type": "markdown",
   "metadata": {},
   "source": [
    "# 搭建网络\n",
    "TensorFlow自身提供了增加层数的方法。"
   ]
  },
  {
   "cell_type": "code",
   "execution_count": 6,
   "metadata": {},
   "outputs": [
    {
     "name": "stdout",
     "output_type": "stream",
     "text": [
      "WARNING:tensorflow:From <ipython-input-6-d6e0735d2b56>:11: conv2d (from tensorflow.python.layers.convolutional) is deprecated and will be removed in a future version.\n",
      "Instructions for updating:\n",
      "Use keras.layers.conv2d instead.\n",
      "WARNING:tensorflow:From /usr/local/lib/python3.5/dist-packages/tensorflow/python/framework/op_def_library.py:263: colocate_with (from tensorflow.python.framework.ops) is deprecated and will be removed in a future version.\n",
      "Instructions for updating:\n",
      "Colocations handled automatically by placer.\n",
      "WARNING:tensorflow:From <ipython-input-6-d6e0735d2b56>:13: max_pooling2d (from tensorflow.python.layers.pooling) is deprecated and will be removed in a future version.\n",
      "Instructions for updating:\n",
      "Use keras.layers.max_pooling2d instead.\n",
      "WARNING:tensorflow:From <ipython-input-6-d6e0735d2b56>:24: flatten (from tensorflow.python.layers.core) is deprecated and will be removed in a future version.\n",
      "Instructions for updating:\n",
      "Use keras.layers.flatten instead.\n",
      "WARNING:tensorflow:From <ipython-input-6-d6e0735d2b56>:24: dense (from tensorflow.python.layers.core) is deprecated and will be removed in a future version.\n",
      "Instructions for updating:\n",
      "Use keras.layers.dense instead.\n",
      "WARNING:tensorflow:From /usr/local/lib/python3.5/dist-packages/tensorflow/python/ops/losses/losses_impl.py:209: to_float (from tensorflow.python.ops.math_ops) is deprecated and will be removed in a future version.\n",
      "Instructions for updating:\n",
      "Use tf.cast instead.\n"
     ]
    }
   ],
   "source": [
    "# 输入必须是可由用户指定的，所以设为placeholder\n",
    "X = tf.placeholder(tf.float32, [None, unit_I])  # 数据的样本数不指定，只指定特征数\n",
    "Y = tf.placeholder(tf.int64, [None])    # 目标值为列向量，int64为了兼容\n",
    "X_img = tf.transpose(tf.reshape(\n",
    "    X, [-1, 3, 32, 32]), perm=[0, 2, 3, 1])    # 转为图片格式送入模型，(n_samples,width,height,depth)\n",
    "\n",
    "# 网络结构图\n",
    "with tf.name_scope('CNN'):\n",
    "    conv1 = tf.layers.conv2d(X_img, filters=filters,\n",
    "                             kernel_size=conv_size, padding='same',\n",
    "                             activation=tf.nn.relu, name='conv1')\n",
    "    pooling1 = tf.layers.max_pooling2d(conv1, pool_size=pool_size,\n",
    "                                       strides=strides, name='pooling1')\n",
    "    conv2 = tf.layers.conv2d(pooling1, filters=filters,\n",
    "                             kernel_size=conv_size, padding='same',\n",
    "                             activation=tf.nn.relu, name='conv2')\n",
    "    pooling2 = tf.layers.max_pooling2d(conv2, pool_size=pool_size,\n",
    "                                       strides=strides, name='pooling2')\n",
    "    conv3 = tf.layers.conv2d(pooling2, filters=filters,\n",
    "                             kernel_size=conv_size, padding='same',\n",
    "                             activation=tf.nn.relu, name='conv3')\n",
    "    pooling3 = tf.layers.max_pooling2d(conv3, pool_size=pool_size,\n",
    "                                       strides=strides, name='pooling3')\n",
    "    logits = tf.layers.dense(tf.layers.flatten(\n",
    "        pooling3), unit_O, activation=None)\n",
    "\n",
    "# 评估图\n",
    "with tf.name_scope('Eval'):\n",
    "    # 计算一维向量与onehot向量之间的损失\n",
    "    loss = tf.losses.sparse_softmax_cross_entropy(labels=Y, logits=logits)\n",
    "    predict = tf.argmax(logits, 1)\n",
    "    accuracy = tf.reduce_mean(tf.cast(tf.equal(predict, Y), tf.float32))\n",
    "\n",
    "# 优化图\n",
    "with tf.name_scope('train_op'):\n",
    "    lr = 1e-3\n",
    "    train_op = tf.train.AdamOptimizer(lr).minimize(loss)\n",
    "\n",
    "init = tf.global_variables_initializer()\n",
    "config = tf.ConfigProto()\n",
    "config.gpu_options.allow_growth = True    # 按需使用显存"
   ]
  },
  {
   "cell_type": "markdown",
   "metadata": {},
   "source": [
    "# 训练网络"
   ]
  },
  {
   "cell_type": "code",
   "execution_count": 7,
   "metadata": {
    "scrolled": true
   },
   "outputs": [
    {
     "name": "stdout",
     "output_type": "stream",
     "text": [
      "epoch: 0, batch_loss: 1.1598399877548218, batch_acc: 0.625\n",
      "epoch: 1, batch_loss: 0.8314814567565918, batch_acc: 0.71875\n",
      "epoch: 1, batch_loss: 0.8834571242332458, batch_acc: 0.75\n",
      "epoch: 2, batch_loss: 1.0102946758270264, batch_acc: 0.625\n",
      "epoch: 3, batch_loss: 0.9187197685241699, batch_acc: 0.6875\n",
      "epoch: 3, test_acc: 0.6879991888999939\n",
      "epoch: 3, batch_loss: 0.8539667129516602, batch_acc: 0.6875\n",
      "epoch: 4, batch_loss: 0.5933476686477661, batch_acc: 0.78125\n",
      "epoch: 5, batch_loss: 0.796578049659729, batch_acc: 0.71875\n",
      "epoch: 5, batch_loss: 0.703853189945221, batch_acc: 0.84375\n",
      "epoch: 6, batch_loss: 0.6876305341720581, batch_acc: 0.75\n",
      "epoch: 6, test_acc: 0.719648540019989\n",
      "epoch: 7, batch_loss: 0.5391997694969177, batch_acc: 0.75\n",
      "epoch: 7, batch_loss: 0.8696246147155762, batch_acc: 0.6875\n",
      "epoch: 8, batch_loss: 0.4776085615158081, batch_acc: 0.8125\n",
      "epoch: 8, batch_loss: 0.6702422499656677, batch_acc: 0.8125\n",
      "epoch: 9, batch_loss: 0.42628374695777893, batch_acc: 0.8125\n",
      "epoch: 9, test_acc: 0.7299321293830872\n",
      "epoch: 10, batch_loss: 0.3903472423553467, batch_acc: 0.84375\n",
      "epoch: 10, batch_loss: 0.7147088050842285, batch_acc: 0.75\n",
      "epoch: 11, batch_loss: 0.8717751502990723, batch_acc: 0.78125\n",
      "epoch: 12, batch_loss: 0.6246910095214844, batch_acc: 0.8125\n",
      "epoch: 12, batch_loss: 0.21542561054229736, batch_acc: 0.90625\n",
      "epoch: 12, test_acc: 0.7297324538230896\n",
      "epoch: 13, batch_loss: 0.49914082884788513, batch_acc: 0.78125\n",
      "epoch: 14, batch_loss: 0.36086446046829224, batch_acc: 0.9375\n",
      "epoch: 14, batch_loss: 0.6439615488052368, batch_acc: 0.78125\n",
      "epoch: 15, batch_loss: 0.24442653357982635, batch_acc: 0.9375\n",
      "epoch: 15, batch_loss: 0.7342846989631653, batch_acc: 0.78125\n",
      "epoch: 15, test_acc: 0.7249401211738586\n",
      "epoch: 16, batch_loss: 0.6227822303771973, batch_acc: 0.78125\n",
      "epoch: 17, batch_loss: 0.3875887989997864, batch_acc: 0.875\n",
      "epoch: 17, batch_loss: 0.41675716638565063, batch_acc: 0.8125\n",
      "epoch: 18, batch_loss: 0.4219670593738556, batch_acc: 0.84375\n",
      "epoch: 19, batch_loss: 0.3746640086174011, batch_acc: 0.875\n",
      "epoch: 19, test_acc: 0.7241413593292236\n",
      "epoch: 19, batch_loss: 0.30582571029663086, batch_acc: 0.84375\n"
     ]
    }
   ],
   "source": [
    "with tf.Session(config=config) as sess:\n",
    "    sess.run(init)\n",
    "    epochs = 20\n",
    "\n",
    "    batch_cnt = 0\n",
    "    for epoch in range(epochs):\n",
    "        for batch_data, batch_labels in train_data.next_batch():\n",
    "            batch_cnt += 1\n",
    "            loss_val, acc_val, _ = sess.run(\n",
    "                [loss, accuracy, train_op],\n",
    "                feed_dict={\n",
    "                    X: batch_data,\n",
    "                    Y: batch_labels})\n",
    "\n",
    "            # 每1000batch输出一次信息\n",
    "            if (batch_cnt+1) % 1000 == 0:\n",
    "                print('epoch: {}, batch_loss: {}, batch_acc: {}'.format(\n",
    "                    epoch, loss_val, acc_val))\n",
    "\n",
    "            # 每5000batch做一次验证\n",
    "            if (batch_cnt+1) % 5000 == 0:\n",
    "                all_test_acc_val = list()\n",
    "                for test_batch_data, test_batch_labels in test_data.next_batch():\n",
    "                    test_acc_val = sess.run(\n",
    "                        [accuracy],\n",
    "                        feed_dict={\n",
    "                            X: test_batch_data,\n",
    "                            Y: test_batch_labels\n",
    "                        })\n",
    "                    all_test_acc_val.append(test_acc_val)\n",
    "                test_acc = np.mean(all_test_acc_val)\n",
    "                print('epoch: {}, test_acc: {}'.format(epoch, test_acc))"
   ]
  }
 ],
 "metadata": {
  "kernelspec": {
   "display_name": "Python 3",
   "language": "python",
   "name": "python3"
  },
  "language_info": {
   "codemirror_mode": {
    "name": "ipython",
    "version": 3
   },
   "file_extension": ".py",
   "mimetype": "text/x-python",
   "name": "python",
   "nbconvert_exporter": "python",
   "pygments_lexer": "ipython3",
   "version": "3.5.2"
  }
 },
 "nbformat": 4,
 "nbformat_minor": 2
}
