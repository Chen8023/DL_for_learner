{
 "cells": [
  {
   "cell_type": "code",
   "execution_count": null,
   "metadata": {},
   "outputs": [],
   "source": [
    "import tensorflow as tf\n",
    "import numpy as np\n",
    "import os\n",
    "import struct"
   ]
  },
  {
   "cell_type": "markdown",
   "metadata": {},
   "source": [
    "# 数据准备"
   ]
  },
  {
   "cell_type": "code",
   "execution_count": null,
   "metadata": {},
   "outputs": [],
   "source": [
    "def load_image(path):\n",
    "    with open(path, 'rb') as fd:\n",
    "        magic, num, rows, cols = struct.unpack('>IIII', fd.read(16))\n",
    "        res = np.fromfile(fd, dtype=np.uint8).reshape(-1, 784)\n",
    "    return res\n",
    "\n",
    "\n",
    "def load_label(path):\n",
    "    with open(path, 'rb') as fd:\n",
    "        magic, n = struct.unpack('>II', fd.read(8))\n",
    "        res = np.fromfile(fd, dtype=np.uint8)\n",
    "    return res"
   ]
  },
  {
   "cell_type": "code",
   "execution_count": null,
   "metadata": {},
   "outputs": [],
   "source": [
    "from sklearn.preprocessing import StandardScaler\n",
    "\n",
    "\n",
    "class MnistData:\n",
    "    def __init__(self, data_path,label_path, batch_size=32, normalize=False, shuffle=False):\n",
    "        '''\n",
    "        paths: 文件路径\n",
    "        '''\n",
    "        self._data = list()\n",
    "        self._target = list()\n",
    "        self._n_samples = 0\n",
    "        self.n_features = 0\n",
    "\n",
    "        self._idx = 0    # mini-batch的游标\n",
    "        self._batch_size = batch_size\n",
    "\n",
    "        self._load(data_path,label_path)\n",
    "\n",
    "        if shuffle:\n",
    "            self._shuffle_data()\n",
    "        if normalize:\n",
    "            self._normalize_data()\n",
    "\n",
    "        print(self._data.shape, self._target.shape)\n",
    "        \n",
    "    def _load(self, data_path,label_path):\n",
    "        '''\n",
    "        载入数据\n",
    "        '''\n",
    "        self._data=load_image(data_path)\n",
    "        self._target=load_label(label_path)\n",
    "\n",
    "        self._n_samples, self.n_features = self._data.shape[0], self._data.shape[1]\n",
    "        \n",
    "    def _shuffle_data(self):\n",
    "        '''\n",
    "        打乱数据\n",
    "        '''\n",
    "        idxs = np.random.permutation(self._n_samples)\n",
    "        self._data = self._data[idxs]\n",
    "        self._target = self._target[idxs]\n",
    "\n",
    "    def _normalize_data(self):\n",
    "        scaler = StandardScaler()\n",
    "        self._data = scaler.fit_transform(self._data)\n",
    "\n",
    "    def next_batch(self):\n",
    "        '''\n",
    "        生成mini-batch\n",
    "        '''\n",
    "        while self._idx < self._n_samples:\n",
    "            yield self._data[self._idx: (self._idx+self._batch_size)], self._target[self._idx: (self._idx+self._batch_size)]\n",
    "            self._idx += self._batch_size\n",
    "\n",
    "        self._idx = 0\n",
    "        self._shuffle_data()"
   ]
  },
  {
   "cell_type": "code",
   "execution_count": null,
   "metadata": {},
   "outputs": [],
   "source": [
    "MNIST_DIR = '../dataset/MNIST/'\n",
    "train_data_path = os.path.join(MNIST_DIR, 'train-images.idx3-ubyte')\n",
    "train_label_path = os.path.join(MNIST_DIR, 'train-labels.idx1-ubyte')\n",
    "test_data_path = os.path.join(MNIST_DIR, 't10k-images.idx3-ubyte')\n",
    "test_label_path = os.path.join(MNIST_DIR, 't10k-labels.idx1-ubyte')\n",
    "\n",
    "batch_size = 50\n",
    "train_data = MnistData(train_data_path,train_label_path, batch_size=batch_size,\n",
    "                       normalize=True, shuffle=True)\n",
    "test_data = MnistData(test_data_path,test_label_path, batch_size=batch_size,\n",
    "                      normalize=True, shuffle=False)"
   ]
  },
  {
   "cell_type": "markdown",
   "metadata": {},
   "source": [
    "# 网络结构设计\n",
    "LeNet-5的网络结构如下表所示：\n",
    "\n",
    "|kernel|n_kernel|padding|stride|\n",
    "|-|:-:|:-:|:-:|\n",
    "|Conv 5*5|5|2|1|\n",
    "|MaxPool 2*2|-|0|2|\n",
    "|Conv 5*5|16|0|1|\n",
    "|MaxPool 2*2|-|0|2|\n",
    "|Conv 1*1|120|0|1|\n",
    "|FC 84|-|-|-|\n",
    "|Output 10|-|-|-|"
   ]
  },
  {
   "cell_type": "code",
   "execution_count": null,
   "metadata": {},
   "outputs": [],
   "source": [
    "unit_I = train_data.n_features    # 输入单元数，等于特征数\n",
    "\n",
    "n_filters = [5, 16, 120]    # 卷积核数量\n",
    "conv_sizes = [(5, 5), (5, 5), (1, 1)]    # 卷积核尺寸\n",
    "\n",
    "pool_size = (2, 2)    # 池化核尺寸\n",
    "strides = (2, 2)    # 核移动的步长\n",
    "\n",
    "FC_size=84    # 全连接层单元数\n",
    "\n",
    "unit_O = 10    # 输出单元数，类别数"
   ]
  },
  {
   "cell_type": "markdown",
   "metadata": {},
   "source": [
    "# 搭建网络"
   ]
  },
  {
   "cell_type": "code",
   "execution_count": null,
   "metadata": {},
   "outputs": [],
   "source": [
    "# 输入必须是可由用户指定的，所以设为placeholder\n",
    "X = tf.placeholder(tf.float32, [None, unit_I])  # 数据的样本数不指定，只指定特征数\n",
    "Y = tf.placeholder(tf.int64, [None])    # 目标值为列向量，int64为了兼容\n",
    "# 转为图片格式送入模型，(n_samples,width,height,depth)\n",
    "X_img = tf.reshape(X, [-1, 28, 28, 1])\n",
    "training = tf.placeholder_with_default(False, shape=[], name='training')\n",
    "\n",
    "# 网络结构图\n",
    "with tf.name_scope('LeNet-5'):\n",
    "    C1 = tf.layers.conv2d(X_img, filters=n_filters[0],\n",
    "                          kernel_size=conv_sizes[0], padding='same',\n",
    "                          activation=tf.nn.tanh, name='C1')\n",
    "    S2 = tf.layers.max_pooling2d(C1, pool_size=pool_size,\n",
    "                                 strides=strides, name='S2')\n",
    "    C3 = tf.layers.conv2d(S2, filters=n_filters[1],\n",
    "                          kernel_size=conv_sizes[1],\n",
    "                          activation=tf.nn.tanh, name='C3')\n",
    "    S4 = tf.layers.max_pooling2d(C3, pool_size=pool_size,\n",
    "                                 strides=strides, name='S4')\n",
    "    C5 = tf.layers.conv2d(S4, filters=n_filters[2],\n",
    "                          kernel_size=conv_sizes[2],\n",
    "                          activation=tf.nn.tanh, name='C5')\n",
    "    FC6 = tf.layers.dense(tf.layers.flatten(\n",
    "        C5), FC_size, activation=tf.nn.tanh)\n",
    "    logits=tf.layers.dense(FC6, unit_O, activation=None)    # 最后一层直接输出logits，无激活函数\n",
    "\n",
    "# 评估图\n",
    "with tf.name_scope('Eval'):\n",
    "    # 计算一维向量与onehot向量之间的损失\n",
    "    loss = tf.losses.sparse_softmax_cross_entropy(labels=Y, logits=logits)\n",
    "    predict = tf.argmax(logits, 1)\n",
    "    accuracy = tf.reduce_mean(tf.cast(tf.equal(predict, Y), tf.float32))\n",
    "\n",
    "# 优化图\n",
    "with tf.name_scope('train_op'):\n",
    "    lr = 1e-3\n",
    "    train_op = tf.train.AdamOptimizer(lr).minimize(loss)\n",
    "\n",
    "init = tf.global_variables_initializer()\n",
    "config = tf.ConfigProto()\n",
    "config.gpu_options.allow_growth = True    # 按需使用显存"
   ]
  },
  {
   "cell_type": "markdown",
   "metadata": {},
   "source": [
    "# 训练网络"
   ]
  },
  {
   "cell_type": "code",
   "execution_count": null,
   "metadata": {
    "scrolled": true
   },
   "outputs": [],
   "source": [
    "with tf.Session(config=config) as sess:\n",
    "    sess.run(init)\n",
    "    epochs = 20\n",
    "\n",
    "    batch_cnt = 0\n",
    "    for epoch in range(epochs):\n",
    "        for batch_data, batch_labels in train_data.next_batch():\n",
    "            batch_cnt += 1\n",
    "            loss_val, acc_val, _ = sess.run(\n",
    "                [loss, accuracy, train_op],\n",
    "                feed_dict={\n",
    "                    X: batch_data,\n",
    "                    Y: batch_labels,\n",
    "                    training:True})\n",
    "\n",
    "            # 每1000batch输出一次信息\n",
    "            if (batch_cnt+1) % 1000 == 0:\n",
    "                print('epoch: {}, batch_loss: {}, batch_acc: {}'.format(\n",
    "                    epoch, loss_val, acc_val))\n",
    "\n",
    "            # 每5000batch做一次验证\n",
    "            if (batch_cnt+1) % 5000 == 0:\n",
    "                all_test_acc_val = list()\n",
    "                for test_batch_data, test_batch_labels in test_data.next_batch():\n",
    "                    test_acc_val = sess.run(\n",
    "                        [accuracy],\n",
    "                        feed_dict={\n",
    "                            X: test_batch_data,\n",
    "                            Y: test_batch_labels\n",
    "                        })\n",
    "                    all_test_acc_val.append(test_acc_val)\n",
    "                test_acc = np.mean(all_test_acc_val)\n",
    "                print('epoch: {}, test_acc: {}'.format(epoch, test_acc))"
   ]
  },
  {
   "cell_type": "code",
   "execution_count": null,
   "metadata": {},
   "outputs": [],
   "source": []
  }
 ],
 "metadata": {
  "kernelspec": {
   "display_name": "Python 3",
   "language": "python",
   "name": "python3"
  },
  "language_info": {
   "codemirror_mode": {
    "name": "ipython",
    "version": 3
   },
   "file_extension": ".py",
   "mimetype": "text/x-python",
   "name": "python",
   "nbconvert_exporter": "python",
   "pygments_lexer": "ipython3",
   "version": "3.5.2"
  }
 },
 "nbformat": 4,
 "nbformat_minor": 2
}
