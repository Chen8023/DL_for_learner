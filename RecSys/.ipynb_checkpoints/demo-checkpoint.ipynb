{
 "cells": [
  {
   "cell_type": "code",
   "execution_count": 2,
   "metadata": {},
   "outputs": [],
   "source": [
    "import os\n",
    "os.sys.path.append(os.path.dirname(os.path.abspath('.')))"
   ]
  },
  {
   "cell_type": "markdown",
   "metadata": {},
   "source": [
    "## 数据准备"
   ]
  },
  {
   "cell_type": "code",
   "execution_count": 3,
   "metadata": {},
   "outputs": [
    {
     "name": "stdout",
     "output_type": "stream",
     "text": [
      "(800167, 8) (800167,)\n",
      "(200042, 8) (200042,)\n"
     ]
    }
   ],
   "source": [
    "from dataset.dataset import load_ml\n",
    "train_data,test_data=load_ml()"
   ]
  },
  {
   "cell_type": "markdown",
   "metadata": {},
   "source": [
    "## 模型概述"
   ]
  },
  {
   "cell_type": "code",
   "execution_count": 4,
   "metadata": {},
   "outputs": [],
   "source": [
    "# 用户部分\n",
    "u_id_emb_size = 32\n",
    "u_occu_emb_size = 8\n",
    "u_agegen_emb_size = 8\n",
    "\n",
    "# 电影部分\n",
    "m_id_emb_size = 32\n",
    "m_tit_emb_size = 16\n",
    "m_gen_emb_size = 8\n",
    "m_year_emb_size = 8\n",
    "\n",
    "# 文本卷积网络参数\n",
    "n_txt_cnn_kernels = (32, 16, 8)\n",
    "text_cnn_ksize = (1, 2, 3)"
   ]
  },
  {
   "cell_type": "markdown",
   "metadata": {},
   "source": [
    "## 搭建模型\n",
    "首先是输入："
   ]
  },
  {
   "cell_type": "code",
   "execution_count": null,
   "metadata": {},
   "outputs": [],
   "source": [
    "import tensorflow as tf\n",
    "def placeholders():\n",
    "    u_id=tf.placeholders(tf.int32,[None,1],name='u_id')\n",
    "    u_agegen=tf.placeholders(tf.int32,[None,2],name='u_agegen')\n",
    "    u_occu=tf.placeholders(tf.int32,[None,1],name='u_occu')\n",
    "    \n",
    "    m_id=tf.placeholders(tf.int32,[None,1],name='m_id')\n",
    "    "
   ]
  }
 ],
 "metadata": {
  "kernelspec": {
   "display_name": "Python 3",
   "language": "python",
   "name": "python3"
  },
  "language_info": {
   "codemirror_mode": {
    "name": "ipython",
    "version": 3
   },
   "file_extension": ".py",
   "mimetype": "text/x-python",
   "name": "python",
   "nbconvert_exporter": "python",
   "pygments_lexer": "ipython3",
   "version": "3.5.2"
  }
 },
 "nbformat": 4,
 "nbformat_minor": 2
}
