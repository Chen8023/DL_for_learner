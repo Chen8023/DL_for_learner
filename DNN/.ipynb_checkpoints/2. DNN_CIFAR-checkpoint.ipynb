{
 "cells": [
  {
   "cell_type": "code",
   "execution_count": 1,
   "metadata": {},
   "outputs": [
    {
     "name": "stderr",
     "output_type": "stream",
     "text": [
      "/usr/local/lib/python3.5/dist-packages/h5py/__init__.py:36: FutureWarning: Conversion of the second argument of issubdtype from `float` to `np.floating` is deprecated. In future, it will be treated as `np.float64 == np.dtype(float).type`.\n",
      "  from ._conv import register_converters as _register_converters\n"
     ]
    }
   ],
   "source": [
    "import tensorflow as tf\n",
    "import numpy as np\n",
    "import os"
   ]
  },
  {
   "cell_type": "markdown",
   "metadata": {},
   "source": [
    "# 数据准备\n",
    "首先看一下CIFAR-10数据是怎么读取的，下面的函数是根据官网示例改编的函数，其直接返回ndarray形式的X与Y。"
   ]
  },
  {
   "cell_type": "code",
   "execution_count": 2,
   "metadata": {},
   "outputs": [
    {
     "data": {
      "text/plain": [
       "<Figure size 640x480 with 1 Axes>"
      ]
     },
     "metadata": {},
     "output_type": "display_data"
    }
   ],
   "source": [
    "import matplotlib.pyplot as plt\n",
    "\n",
    "\n",
    "def unpickle(file):\n",
    "    '''\n",
    "    CIFAR-10数据读取函数\n",
    "    '''\n",
    "    import pickle\n",
    "    with open(file, 'rb') as fd:\n",
    "        data = pickle.load(fd, encoding='bytes')\n",
    "    return data[b'data'], np.array(data[b'labels'])\n",
    "\n",
    "\n",
    "data, target = unpickle('../dataset/cifar-10-batches-py/data_batch_1')\n",
    "\n",
    "plt.clf()\n",
    "# 原数据的维度顺序为(n_samples,n_channels,width,height)，绘图时需要把channel转置到最后\n",
    "plt.imshow(data[0].reshape((3, 32, 32)).transpose((1, 2, 0)))\n",
    "plt.show()"
   ]
  },
  {
   "cell_type": "markdown",
   "metadata": {},
   "source": [
    "对于深度学习中的大型数据，mini-batch式学习是很有必要的，并且还会频繁对数据做一些其他的操作。所以定义一个专门的数据类用于管理数据："
   ]
  },
  {
   "cell_type": "code",
   "execution_count": 3,
   "metadata": {},
   "outputs": [],
   "source": [
    "from sklearn.preprocessing import StandardScaler\n",
    "\n",
    "\n",
    "class CifarData:\n",
    "    def __init__(self, paths, batch_size=32, normalize=False, shuffle=False):\n",
    "        '''\n",
    "        paths: 文件路径\n",
    "        '''\n",
    "        self._data = list()\n",
    "        self._target = list()\n",
    "        self._n_samples = 0\n",
    "        self.n_features = 0\n",
    "\n",
    "        self._idx = 0    # mini-batch的游标\n",
    "        self._batch_size = batch_size\n",
    "\n",
    "        self._load(paths)\n",
    "\n",
    "        if shuffle:\n",
    "            self._shuffle_data()\n",
    "        if normalize:\n",
    "            self._normalize_data()\n",
    "\n",
    "        print(self._data.shape, self._target.shape)\n",
    "\n",
    "    def _load(self, paths):\n",
    "        '''\n",
    "        载入数据\n",
    "        '''\n",
    "        for path in paths:\n",
    "            data, labels = unpickle(path)\n",
    "            self._data.append(data)\n",
    "            self._target.append(labels)\n",
    "\n",
    "        # 将所有批次的数据拼接起来\n",
    "        self._data, self._target = np.vstack(\n",
    "            self._data), np.hstack(self._target)\n",
    "\n",
    "        self._n_samples, self.n_features = self._data.shape[0], self._data.shape[1]\n",
    "\n",
    "    def _shuffle_data(self):\n",
    "        '''\n",
    "        打乱数据\n",
    "        '''\n",
    "        idxs = np.random.permutation(self._n_samples)\n",
    "        self._data = self._data[idxs]\n",
    "        self._target = self._target[idxs]\n",
    "\n",
    "    def _normalize_data(self):\n",
    "        scaler = StandardScaler()\n",
    "        self._data = scaler.fit_transform(self._data)\n",
    "\n",
    "    def next_batch(self):\n",
    "        '''\n",
    "        生成mini-batch\n",
    "        '''\n",
    "        while self._idx < self._n_samples:\n",
    "            yield self._data[self._idx: (self._idx+self._batch_size)], self._target[self._idx: (self._idx+self._batch_size)]\n",
    "            self._idx += self._batch_size\n",
    "\n",
    "        self._idx = 0\n",
    "        self._shuffle_data()"
   ]
  },
  {
   "cell_type": "code",
   "execution_count": 4,
   "metadata": {},
   "outputs": [
    {
     "name": "stderr",
     "output_type": "stream",
     "text": [
      "/usr/local/lib/python3.5/dist-packages/sklearn/utils/validation.py:595: DataConversionWarning: Data with input dtype uint8 was converted to float64 by StandardScaler.\n",
      "  warnings.warn(msg, DataConversionWarning)\n",
      "/usr/local/lib/python3.5/dist-packages/sklearn/utils/validation.py:595: DataConversionWarning: Data with input dtype uint8 was converted to float64 by StandardScaler.\n",
      "  warnings.warn(msg, DataConversionWarning)\n"
     ]
    },
    {
     "name": "stdout",
     "output_type": "stream",
     "text": [
      "(50000, 3072) (50000,)\n"
     ]
    },
    {
     "name": "stderr",
     "output_type": "stream",
     "text": [
      "/usr/local/lib/python3.5/dist-packages/sklearn/utils/validation.py:595: DataConversionWarning: Data with input dtype uint8 was converted to float64 by StandardScaler.\n",
      "  warnings.warn(msg, DataConversionWarning)\n"
     ]
    },
    {
     "name": "stdout",
     "output_type": "stream",
     "text": [
      "(10000, 3072) (10000,)\n"
     ]
    },
    {
     "name": "stderr",
     "output_type": "stream",
     "text": [
      "/usr/local/lib/python3.5/dist-packages/sklearn/utils/validation.py:595: DataConversionWarning: Data with input dtype uint8 was converted to float64 by StandardScaler.\n",
      "  warnings.warn(msg, DataConversionWarning)\n"
     ]
    }
   ],
   "source": [
    "CIFAR_DIR = \"../dataset/cifar-10-batches-py/\"\n",
    "train_filenames = [os.path.join(\n",
    "    CIFAR_DIR, 'data_batch_{}'.format(i)) for i in range(1, 6)]\n",
    "test_filenames = [os.path.join(CIFAR_DIR, 'test_batch')]\n",
    "\n",
    "batch_size = 32\n",
    "train_data = CifarData(\n",
    "    train_filenames, batch_size=batch_size, normalize=True, shuffle=True)\n",
    "test_data = CifarData(test_filenames, batch_size=batch_size,\n",
    "                      normalize=True, shuffle=False)"
   ]
  },
  {
   "cell_type": "markdown",
   "metadata": {},
   "source": [
    "# 网络结构设计"
   ]
  },
  {
   "cell_type": "code",
   "execution_count": 5,
   "metadata": {},
   "outputs": [],
   "source": [
    "# 输入层单元数为(数据特征)，设计隐藏层单元数为100、50，输出单元数为10(多分类任务)\n",
    "\n",
    "unit_I = train_data.n_features    # 输入层的单元数，与特征数相等\n",
    "unit_h1 = 100    # 第一层隐藏层的单元数\n",
    "unit_h2 = 50\n",
    "unit_O = 10    # 输出层单元数"
   ]
  },
  {
   "cell_type": "markdown",
   "metadata": {},
   "source": [
    "# 搭建网络\n",
    "TensorFlow自身提供了增加层数的方法。"
   ]
  },
  {
   "cell_type": "code",
   "execution_count": 6,
   "metadata": {},
   "outputs": [
    {
     "name": "stdout",
     "output_type": "stream",
     "text": [
      "WARNING:tensorflow:From <ipython-input-6-af9cd9c4782c>:7: dense (from tensorflow.python.layers.core) is deprecated and will be removed in a future version.\n",
      "Instructions for updating:\n",
      "Use keras.layers.dense instead.\n",
      "WARNING:tensorflow:From /usr/local/lib/python3.5/dist-packages/tensorflow/python/framework/op_def_library.py:263: colocate_with (from tensorflow.python.framework.ops) is deprecated and will be removed in a future version.\n",
      "Instructions for updating:\n",
      "Colocations handled automatically by placer.\n",
      "WARNING:tensorflow:From /usr/local/lib/python3.5/dist-packages/tensorflow/python/ops/losses/losses_impl.py:209: to_float (from tensorflow.python.ops.math_ops) is deprecated and will be removed in a future version.\n",
      "Instructions for updating:\n",
      "Use tf.cast instead.\n"
     ]
    }
   ],
   "source": [
    "# 输入必须是可由用户指定的，所以设为placeholder\n",
    "X = tf.placeholder(tf.float32, [None, unit_I])  # 数据的样本数不指定，只指定特征数\n",
    "Y = tf.placeholder(tf.int64, [None])    # 目标值为列向量，int64为了兼容\n",
    "\n",
    "# 网络结构图\n",
    "with tf.name_scope('DNN'):\n",
    "    hidden1 = tf.layers.dense(X, unit_h1, activation=tf.nn.relu)\n",
    "    hidden2 = tf.layers.dense(hidden1, unit_h2, activation=tf.nn.relu)\n",
    "    Y_pred = tf.layers.dense(hidden2, unit_O)\n",
    "\n",
    "# 评估子图\n",
    "with tf.name_scope('Eval'):\n",
    "    # 计算一维向量与onehot向量之间的损失\n",
    "    loss = tf.losses.sparse_softmax_cross_entropy(labels=Y, logits=Y_pred)\n",
    "    predict = tf.argmax(Y_pred, 1)\n",
    "    accuracy = tf.reduce_mean(tf.cast(tf.equal(predict, Y), tf.float32))\n",
    "\n",
    "# 优化图\n",
    "with tf.name_scope('train_op'):\n",
    "    lr = 1e-3\n",
    "    train_op = tf.train.AdamOptimizer(lr).minimize(loss)\n",
    "\n",
    "init = tf.global_variables_initializer()\n",
    "config = tf.ConfigProto()\n",
    "config.gpu_options.allow_growth = True    # 按需使用显存"
   ]
  },
  {
   "cell_type": "markdown",
   "metadata": {},
   "source": [
    "# 训练网络"
   ]
  },
  {
   "cell_type": "code",
   "execution_count": 7,
   "metadata": {
    "scrolled": true
   },
   "outputs": [
    {
     "name": "stdout",
     "output_type": "stream",
     "text": [
      "epoch: 0, batch_loss: 1.464073657989502, batch_acc: 0.53125\n",
      "epoch: 1, batch_loss: 1.610720157623291, batch_acc: 0.4375\n",
      "epoch: 1, batch_loss: 1.7465702295303345, batch_acc: 0.46875\n",
      "epoch: 2, batch_loss: 1.5048115253448486, batch_acc: 0.4375\n",
      "epoch: 3, batch_loss: 1.117858648300171, batch_acc: 0.65625\n",
      "epoch: 3, test_acc: 0.47683706879615784\n",
      "epoch: 3, batch_loss: 1.3235541582107544, batch_acc: 0.5625\n",
      "epoch: 4, batch_loss: 1.4396482706069946, batch_acc: 0.53125\n",
      "epoch: 5, batch_loss: 1.139233112335205, batch_acc: 0.65625\n",
      "epoch: 5, batch_loss: 0.9359638690948486, batch_acc: 0.71875\n",
      "epoch: 6, batch_loss: 1.3782451152801514, batch_acc: 0.5\n",
      "epoch: 6, test_acc: 0.5014976263046265\n",
      "epoch: 7, batch_loss: 1.406972885131836, batch_acc: 0.40625\n",
      "epoch: 7, batch_loss: 1.0480740070343018, batch_acc: 0.625\n",
      "epoch: 8, batch_loss: 1.154876708984375, batch_acc: 0.625\n",
      "epoch: 8, batch_loss: 1.2087295055389404, batch_acc: 0.5625\n",
      "epoch: 9, batch_loss: 1.1758065223693848, batch_acc: 0.46875\n",
      "epoch: 9, test_acc: 0.49420925974845886\n",
      "epoch: 10, batch_loss: 1.0033354759216309, batch_acc: 0.59375\n",
      "epoch: 10, batch_loss: 0.9024137258529663, batch_acc: 0.59375\n",
      "epoch: 11, batch_loss: 1.0782787799835205, batch_acc: 0.59375\n",
      "epoch: 12, batch_loss: 1.4165104627609253, batch_acc: 0.59375\n",
      "epoch: 12, batch_loss: 0.9325646758079529, batch_acc: 0.625\n",
      "epoch: 12, test_acc: 0.512180507183075\n",
      "epoch: 13, batch_loss: 0.8878258466720581, batch_acc: 0.65625\n",
      "epoch: 14, batch_loss: 0.9652670621871948, batch_acc: 0.59375\n",
      "epoch: 14, batch_loss: 0.7012602090835571, batch_acc: 0.78125\n",
      "epoch: 15, batch_loss: 0.6702739596366882, batch_acc: 0.78125\n",
      "epoch: 15, batch_loss: 1.0641216039657593, batch_acc: 0.625\n",
      "epoch: 15, test_acc: 0.4967052638530731\n",
      "epoch: 16, batch_loss: 0.8897122144699097, batch_acc: 0.75\n",
      "epoch: 17, batch_loss: 0.952079713344574, batch_acc: 0.59375\n",
      "epoch: 17, batch_loss: 0.6908180117607117, batch_acc: 0.75\n",
      "epoch: 18, batch_loss: 0.7247918248176575, batch_acc: 0.6875\n",
      "epoch: 19, batch_loss: 1.087515115737915, batch_acc: 0.65625\n",
      "epoch: 19, test_acc: 0.49151358008384705\n",
      "epoch: 19, batch_loss: 1.2915138006210327, batch_acc: 0.625\n",
      "epoch: 20, batch_loss: 1.307525634765625, batch_acc: 0.5625\n",
      "epoch: 21, batch_loss: 0.9466469287872314, batch_acc: 0.71875\n",
      "epoch: 21, batch_loss: 0.7904778718948364, batch_acc: 0.8125\n",
      "epoch: 22, batch_loss: 1.0193378925323486, batch_acc: 0.59375\n",
      "epoch: 22, test_acc: 0.49570685625076294\n",
      "epoch: 23, batch_loss: 0.8979512453079224, batch_acc: 0.6875\n",
      "epoch: 23, batch_loss: 0.8480149507522583, batch_acc: 0.65625\n",
      "epoch: 24, batch_loss: 1.2383016347885132, batch_acc: 0.53125\n",
      "epoch: 24, batch_loss: 0.8995183706283569, batch_acc: 0.65625\n",
      "epoch: 25, batch_loss: 0.5261776447296143, batch_acc: 0.8125\n",
      "epoch: 25, test_acc: 0.4962060749530792\n",
      "epoch: 26, batch_loss: 1.2585376501083374, batch_acc: 0.65625\n",
      "epoch: 26, batch_loss: 0.9028940200805664, batch_acc: 0.75\n",
      "epoch: 27, batch_loss: 0.826772153377533, batch_acc: 0.75\n",
      "epoch: 28, batch_loss: 0.7682566046714783, batch_acc: 0.6875\n",
      "epoch: 28, batch_loss: 1.0523955821990967, batch_acc: 0.59375\n",
      "epoch: 28, test_acc: 0.4908146858215332\n",
      "epoch: 29, batch_loss: 0.9794473648071289, batch_acc: 0.6875\n",
      "epoch: 30, batch_loss: 0.9139275550842285, batch_acc: 0.6875\n",
      "epoch: 30, batch_loss: 0.6059795618057251, batch_acc: 0.78125\n",
      "epoch: 31, batch_loss: 0.6101338863372803, batch_acc: 0.71875\n",
      "epoch: 31, batch_loss: 0.797868549823761, batch_acc: 0.71875\n",
      "epoch: 31, test_acc: 0.4958067238330841\n",
      "epoch: 32, batch_loss: 0.8477942943572998, batch_acc: 0.65625\n",
      "epoch: 33, batch_loss: 0.8674570918083191, batch_acc: 0.78125\n",
      "epoch: 33, batch_loss: 0.8590004444122314, batch_acc: 0.65625\n",
      "epoch: 34, batch_loss: 0.6947615742683411, batch_acc: 0.75\n",
      "epoch: 35, batch_loss: 0.5104400515556335, batch_acc: 0.8125\n",
      "epoch: 35, test_acc: 0.48602235317230225\n",
      "epoch: 35, batch_loss: 0.609687089920044, batch_acc: 0.84375\n",
      "epoch: 36, batch_loss: 0.5930672883987427, batch_acc: 0.8125\n",
      "epoch: 37, batch_loss: 0.6229648590087891, batch_acc: 0.75\n",
      "epoch: 37, batch_loss: 1.2003929615020752, batch_acc: 0.65625\n",
      "epoch: 38, batch_loss: 0.8921475410461426, batch_acc: 0.5625\n",
      "epoch: 38, test_acc: 0.4802316427230835\n",
      "epoch: 39, batch_loss: 0.44008880853652954, batch_acc: 0.84375\n",
      "epoch: 39, batch_loss: 0.8443456888198853, batch_acc: 0.59375\n",
      "epoch: 40, batch_loss: 0.8472322821617126, batch_acc: 0.71875\n",
      "epoch: 40, batch_loss: 0.7999355792999268, batch_acc: 0.65625\n",
      "epoch: 41, batch_loss: 0.5691678524017334, batch_acc: 0.78125\n",
      "epoch: 41, test_acc: 0.483526349067688\n",
      "epoch: 42, batch_loss: 0.6269744038581848, batch_acc: 0.78125\n",
      "epoch: 42, batch_loss: 0.6094934940338135, batch_acc: 0.8125\n",
      "epoch: 43, batch_loss: 0.5980383157730103, batch_acc: 0.875\n",
      "epoch: 44, batch_loss: 0.6916824579238892, batch_acc: 0.78125\n",
      "epoch: 44, batch_loss: 0.8039393424987793, batch_acc: 0.78125\n",
      "epoch: 44, test_acc: 0.4762380123138428\n",
      "epoch: 45, batch_loss: 0.5324114561080933, batch_acc: 0.75\n",
      "epoch: 46, batch_loss: 0.7981585264205933, batch_acc: 0.75\n",
      "epoch: 46, batch_loss: 0.39200350642204285, batch_acc: 0.90625\n",
      "epoch: 47, batch_loss: 0.5428013205528259, batch_acc: 0.71875\n",
      "epoch: 47, batch_loss: 0.6219285130500793, batch_acc: 0.75\n",
      "epoch: 47, test_acc: 0.4816294014453888\n",
      "epoch: 48, batch_loss: 0.7992793321609497, batch_acc: 0.625\n",
      "epoch: 49, batch_loss: 0.8438592553138733, batch_acc: 0.59375\n",
      "epoch: 49, batch_loss: 0.6781996488571167, batch_acc: 0.75\n",
      "epoch: 50, batch_loss: 0.6719588041305542, batch_acc: 0.75\n",
      "epoch: 51, batch_loss: 0.3971281349658966, batch_acc: 0.9375\n",
      "epoch: 51, test_acc: 0.47903355956077576\n",
      "epoch: 51, batch_loss: 0.6348224878311157, batch_acc: 0.8125\n",
      "epoch: 52, batch_loss: 0.5066653490066528, batch_acc: 0.78125\n",
      "epoch: 53, batch_loss: 0.4038165211677551, batch_acc: 0.8125\n",
      "epoch: 53, batch_loss: 0.4959965646266937, batch_acc: 0.84375\n",
      "epoch: 54, batch_loss: 0.404522180557251, batch_acc: 0.875\n",
      "epoch: 54, test_acc: 0.4770367443561554\n",
      "epoch: 55, batch_loss: 0.46605393290519714, batch_acc: 0.875\n",
      "epoch: 55, batch_loss: 0.32697275280952454, batch_acc: 0.84375\n",
      "epoch: 56, batch_loss: 0.2833750247955322, batch_acc: 0.875\n",
      "epoch: 56, batch_loss: 0.6036251187324524, batch_acc: 0.8125\n",
      "epoch: 57, batch_loss: 0.458734929561615, batch_acc: 0.84375\n",
      "epoch: 57, test_acc: 0.4725439250469208\n",
      "epoch: 58, batch_loss: 0.49253809452056885, batch_acc: 0.78125\n",
      "epoch: 58, batch_loss: 0.4119153618812561, batch_acc: 0.875\n",
      "epoch: 59, batch_loss: 0.2986923158168793, batch_acc: 0.90625\n",
      "epoch: 60, batch_loss: 0.5888206958770752, batch_acc: 0.78125\n",
      "epoch: 60, batch_loss: 0.3670632541179657, batch_acc: 0.8125\n",
      "epoch: 60, test_acc: 0.47034743428230286\n",
      "epoch: 61, batch_loss: 0.5234842300415039, batch_acc: 0.71875\n",
      "epoch: 62, batch_loss: 0.54052734375, batch_acc: 0.6875\n",
      "epoch: 62, batch_loss: 0.34365302324295044, batch_acc: 0.8125\n",
      "epoch: 63, batch_loss: 0.3151852786540985, batch_acc: 0.90625\n",
      "epoch: 63, batch_loss: 0.721429705619812, batch_acc: 0.65625\n",
      "epoch: 63, test_acc: 0.4811301827430725\n",
      "epoch: 64, batch_loss: 0.4464098811149597, batch_acc: 0.8125\n",
      "epoch: 65, batch_loss: 0.6420114636421204, batch_acc: 0.78125\n",
      "epoch: 65, batch_loss: 0.5566819310188293, batch_acc: 0.8125\n",
      "epoch: 66, batch_loss: 0.5758127570152283, batch_acc: 0.75\n",
      "epoch: 67, batch_loss: 0.5508241057395935, batch_acc: 0.78125\n",
      "epoch: 67, test_acc: 0.47913339734077454\n",
      "epoch: 67, batch_loss: 0.7381329536437988, batch_acc: 0.71875\n",
      "epoch: 68, batch_loss: 0.6911245584487915, batch_acc: 0.75\n",
      "epoch: 69, batch_loss: 0.5901426672935486, batch_acc: 0.78125\n",
      "epoch: 69, batch_loss: 0.45986708998680115, batch_acc: 0.78125\n",
      "epoch: 70, batch_loss: 0.2536941170692444, batch_acc: 0.9375\n",
      "epoch: 70, test_acc: 0.47214457392692566\n",
      "epoch: 71, batch_loss: 0.3744385540485382, batch_acc: 0.875\n",
      "epoch: 71, batch_loss: 0.5051839351654053, batch_acc: 0.75\n",
      "epoch: 72, batch_loss: 0.7068634033203125, batch_acc: 0.78125\n",
      "epoch: 72, batch_loss: 0.7231007814407349, batch_acc: 0.71875\n",
      "epoch: 73, batch_loss: 0.5219273567199707, batch_acc: 0.8125\n",
      "epoch: 73, test_acc: 0.4737420082092285\n",
      "epoch: 74, batch_loss: 0.6361950635910034, batch_acc: 0.71875\n",
      "epoch: 74, batch_loss: 0.6711064577102661, batch_acc: 0.65625\n",
      "epoch: 75, batch_loss: 0.6745163202285767, batch_acc: 0.75\n",
      "epoch: 76, batch_loss: 0.902021050453186, batch_acc: 0.6875\n",
      "epoch: 76, batch_loss: 0.39028245210647583, batch_acc: 0.875\n"
     ]
    },
    {
     "name": "stdout",
     "output_type": "stream",
     "text": [
      "epoch: 76, test_acc: 0.46994808316230774\n",
      "epoch: 77, batch_loss: 0.5822586417198181, batch_acc: 0.84375\n",
      "epoch: 78, batch_loss: 0.30728912353515625, batch_acc: 0.875\n",
      "epoch: 78, batch_loss: 0.41941091418266296, batch_acc: 0.90625\n",
      "epoch: 79, batch_loss: 0.41702985763549805, batch_acc: 0.84375\n",
      "epoch: 79, batch_loss: 0.6283782720565796, batch_acc: 0.78125\n",
      "epoch: 79, test_acc: 0.46665334701538086\n",
      "epoch: 80, batch_loss: 0.5655608177185059, batch_acc: 0.75\n",
      "epoch: 81, batch_loss: 0.5442608594894409, batch_acc: 0.65625\n",
      "epoch: 81, batch_loss: 0.7848716974258423, batch_acc: 0.75\n",
      "epoch: 82, batch_loss: 0.38238731026649475, batch_acc: 0.90625\n",
      "epoch: 83, batch_loss: 0.5918174386024475, batch_acc: 0.78125\n",
      "epoch: 83, test_acc: 0.4637579917907715\n",
      "epoch: 83, batch_loss: 0.5024122595787048, batch_acc: 0.75\n",
      "epoch: 84, batch_loss: 0.7310945987701416, batch_acc: 0.8125\n",
      "epoch: 85, batch_loss: 0.6008329391479492, batch_acc: 0.84375\n",
      "epoch: 85, batch_loss: 0.4521671533584595, batch_acc: 0.90625\n",
      "epoch: 86, batch_loss: 0.34930479526519775, batch_acc: 0.84375\n",
      "epoch: 86, test_acc: 0.46116214990615845\n",
      "epoch: 87, batch_loss: 0.4099723696708679, batch_acc: 0.84375\n",
      "epoch: 87, batch_loss: 0.27665865421295166, batch_acc: 0.90625\n",
      "epoch: 88, batch_loss: 0.41834327578544617, batch_acc: 0.8125\n",
      "epoch: 88, batch_loss: 0.31437379121780396, batch_acc: 0.9375\n",
      "epoch: 89, batch_loss: 0.6023678183555603, batch_acc: 0.75\n",
      "epoch: 89, test_acc: 0.4604632556438446\n",
      "epoch: 90, batch_loss: 0.7376591563224792, batch_acc: 0.75\n",
      "epoch: 90, batch_loss: 0.5740318298339844, batch_acc: 0.75\n",
      "epoch: 91, batch_loss: 0.5851814150810242, batch_acc: 0.75\n",
      "epoch: 92, batch_loss: 0.7693195939064026, batch_acc: 0.71875\n",
      "epoch: 92, batch_loss: 0.5026484727859497, batch_acc: 0.8125\n",
      "epoch: 92, test_acc: 0.46016374230384827\n",
      "epoch: 93, batch_loss: 0.27735280990600586, batch_acc: 0.875\n",
      "epoch: 94, batch_loss: 0.1173628568649292, batch_acc: 1.0\n",
      "epoch: 94, batch_loss: 0.712051510810852, batch_acc: 0.78125\n",
      "epoch: 95, batch_loss: 0.37053021788597107, batch_acc: 0.90625\n",
      "epoch: 95, batch_loss: 0.6302881240844727, batch_acc: 0.75\n",
      "epoch: 95, test_acc: 0.4577675759792328\n",
      "epoch: 96, batch_loss: 0.3959609270095825, batch_acc: 0.8125\n",
      "epoch: 97, batch_loss: 0.47968220710754395, batch_acc: 0.90625\n",
      "epoch: 97, batch_loss: 0.27154606580734253, batch_acc: 0.9375\n",
      "epoch: 98, batch_loss: 0.3266924023628235, batch_acc: 0.84375\n",
      "epoch: 99, batch_loss: 0.39592576026916504, batch_acc: 0.8125\n",
      "epoch: 99, test_acc: 0.4628594219684601\n",
      "epoch: 99, batch_loss: 0.4611954689025879, batch_acc: 0.75\n",
      "epoch: 100, batch_loss: 0.41642892360687256, batch_acc: 0.84375\n",
      "epoch: 101, batch_loss: 0.4079805612564087, batch_acc: 0.78125\n",
      "epoch: 101, batch_loss: 0.4311661124229431, batch_acc: 0.9375\n",
      "epoch: 102, batch_loss: 0.3825485408306122, batch_acc: 0.875\n",
      "epoch: 102, test_acc: 0.4623602330684662\n",
      "epoch: 103, batch_loss: 0.39579808712005615, batch_acc: 0.90625\n",
      "epoch: 103, batch_loss: 0.4953013062477112, batch_acc: 0.71875\n",
      "epoch: 104, batch_loss: 0.36631327867507935, batch_acc: 0.90625\n",
      "epoch: 104, batch_loss: 0.32645493745803833, batch_acc: 0.875\n",
      "epoch: 105, batch_loss: 0.227713480591774, batch_acc: 0.9375\n",
      "epoch: 105, test_acc: 0.459664523601532\n",
      "epoch: 106, batch_loss: 0.18538156151771545, batch_acc: 0.9375\n"
     ]
    },
    {
     "ename": "KeyboardInterrupt",
     "evalue": "",
     "output_type": "error",
     "traceback": [
      "\u001b[0;31m---------------------------------------------------------------------------\u001b[0m",
      "\u001b[0;31mKeyboardInterrupt\u001b[0m                         Traceback (most recent call last)",
      "\u001b[0;32m<ipython-input-7-fad8b3f2b844>\u001b[0m in \u001b[0;36m<module>\u001b[0;34m\u001b[0m\n\u001b[1;32m     11\u001b[0m                 feed_dict={\n\u001b[1;32m     12\u001b[0m                     \u001b[0mX\u001b[0m\u001b[0;34m:\u001b[0m \u001b[0mbatch_data\u001b[0m\u001b[0;34m,\u001b[0m\u001b[0;34m\u001b[0m\u001b[0m\n\u001b[0;32m---> 13\u001b[0;31m                     Y: batch_labels})\n\u001b[0m\u001b[1;32m     14\u001b[0m \u001b[0;34m\u001b[0m\u001b[0m\n\u001b[1;32m     15\u001b[0m             \u001b[0;31m# 每1000batch输出一次信息\u001b[0m\u001b[0;34m\u001b[0m\u001b[0;34m\u001b[0m\u001b[0m\n",
      "\u001b[0;32m/usr/local/lib/python3.5/dist-packages/tensorflow/python/client/session.py\u001b[0m in \u001b[0;36mrun\u001b[0;34m(self, fetches, feed_dict, options, run_metadata)\u001b[0m\n\u001b[1;32m    927\u001b[0m     \u001b[0;32mtry\u001b[0m\u001b[0;34m:\u001b[0m\u001b[0;34m\u001b[0m\u001b[0m\n\u001b[1;32m    928\u001b[0m       result = self._run(None, fetches, feed_dict, options_ptr,\n\u001b[0;32m--> 929\u001b[0;31m                          run_metadata_ptr)\n\u001b[0m\u001b[1;32m    930\u001b[0m       \u001b[0;32mif\u001b[0m \u001b[0mrun_metadata\u001b[0m\u001b[0;34m:\u001b[0m\u001b[0;34m\u001b[0m\u001b[0m\n\u001b[1;32m    931\u001b[0m         \u001b[0mproto_data\u001b[0m \u001b[0;34m=\u001b[0m \u001b[0mtf_session\u001b[0m\u001b[0;34m.\u001b[0m\u001b[0mTF_GetBuffer\u001b[0m\u001b[0;34m(\u001b[0m\u001b[0mrun_metadata_ptr\u001b[0m\u001b[0;34m)\u001b[0m\u001b[0;34m\u001b[0m\u001b[0m\n",
      "\u001b[0;32m/usr/local/lib/python3.5/dist-packages/tensorflow/python/client/session.py\u001b[0m in \u001b[0;36m_run\u001b[0;34m(self, handle, fetches, feed_dict, options, run_metadata)\u001b[0m\n\u001b[1;32m   1150\u001b[0m     \u001b[0;32mif\u001b[0m \u001b[0mfinal_fetches\u001b[0m \u001b[0;32mor\u001b[0m \u001b[0mfinal_targets\u001b[0m \u001b[0;32mor\u001b[0m \u001b[0;34m(\u001b[0m\u001b[0mhandle\u001b[0m \u001b[0;32mand\u001b[0m \u001b[0mfeed_dict_tensor\u001b[0m\u001b[0;34m)\u001b[0m\u001b[0;34m:\u001b[0m\u001b[0;34m\u001b[0m\u001b[0m\n\u001b[1;32m   1151\u001b[0m       results = self._do_run(handle, final_targets, final_fetches,\n\u001b[0;32m-> 1152\u001b[0;31m                              feed_dict_tensor, options, run_metadata)\n\u001b[0m\u001b[1;32m   1153\u001b[0m     \u001b[0;32melse\u001b[0m\u001b[0;34m:\u001b[0m\u001b[0;34m\u001b[0m\u001b[0m\n\u001b[1;32m   1154\u001b[0m       \u001b[0mresults\u001b[0m \u001b[0;34m=\u001b[0m \u001b[0;34m[\u001b[0m\u001b[0;34m]\u001b[0m\u001b[0;34m\u001b[0m\u001b[0m\n",
      "\u001b[0;32m/usr/local/lib/python3.5/dist-packages/tensorflow/python/client/session.py\u001b[0m in \u001b[0;36m_do_run\u001b[0;34m(self, handle, target_list, fetch_list, feed_dict, options, run_metadata)\u001b[0m\n\u001b[1;32m   1326\u001b[0m     \u001b[0;32mif\u001b[0m \u001b[0mhandle\u001b[0m \u001b[0;32mis\u001b[0m \u001b[0;32mNone\u001b[0m\u001b[0;34m:\u001b[0m\u001b[0;34m\u001b[0m\u001b[0m\n\u001b[1;32m   1327\u001b[0m       return self._do_call(_run_fn, feeds, fetches, targets, options,\n\u001b[0;32m-> 1328\u001b[0;31m                            run_metadata)\n\u001b[0m\u001b[1;32m   1329\u001b[0m     \u001b[0;32melse\u001b[0m\u001b[0;34m:\u001b[0m\u001b[0;34m\u001b[0m\u001b[0m\n\u001b[1;32m   1330\u001b[0m       \u001b[0;32mreturn\u001b[0m \u001b[0mself\u001b[0m\u001b[0;34m.\u001b[0m\u001b[0m_do_call\u001b[0m\u001b[0;34m(\u001b[0m\u001b[0m_prun_fn\u001b[0m\u001b[0;34m,\u001b[0m \u001b[0mhandle\u001b[0m\u001b[0;34m,\u001b[0m \u001b[0mfeeds\u001b[0m\u001b[0;34m,\u001b[0m \u001b[0mfetches\u001b[0m\u001b[0;34m)\u001b[0m\u001b[0;34m\u001b[0m\u001b[0m\n",
      "\u001b[0;32m/usr/local/lib/python3.5/dist-packages/tensorflow/python/client/session.py\u001b[0m in \u001b[0;36m_do_call\u001b[0;34m(self, fn, *args)\u001b[0m\n\u001b[1;32m   1332\u001b[0m   \u001b[0;32mdef\u001b[0m \u001b[0m_do_call\u001b[0m\u001b[0;34m(\u001b[0m\u001b[0mself\u001b[0m\u001b[0;34m,\u001b[0m \u001b[0mfn\u001b[0m\u001b[0;34m,\u001b[0m \u001b[0;34m*\u001b[0m\u001b[0margs\u001b[0m\u001b[0;34m)\u001b[0m\u001b[0;34m:\u001b[0m\u001b[0;34m\u001b[0m\u001b[0m\n\u001b[1;32m   1333\u001b[0m     \u001b[0;32mtry\u001b[0m\u001b[0;34m:\u001b[0m\u001b[0;34m\u001b[0m\u001b[0m\n\u001b[0;32m-> 1334\u001b[0;31m       \u001b[0;32mreturn\u001b[0m \u001b[0mfn\u001b[0m\u001b[0;34m(\u001b[0m\u001b[0;34m*\u001b[0m\u001b[0margs\u001b[0m\u001b[0;34m)\u001b[0m\u001b[0;34m\u001b[0m\u001b[0m\n\u001b[0m\u001b[1;32m   1335\u001b[0m     \u001b[0;32mexcept\u001b[0m \u001b[0merrors\u001b[0m\u001b[0;34m.\u001b[0m\u001b[0mOpError\u001b[0m \u001b[0;32mas\u001b[0m \u001b[0me\u001b[0m\u001b[0;34m:\u001b[0m\u001b[0;34m\u001b[0m\u001b[0m\n\u001b[1;32m   1336\u001b[0m       \u001b[0mmessage\u001b[0m \u001b[0;34m=\u001b[0m \u001b[0mcompat\u001b[0m\u001b[0;34m.\u001b[0m\u001b[0mas_text\u001b[0m\u001b[0;34m(\u001b[0m\u001b[0me\u001b[0m\u001b[0;34m.\u001b[0m\u001b[0mmessage\u001b[0m\u001b[0;34m)\u001b[0m\u001b[0;34m\u001b[0m\u001b[0m\n",
      "\u001b[0;32m/usr/local/lib/python3.5/dist-packages/tensorflow/python/client/session.py\u001b[0m in \u001b[0;36m_run_fn\u001b[0;34m(feed_dict, fetch_list, target_list, options, run_metadata)\u001b[0m\n\u001b[1;32m   1317\u001b[0m       \u001b[0mself\u001b[0m\u001b[0;34m.\u001b[0m\u001b[0m_extend_graph\u001b[0m\u001b[0;34m(\u001b[0m\u001b[0;34m)\u001b[0m\u001b[0;34m\u001b[0m\u001b[0m\n\u001b[1;32m   1318\u001b[0m       return self._call_tf_sessionrun(\n\u001b[0;32m-> 1319\u001b[0;31m           options, feed_dict, fetch_list, target_list, run_metadata)\n\u001b[0m\u001b[1;32m   1320\u001b[0m \u001b[0;34m\u001b[0m\u001b[0m\n\u001b[1;32m   1321\u001b[0m     \u001b[0;32mdef\u001b[0m \u001b[0m_prun_fn\u001b[0m\u001b[0;34m(\u001b[0m\u001b[0mhandle\u001b[0m\u001b[0;34m,\u001b[0m \u001b[0mfeed_dict\u001b[0m\u001b[0;34m,\u001b[0m \u001b[0mfetch_list\u001b[0m\u001b[0;34m)\u001b[0m\u001b[0;34m:\u001b[0m\u001b[0;34m\u001b[0m\u001b[0m\n",
      "\u001b[0;32m/usr/local/lib/python3.5/dist-packages/tensorflow/python/client/session.py\u001b[0m in \u001b[0;36m_call_tf_sessionrun\u001b[0;34m(self, options, feed_dict, fetch_list, target_list, run_metadata)\u001b[0m\n\u001b[1;32m   1405\u001b[0m     return tf_session.TF_SessionRun_wrapper(\n\u001b[1;32m   1406\u001b[0m         \u001b[0mself\u001b[0m\u001b[0;34m.\u001b[0m\u001b[0m_session\u001b[0m\u001b[0;34m,\u001b[0m \u001b[0moptions\u001b[0m\u001b[0;34m,\u001b[0m \u001b[0mfeed_dict\u001b[0m\u001b[0;34m,\u001b[0m \u001b[0mfetch_list\u001b[0m\u001b[0;34m,\u001b[0m \u001b[0mtarget_list\u001b[0m\u001b[0;34m,\u001b[0m\u001b[0;34m\u001b[0m\u001b[0m\n\u001b[0;32m-> 1407\u001b[0;31m         run_metadata)\n\u001b[0m\u001b[1;32m   1408\u001b[0m \u001b[0;34m\u001b[0m\u001b[0m\n\u001b[1;32m   1409\u001b[0m   \u001b[0;32mdef\u001b[0m \u001b[0m_call_tf_sessionprun\u001b[0m\u001b[0;34m(\u001b[0m\u001b[0mself\u001b[0m\u001b[0;34m,\u001b[0m \u001b[0mhandle\u001b[0m\u001b[0;34m,\u001b[0m \u001b[0mfeed_dict\u001b[0m\u001b[0;34m,\u001b[0m \u001b[0mfetch_list\u001b[0m\u001b[0;34m)\u001b[0m\u001b[0;34m:\u001b[0m\u001b[0;34m\u001b[0m\u001b[0m\n",
      "\u001b[0;31mKeyboardInterrupt\u001b[0m: "
     ]
    }
   ],
   "source": [
    "with tf.Session(config=config) as sess:\n",
    "    sess.run(init)\n",
    "    epochs = 20\n",
    "\n",
    "    batch_cnt = 0\n",
    "    for epoch in range(epochs):\n",
    "        for batch_data, batch_labels in train_data.next_batch():\n",
    "            batch_cnt += 1\n",
    "            loss_val, acc_val, _ = sess.run(\n",
    "                [loss, accuracy, train_op],\n",
    "                feed_dict={\n",
    "                    X: batch_data,\n",
    "                    Y: batch_labels})\n",
    "\n",
    "            # 每1000batch输出一次信息\n",
    "            if (batch_cnt+1) % 1000 == 0:\n",
    "                print('epoch: {}, batch_loss: {}, batch_acc: {}'.format(\n",
    "                    epoch, loss_val, acc_val))\n",
    "\n",
    "            # 每5000batch做一次验证\n",
    "            if (batch_cnt+1) % 5000 == 0:\n",
    "                all_test_acc_val = list()\n",
    "                for test_batch_data, test_batch_labels in test_data.next_batch():\n",
    "                    test_acc_val = sess.run(\n",
    "                        [accuracy],\n",
    "                        feed_dict={\n",
    "                            X: test_batch_data,\n",
    "                            Y: test_batch_labels\n",
    "                        })\n",
    "                    all_test_acc_val.append(test_acc_val)\n",
    "                test_acc = np.mean(all_test_acc_val)\n",
    "                print('epoch: {}, test_acc: {}'.format(epoch, test_acc))"
   ]
  },
  {
   "cell_type": "code",
   "execution_count": null,
   "metadata": {},
   "outputs": [],
   "source": []
  }
 ],
 "metadata": {
  "hide_input": false,
  "kernelspec": {
   "display_name": "Python 3",
   "language": "python",
   "name": "python3"
  },
  "language_info": {
   "codemirror_mode": {
    "name": "ipython",
    "version": 3
   },
   "file_extension": ".py",
   "mimetype": "text/x-python",
   "name": "python",
   "nbconvert_exporter": "python",
   "pygments_lexer": "ipython3",
   "version": "3.5.2"
  },
  "toc": {
   "base_numbering": 1,
   "nav_menu": {},
   "number_sections": true,
   "sideBar": true,
   "skip_h1_title": false,
   "title_cell": "Table of Contents",
   "title_sidebar": "Contents",
   "toc_cell": false,
   "toc_position": {},
   "toc_section_display": true,
   "toc_window_display": false
  }
 },
 "nbformat": 4,
 "nbformat_minor": 2
}
