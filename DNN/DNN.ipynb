{
 "cells": [
  {
   "cell_type": "code",
   "execution_count": 1,
   "metadata": {},
   "outputs": [],
   "source": [
    "import tensorflow as tf\n",
    "import numpy as np\n",
    "from sklearn.preprocessing import MinMaxScaler\n",
    "from sklearn.model_selection import train_test_split"
   ]
  },
  {
   "cell_type": "markdown",
   "metadata": {},
   "source": [
    "# Regression\n",
    "\n",
    "## 数据读取与处理"
   ]
  },
  {
   "cell_type": "code",
   "execution_count": 2,
   "metadata": {},
   "outputs": [
    {
     "name": "stdout",
     "output_type": "stream",
     "text": [
      "(430, 13) (430,) (76, 13) (76,)\n"
     ]
    }
   ],
   "source": [
    "from sklearn.datasets import load_boston\n",
    "\n",
    "data = load_boston()\n",
    "X = data.data\n",
    "Y = data.target\n",
    "\n",
    "scaler=MinMaxScaler()\n",
    "X_sca=scaler.fit_transform(X)\n",
    "\n",
    "X_train,X_val,Y_train,Y_val=train_test_split(X_sca,Y,test_size=0.15)\n",
    "\n",
    "print(X_train.shape, Y_train.shape,X_val.shape,Y_val.shape)"
   ]
  },
  {
   "cell_type": "markdown",
   "metadata": {},
   "source": [
    "## 网络结构设计"
   ]
  },
  {
   "cell_type": "code",
   "execution_count": 3,
   "metadata": {},
   "outputs": [],
   "source": [
    "# 神经网络编程有一点与SKlearn不一样，就是需要提前设计好网络的结构，每一层的参数都跟其输入有关\n",
    "# 输入层单元数为13(数据特征)，设计隐藏层单元数为5，输出单元数为1(回归任务)\n",
    "\n",
    "unit_I = X_train.shape[1]\n",
    "unit_1 = 5\n",
    "unit_O = 1"
   ]
  },
  {
   "cell_type": "markdown",
   "metadata": {},
   "source": [
    "## 搭建网络"
   ]
  },
  {
   "cell_type": "code",
   "execution_count": 8,
   "metadata": {},
   "outputs": [],
   "source": [
    "# 为了便于添加层数，将其封装起来\n",
    "def add_layer(inputs,units_I,units_O,act_func=tf.nn.relu,layer_name=None):\n",
    "    w = tf.Variable(tf.random_normal(shape=[units_I, units_O]))\n",
    "    b = tf.Variable(tf.zeros([1, units_O]))\n",
    "    try:\n",
    "        out = act_func(tf.matmul(inputs, w)+b)\n",
    "    except Exception as e:\n",
    "        print(e)\n",
    "    return out"
   ]
  },
  {
   "cell_type": "code",
   "execution_count": 9,
   "metadata": {},
   "outputs": [],
   "source": [
    "# 输入必须是可由用户指定的，所以设为placeholder\n",
    "X = tf.placeholder(tf.float32, shape=[None, unit_I])\n",
    "Y = tf.placeholder(tf.float32, shape=(None))    # 目标值为一维向量\n",
    "\n",
    "# 网络结构子图\n",
    "with tf.name_scope('DNN'):\n",
    "    a1 = add_layer(X, unit_I, unit_1)\n",
    "    Y_pred = add_layer(a1, unit_1, unit_O)\n",
    "\n",
    "# 目标函数子图\n",
    "with tf.name_scope('Loss'):\n",
    "    MSE = tf.reduce_mean(tf.squared_difference(Y, Y_pred))\n",
    "\n",
    "# optimization子图\n",
    "lr = 0.01\n",
    "with tf.name_scope('Train'):\n",
    "    opt = tf.train.GradientDescentOptimizer(lr).minimize(MSE)    # GD优化器\n",
    "\n",
    "init = tf.global_variables_initializer()    # 所有变量初始化"
   ]
  },
  {
   "cell_type": "markdown",
   "metadata": {},
   "source": [
    "## 训练网络"
   ]
  },
  {
   "cell_type": "code",
   "execution_count": null,
   "metadata": {},
   "outputs": [],
   "source": [
    "# 计算图已经构建好，开启一个tf会话，需要计算哪个值就run哪个变量即可\n",
    "with tf.Session() as sess:\n",
    "    sess.run(init)\n",
    "    train_iter = 1000\n",
    "\n",
    "    for i in range(train_iter):\n",
    "        sess.run(opt, feed_dict={X: X_train, Y: Y_train})\n",
    "        if i % 100 == 0:\n",
    "            mse_train = sess.run(MSE, feed_dict={X: X_train, Y: Y_train})\n",
    "            print('train_iter: {}\\tMSE:{}'.format(i, mse_train))\n",
    "\n",
    "    mse_val = sess.run(MSE, feed_dict={X: X_val, Y: Y_val})\n",
    "    \n",
    "    # 另一种计算方式，因为tf计算出来的pred是一个二维数组，需要squeeze一下\n",
    "#     pred = sess.run(Y_pred, feed_dict={X: X_val})\n",
    "#     mse_val=np.sum(np.square(np.squeeze(pred)-Y_val))/len(Y_val)\n",
    "    \n",
    "    print('test_MSE: {}'.format(mse_val))"
   ]
  },
  {
   "cell_type": "markdown",
   "metadata": {},
   "source": [
    "# Binary classification"
   ]
  },
  {
   "cell_type": "code",
   "execution_count": 6,
   "metadata": {},
   "outputs": [],
   "source": [
    "# from sklearn.datasets import load_breast_cancer\n",
    "\n",
    "# data = load_breast_cancer()\n",
    "# X = data.data\n",
    "# Y = data.target\n",
    "\n",
    "# scaler=MinMaxScaler()\n",
    "# X_sca=scaler.fit_transform(X)\n",
    "\n",
    "# X_train,X_val,Y_train,Y_val=train_test_split(X_sca,Y,test_size=0.15)\n",
    "\n",
    "# print(X_train.shape, Y_train.shape,X_val.shape,Y_val.shape)"
   ]
  },
  {
   "cell_type": "markdown",
   "metadata": {},
   "source": [
    "# Multi classification"
   ]
  },
  {
   "cell_type": "code",
   "execution_count": null,
   "metadata": {},
   "outputs": [],
   "source": []
  }
 ],
 "metadata": {
  "hide_input": false,
  "kernelspec": {
   "display_name": "Python 3",
   "language": "python",
   "name": "python3"
  },
  "language_info": {
   "codemirror_mode": {
    "name": "ipython",
    "version": 3
   },
   "file_extension": ".py",
   "mimetype": "text/x-python",
   "name": "python",
   "nbconvert_exporter": "python",
   "pygments_lexer": "ipython3",
   "version": "3.6.6"
  },
  "toc": {
   "base_numbering": 1,
   "nav_menu": {},
   "number_sections": true,
   "sideBar": true,
   "skip_h1_title": false,
   "title_cell": "Table of Contents",
   "title_sidebar": "Contents",
   "toc_cell": false,
   "toc_position": {},
   "toc_section_display": true,
   "toc_window_display": false
  }
 },
 "nbformat": 4,
 "nbformat_minor": 2
}
